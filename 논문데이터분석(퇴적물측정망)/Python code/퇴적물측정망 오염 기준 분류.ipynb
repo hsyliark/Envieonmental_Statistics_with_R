{
 "cells": [
  {
   "cell_type": "code",
   "execution_count": 2,
   "id": "cd7e4716",
   "metadata": {},
   "outputs": [],
   "source": [
    "import numpy as np\n",
    "import pandas as pd\n",
    "import matplotlib.pyplot as plt\n",
    "import seaborn as sns\n",
    "import scipy as sc\n",
    "import random\n",
    "import time"
   ]
  },
  {
   "cell_type": "code",
   "execution_count": 3,
   "id": "55a49486",
   "metadata": {},
   "outputs": [],
   "source": [
    "## Loading data\n",
    "sediment = pd.read_csv('C:/Users/User/Desktop/sediment_read.csv', encoding='cp949')"
   ]
  },
  {
   "cell_type": "code",
   "execution_count": 4,
   "id": "65bb5e7f",
   "metadata": {},
   "outputs": [],
   "source": [
    "sediment = sediment.dropna(axis=0).dropna(axis=1)"
   ]
  },
  {
   "cell_type": "code",
   "execution_count": 5,
   "id": "b3d5d36a",
   "metadata": {},
   "outputs": [
    {
     "data": {
      "text/html": [
       "<div>\n",
       "<style scoped>\n",
       "    .dataframe tbody tr th:only-of-type {\n",
       "        vertical-align: middle;\n",
       "    }\n",
       "\n",
       "    .dataframe tbody tr th {\n",
       "        vertical-align: top;\n",
       "    }\n",
       "\n",
       "    .dataframe thead th {\n",
       "        text-align: right;\n",
       "    }\n",
       "</style>\n",
       "<table border=\"1\" class=\"dataframe\">\n",
       "  <thead>\n",
       "    <tr style=\"text-align: right;\">\n",
       "      <th></th>\n",
       "      <th>region</th>\n",
       "      <th>spot</th>\n",
       "      <th>year</th>\n",
       "      <th>month</th>\n",
       "      <th>day</th>\n",
       "      <th>half</th>\n",
       "      <th>pollution</th>\n",
       "      <th>depth</th>\n",
       "      <th>WT</th>\n",
       "      <th>DO</th>\n",
       "      <th>...</th>\n",
       "      <th>Pb</th>\n",
       "      <th>Zn</th>\n",
       "      <th>Cu</th>\n",
       "      <th>Cr</th>\n",
       "      <th>Ni</th>\n",
       "      <th>As</th>\n",
       "      <th>Cd</th>\n",
       "      <th>Hg</th>\n",
       "      <th>Al</th>\n",
       "      <th>Li</th>\n",
       "    </tr>\n",
       "  </thead>\n",
       "  <tbody>\n",
       "    <tr>\n",
       "      <th>0</th>\n",
       "      <td>Nakdong</td>\n",
       "      <td>거창위천2</td>\n",
       "      <td>2015</td>\n",
       "      <td>3</td>\n",
       "      <td>30</td>\n",
       "      <td>first</td>\n",
       "      <td>slightlybad</td>\n",
       "      <td>0.5</td>\n",
       "      <td>15</td>\n",
       "      <td>8.7</td>\n",
       "      <td>...</td>\n",
       "      <td>19.9</td>\n",
       "      <td>55.0</td>\n",
       "      <td>11.5</td>\n",
       "      <td>21.6</td>\n",
       "      <td>3.2</td>\n",
       "      <td>1.5</td>\n",
       "      <td>0.10</td>\n",
       "      <td>0.091</td>\n",
       "      <td>9.35</td>\n",
       "      <td>14.6</td>\n",
       "    </tr>\n",
       "    <tr>\n",
       "      <th>1</th>\n",
       "      <td>Geum</td>\n",
       "      <td>곡교천2</td>\n",
       "      <td>2015</td>\n",
       "      <td>3</td>\n",
       "      <td>31</td>\n",
       "      <td>first</td>\n",
       "      <td>slightlybad</td>\n",
       "      <td>1.0</td>\n",
       "      <td>16</td>\n",
       "      <td>6.3</td>\n",
       "      <td>...</td>\n",
       "      <td>29.6</td>\n",
       "      <td>259.9</td>\n",
       "      <td>104.9</td>\n",
       "      <td>90.4</td>\n",
       "      <td>35.0</td>\n",
       "      <td>6.7</td>\n",
       "      <td>0.55</td>\n",
       "      <td>0.093</td>\n",
       "      <td>10.77</td>\n",
       "      <td>33.9</td>\n",
       "    </tr>\n",
       "    <tr>\n",
       "      <th>2</th>\n",
       "      <td>Yeongsan</td>\n",
       "      <td>곡성</td>\n",
       "      <td>2015</td>\n",
       "      <td>3</td>\n",
       "      <td>26</td>\n",
       "      <td>first</td>\n",
       "      <td>normal</td>\n",
       "      <td>0.7</td>\n",
       "      <td>15</td>\n",
       "      <td>12.5</td>\n",
       "      <td>...</td>\n",
       "      <td>28.9</td>\n",
       "      <td>127.5</td>\n",
       "      <td>24.7</td>\n",
       "      <td>32.9</td>\n",
       "      <td>14.5</td>\n",
       "      <td>7.9</td>\n",
       "      <td>0.24</td>\n",
       "      <td>0.048</td>\n",
       "      <td>7.70</td>\n",
       "      <td>77.5</td>\n",
       "    </tr>\n",
       "    <tr>\n",
       "      <th>3</th>\n",
       "      <td>Nakdong</td>\n",
       "      <td>곤양천</td>\n",
       "      <td>2015</td>\n",
       "      <td>3</td>\n",
       "      <td>23</td>\n",
       "      <td>first</td>\n",
       "      <td>slightlybad</td>\n",
       "      <td>1.0</td>\n",
       "      <td>13</td>\n",
       "      <td>10.3</td>\n",
       "      <td>...</td>\n",
       "      <td>10.3</td>\n",
       "      <td>77.1</td>\n",
       "      <td>15.8</td>\n",
       "      <td>251.8</td>\n",
       "      <td>17.3</td>\n",
       "      <td>3.2</td>\n",
       "      <td>0.10</td>\n",
       "      <td>0.013</td>\n",
       "      <td>6.51</td>\n",
       "      <td>15.5</td>\n",
       "    </tr>\n",
       "    <tr>\n",
       "      <th>4</th>\n",
       "      <td>Yeongsan</td>\n",
       "      <td>광양서천</td>\n",
       "      <td>2015</td>\n",
       "      <td>3</td>\n",
       "      <td>30</td>\n",
       "      <td>first</td>\n",
       "      <td>slightlybad</td>\n",
       "      <td>0.7</td>\n",
       "      <td>16</td>\n",
       "      <td>11.1</td>\n",
       "      <td>...</td>\n",
       "      <td>44.1</td>\n",
       "      <td>237.7</td>\n",
       "      <td>45.1</td>\n",
       "      <td>45.7</td>\n",
       "      <td>20.6</td>\n",
       "      <td>10.0</td>\n",
       "      <td>0.58</td>\n",
       "      <td>0.041</td>\n",
       "      <td>9.36</td>\n",
       "      <td>34.3</td>\n",
       "    </tr>\n",
       "    <tr>\n",
       "      <th>...</th>\n",
       "      <td>...</td>\n",
       "      <td>...</td>\n",
       "      <td>...</td>\n",
       "      <td>...</td>\n",
       "      <td>...</td>\n",
       "      <td>...</td>\n",
       "      <td>...</td>\n",
       "      <td>...</td>\n",
       "      <td>...</td>\n",
       "      <td>...</td>\n",
       "      <td>...</td>\n",
       "      <td>...</td>\n",
       "      <td>...</td>\n",
       "      <td>...</td>\n",
       "      <td>...</td>\n",
       "      <td>...</td>\n",
       "      <td>...</td>\n",
       "      <td>...</td>\n",
       "      <td>...</td>\n",
       "      <td>...</td>\n",
       "      <td>...</td>\n",
       "    </tr>\n",
       "    <tr>\n",
       "      <th>3201</th>\n",
       "      <td>Nakdong</td>\n",
       "      <td>연초댐1</td>\n",
       "      <td>2022</td>\n",
       "      <td>6</td>\n",
       "      <td>15</td>\n",
       "      <td>first</td>\n",
       "      <td>slightlybad</td>\n",
       "      <td>13.0</td>\n",
       "      <td>23</td>\n",
       "      <td>9.6</td>\n",
       "      <td>...</td>\n",
       "      <td>20.7</td>\n",
       "      <td>122.3</td>\n",
       "      <td>36.7</td>\n",
       "      <td>45.8</td>\n",
       "      <td>19.9</td>\n",
       "      <td>7.6</td>\n",
       "      <td>0.29</td>\n",
       "      <td>0.078</td>\n",
       "      <td>7.12</td>\n",
       "      <td>70.0</td>\n",
       "    </tr>\n",
       "    <tr>\n",
       "      <th>3202</th>\n",
       "      <td>Nakdong</td>\n",
       "      <td>영주댐1</td>\n",
       "      <td>2022</td>\n",
       "      <td>6</td>\n",
       "      <td>17</td>\n",
       "      <td>first</td>\n",
       "      <td>slightlybad</td>\n",
       "      <td>21.0</td>\n",
       "      <td>22</td>\n",
       "      <td>8.5</td>\n",
       "      <td>...</td>\n",
       "      <td>26.7</td>\n",
       "      <td>160.5</td>\n",
       "      <td>21.5</td>\n",
       "      <td>44.4</td>\n",
       "      <td>15.1</td>\n",
       "      <td>9.8</td>\n",
       "      <td>0.21</td>\n",
       "      <td>0.079</td>\n",
       "      <td>8.62</td>\n",
       "      <td>86.2</td>\n",
       "    </tr>\n",
       "    <tr>\n",
       "      <th>3203</th>\n",
       "      <td>Nakdong</td>\n",
       "      <td>영주댐2</td>\n",
       "      <td>2022</td>\n",
       "      <td>6</td>\n",
       "      <td>17</td>\n",
       "      <td>first</td>\n",
       "      <td>slightlybad</td>\n",
       "      <td>9.0</td>\n",
       "      <td>23</td>\n",
       "      <td>9.8</td>\n",
       "      <td>...</td>\n",
       "      <td>30.3</td>\n",
       "      <td>195.4</td>\n",
       "      <td>31.0</td>\n",
       "      <td>44.3</td>\n",
       "      <td>17.8</td>\n",
       "      <td>13.4</td>\n",
       "      <td>0.25</td>\n",
       "      <td>0.101</td>\n",
       "      <td>9.54</td>\n",
       "      <td>95.0</td>\n",
       "    </tr>\n",
       "    <tr>\n",
       "      <th>3204</th>\n",
       "      <td>Nakdong</td>\n",
       "      <td>영주댐3</td>\n",
       "      <td>2022</td>\n",
       "      <td>6</td>\n",
       "      <td>17</td>\n",
       "      <td>first</td>\n",
       "      <td>slightlybad</td>\n",
       "      <td>9.0</td>\n",
       "      <td>24</td>\n",
       "      <td>15.6</td>\n",
       "      <td>...</td>\n",
       "      <td>23.9</td>\n",
       "      <td>208.4</td>\n",
       "      <td>23.9</td>\n",
       "      <td>40.9</td>\n",
       "      <td>15.8</td>\n",
       "      <td>7.8</td>\n",
       "      <td>0.22</td>\n",
       "      <td>0.070</td>\n",
       "      <td>9.86</td>\n",
       "      <td>77.0</td>\n",
       "    </tr>\n",
       "    <tr>\n",
       "      <th>3205</th>\n",
       "      <td>Yeongsan</td>\n",
       "      <td>평림댐</td>\n",
       "      <td>2022</td>\n",
       "      <td>6</td>\n",
       "      <td>10</td>\n",
       "      <td>first</td>\n",
       "      <td>slightlybad</td>\n",
       "      <td>16.0</td>\n",
       "      <td>22</td>\n",
       "      <td>9.4</td>\n",
       "      <td>...</td>\n",
       "      <td>31.9</td>\n",
       "      <td>124.0</td>\n",
       "      <td>28.5</td>\n",
       "      <td>60.8</td>\n",
       "      <td>29.1</td>\n",
       "      <td>10.7</td>\n",
       "      <td>0.26</td>\n",
       "      <td>0.073</td>\n",
       "      <td>8.28</td>\n",
       "      <td>91.3</td>\n",
       "    </tr>\n",
       "  </tbody>\n",
       "</table>\n",
       "<p>3205 rows × 32 columns</p>\n",
       "</div>"
      ],
      "text/plain": [
       "        region   spot  year  month  day   half    pollution  depth  WT    DO  \\\n",
       "0      Nakdong  거창위천2  2015      3   30  first  slightlybad    0.5  15   8.7   \n",
       "1         Geum   곡교천2  2015      3   31  first  slightlybad    1.0  16   6.3   \n",
       "2     Yeongsan     곡성  2015      3   26  first       normal    0.7  15  12.5   \n",
       "3      Nakdong    곤양천  2015      3   23  first  slightlybad    1.0  13  10.3   \n",
       "4     Yeongsan   광양서천  2015      3   30  first  slightlybad    0.7  16  11.1   \n",
       "...        ...    ...   ...    ...  ...    ...          ...    ...  ..   ...   \n",
       "3201   Nakdong   연초댐1  2022      6   15  first  slightlybad   13.0  23   9.6   \n",
       "3202   Nakdong   영주댐1  2022      6   17  first  slightlybad   21.0  22   8.5   \n",
       "3203   Nakdong   영주댐2  2022      6   17  first  slightlybad    9.0  23   9.8   \n",
       "3204   Nakdong   영주댐3  2022      6   17  first  slightlybad    9.0  24  15.6   \n",
       "3205  Yeongsan    평림댐  2022      6   10  first  slightlybad   16.0  22   9.4   \n",
       "\n",
       "      ...    Pb     Zn     Cu     Cr    Ni    As    Cd     Hg     Al    Li  \n",
       "0     ...  19.9   55.0   11.5   21.6   3.2   1.5  0.10  0.091   9.35  14.6  \n",
       "1     ...  29.6  259.9  104.9   90.4  35.0   6.7  0.55  0.093  10.77  33.9  \n",
       "2     ...  28.9  127.5   24.7   32.9  14.5   7.9  0.24  0.048   7.70  77.5  \n",
       "3     ...  10.3   77.1   15.8  251.8  17.3   3.2  0.10  0.013   6.51  15.5  \n",
       "4     ...  44.1  237.7   45.1   45.7  20.6  10.0  0.58  0.041   9.36  34.3  \n",
       "...   ...   ...    ...    ...    ...   ...   ...   ...    ...    ...   ...  \n",
       "3201  ...  20.7  122.3   36.7   45.8  19.9   7.6  0.29  0.078   7.12  70.0  \n",
       "3202  ...  26.7  160.5   21.5   44.4  15.1   9.8  0.21  0.079   8.62  86.2  \n",
       "3203  ...  30.3  195.4   31.0   44.3  17.8  13.4  0.25  0.101   9.54  95.0  \n",
       "3204  ...  23.9  208.4   23.9   40.9  15.8   7.8  0.22  0.070   9.86  77.0  \n",
       "3205  ...  31.9  124.0   28.5   60.8  29.1  10.7  0.26  0.073   8.28  91.3  \n",
       "\n",
       "[3205 rows x 32 columns]"
      ]
     },
     "execution_count": 5,
     "metadata": {},
     "output_type": "execute_result"
    }
   ],
   "source": [
    "sediment"
   ]
  },
  {
   "cell_type": "code",
   "execution_count": 6,
   "id": "857fd965",
   "metadata": {},
   "outputs": [],
   "source": [
    "## Divide train and test\n",
    "sediment_train_x = sediment.loc[(sediment.year != 2021) & (sediment.year != 2022),:].iloc[:,range(7,32)]\n",
    "sediment_train_y = sediment.loc[(sediment.year != 2021) & (sediment.year != 2022),:].iloc[:,6]\n",
    "sediment_test_x = sediment.loc[(sediment.year == 2021) | (sediment.year == 2022),:].iloc[:,range(7,32)]\n",
    "sediment_test_y = sediment.loc[(sediment.year == 2021) | (sediment.year == 2022),:].iloc[:,6]\n",
    "\n",
    "Han = sediment.loc[sediment.region == \"Han\",:]\n",
    "Han_train_x = Han.loc[(Han.year != 2021) & (Han.year != 2022),:].iloc[:,range(7,32)]\n",
    "Han_train_y = Han.loc[(Han.year != 2021) & (Han.year != 2022),:].iloc[:,6]\n",
    "Han_test_x = Han.loc[(Han.year == 2021) | (Han.year == 2022),:].iloc[:,range(7,32)]\n",
    "Han_test_y = Han.loc[(Han.year == 2021) | (Han.year == 2022),:].iloc[:,6]\n",
    "\n",
    "Nakdong = sediment.loc[sediment.region == \"Nakdong\",:]\n",
    "Nakdong_train_x = Nakdong.loc[(Nakdong.year != 2021) & (Nakdong.year != 2022),:].iloc[:,range(7,32)]\n",
    "Nakdong_train_y = Nakdong.loc[(Nakdong.year != 2021) & (Nakdong.year != 2022),:].iloc[:,6]\n",
    "Nakdong_test_x = Nakdong.loc[(Nakdong.year == 2021) | (Nakdong.year == 2022),:].iloc[:,range(7,32)]\n",
    "Nakdong_test_y = Nakdong.loc[(Nakdong.year == 2021) | (Nakdong.year == 2022),:].iloc[:,6]\n",
    "\n",
    "Geum = sediment.loc[sediment.region == \"Geum\",:]\n",
    "Geum_train_x = Geum.loc[(Geum.year != 2021) & (Geum.year != 2022),:].iloc[:,range(7,32)]\n",
    "Geum_train_y = Geum.loc[(Geum.year != 2021) & (Geum.year != 2022),:].iloc[:,6]\n",
    "Geum_test_x = Geum.loc[(Geum.year == 2021) | (Geum.year == 2022),:].iloc[:,range(7,32)]\n",
    "Geum_test_y = Geum.loc[(Geum.year == 2021) | (Geum.year == 2022),:].iloc[:,6]\n",
    "\n",
    "Yeongsan = sediment.loc[sediment.region == \"Yeongsan\",:]\n",
    "Yeongsan_train_x = Yeongsan.loc[(Yeongsan.year != 2021) & (Yeongsan.year != 2022),:].iloc[:,range(7,32)]\n",
    "Yeongsan_train_y = Yeongsan.loc[(Yeongsan.year != 2021) & (Yeongsan.year != 2022),:].iloc[:,6]\n",
    "Yeongsan_test_x = Yeongsan.loc[(Yeongsan.year == 2021) | (Yeongsan.year == 2022),:].iloc[:,range(7,32)]\n",
    "Yeongsan_test_y = Yeongsan.loc[(Yeongsan.year == 2021) | (Yeongsan.year == 2022),:].iloc[:,6]"
   ]
  },
  {
   "cell_type": "code",
   "execution_count": 77,
   "id": "57cfbe78",
   "metadata": {},
   "outputs": [],
   "source": []
  },
  {
   "cell_type": "code",
   "execution_count": 10,
   "id": "927bd538",
   "metadata": {},
   "outputs": [],
   "source": []
  },
  {
   "cell_type": "code",
   "execution_count": 29,
   "id": "6b777705",
   "metadata": {},
   "outputs": [],
   "source": []
  },
  {
   "cell_type": "code",
   "execution_count": 7,
   "id": "c6da241f",
   "metadata": {},
   "outputs": [
    {
     "data": {
      "text/plain": [
       "0       2\n",
       "1       2\n",
       "2       1\n",
       "3       2\n",
       "4       2\n",
       "       ..\n",
       "3201    2\n",
       "3202    2\n",
       "3203    2\n",
       "3204    2\n",
       "3205    2\n",
       "Name: encoded_pollution, Length: 3205, dtype: int32"
      ]
     },
     "execution_count": 7,
     "metadata": {},
     "output_type": "execute_result"
    }
   ],
   "source": [
    "### Label Encoder\n",
    "from sklearn.preprocessing import LabelEncoder\n",
    "\n",
    "encoder = LabelEncoder()\n",
    "sediment['encoded_pollution'] = encoder.fit_transform(sediment['pollution'])\n",
    "sediment['encoded_pollution']"
   ]
  },
  {
   "cell_type": "code",
   "execution_count": 8,
   "id": "94a2d331",
   "metadata": {},
   "outputs": [
    {
     "data": {
      "text/plain": [
       "array(['slightlybad', 'slightlybad', 'normal', ..., 'slightlybad',\n",
       "       'slightlybad', 'slightlybad'], dtype=object)"
      ]
     },
     "execution_count": 8,
     "metadata": {},
     "output_type": "execute_result"
    }
   ],
   "source": [
    "encoder.inverse_transform(sediment['encoded_pollution'])"
   ]
  },
  {
   "cell_type": "code",
   "execution_count": 9,
   "id": "d86572ab",
   "metadata": {},
   "outputs": [],
   "source": [
    "sediment_train_x = sediment.loc[(sediment.year != 2021) & (sediment.year != 2022),:].iloc[:,range(7,32)]\n",
    "sediment_train_y = sediment.loc[(sediment.year != 2021) & (sediment.year != 2022),:].iloc[:,6]\n",
    "sediment_encoded_train_y = sediment.loc[(sediment.year != 2021) & (sediment.year != 2022),:].iloc[:,32]\n",
    "sediment_test_x = sediment.loc[(sediment.year == 2021) | (sediment.year == 2022),:].iloc[:,range(7,32)]\n",
    "sediment_test_y = sediment.loc[(sediment.year == 2021) | (sediment.year == 2022),:].iloc[:,6]\n",
    "sediment_encoded_test_y = sediment.loc[(sediment.year == 2021) | (sediment.year == 2022),:].iloc[:,32]"
   ]
  },
  {
   "cell_type": "code",
   "execution_count": 78,
   "id": "a537466f",
   "metadata": {},
   "outputs": [
    {
     "name": "stdout",
     "output_type": "stream",
     "text": [
      "Requirement already satisfied: imbalanced-learn in c:\\users\\user\\anaconda3\\lib\\site-packages (0.11.0)\n",
      "Requirement already satisfied: scipy>=1.5.0 in c:\\users\\user\\anaconda3\\lib\\site-packages (from imbalanced-learn) (1.7.3)\n",
      "Requirement already satisfied: scikit-learn>=1.0.2 in c:\\users\\user\\anaconda3\\lib\\site-packages (from imbalanced-learn) (1.0.2)\n",
      "Requirement already satisfied: joblib>=1.1.1 in c:\\users\\user\\anaconda3\\lib\\site-packages (from imbalanced-learn) (1.3.2)\n",
      "Requirement already satisfied: threadpoolctl>=2.0.0 in c:\\users\\user\\anaconda3\\lib\\site-packages (from imbalanced-learn) (2.2.0)\n",
      "Requirement already satisfied: numpy>=1.17.3 in c:\\users\\user\\anaconda3\\lib\\site-packages (from imbalanced-learn) (1.22.4)\n"
     ]
    }
   ],
   "source": [
    "!pip install imbalanced-learn"
   ]
  },
  {
   "cell_type": "code",
   "execution_count": 26,
   "id": "9e57b3cb",
   "metadata": {},
   "outputs": [],
   "source": [
    "### Sampling for imbalanced data\n",
    "import numpy as np\n",
    "import pandas as pd\n",
    "\n",
    "from sklearn.datasets import make_classification\n",
    "from collections import Counter\n",
    "\n",
    "from matplotlib import pyplot as plt\n",
    "import seaborn as sns\n",
    "\n",
    "from imblearn.under_sampling import RandomUnderSampler, EditedNearestNeighbours \n",
    "from imblearn.over_sampling import RandomOverSampler, SMOTE, BorderlineSMOTE, ADASYN\n",
    "from imblearn.combine import SMOTEENN, SMOTETomek"
   ]
  },
  {
   "cell_type": "code",
   "execution_count": 56,
   "id": "ce1c0289",
   "metadata": {},
   "outputs": [],
   "source": [
    "# SMOTE\n",
    "sm_sample = SMOTE(random_state=42) \n",
    "sediment_train_x_sm, sediment_encoded_train_y_sm = sm_sample.fit_resample(sediment_train_x, sediment_encoded_train_y)"
   ]
  },
  {
   "cell_type": "code",
   "execution_count": 57,
   "id": "e12f21bb",
   "metadata": {},
   "outputs": [
    {
     "data": {
      "text/plain": [
       "Counter({2: 847, 1: 1630, 0: 107, 3: 105})"
      ]
     },
     "execution_count": 57,
     "metadata": {},
     "output_type": "execute_result"
    }
   ],
   "source": [
    "Counter(sediment_encoded_train_y)"
   ]
  },
  {
   "cell_type": "code",
   "execution_count": 58,
   "id": "c2a7d913",
   "metadata": {},
   "outputs": [
    {
     "data": {
      "text/plain": [
       "Counter({2: 1630, 1: 1630, 0: 1630, 3: 1630})"
      ]
     },
     "execution_count": 58,
     "metadata": {},
     "output_type": "execute_result"
    }
   ],
   "source": [
    "Counter(sediment_encoded_train_y_sm)"
   ]
  },
  {
   "cell_type": "code",
   "execution_count": 59,
   "id": "bbfe2abf",
   "metadata": {},
   "outputs": [],
   "source": [
    "# ADASYN\n",
    "ads_sample = ADASYN(random_state=42) \n",
    "sediment_train_x_ads, sediment_encoded_train_y_ads = ads_sample.fit_resample(sediment_train_x, sediment_encoded_train_y)"
   ]
  },
  {
   "cell_type": "code",
   "execution_count": 60,
   "id": "23f179f9",
   "metadata": {},
   "outputs": [
    {
     "data": {
      "text/plain": [
       "Counter({2: 847, 1: 1630, 0: 107, 3: 105})"
      ]
     },
     "execution_count": 60,
     "metadata": {},
     "output_type": "execute_result"
    }
   ],
   "source": [
    "Counter(sediment_encoded_train_y)"
   ]
  },
  {
   "cell_type": "code",
   "execution_count": 61,
   "id": "284a3ad4",
   "metadata": {},
   "outputs": [
    {
     "data": {
      "text/plain": [
       "Counter({2: 1566, 1: 1630, 0: 1643, 3: 1617})"
      ]
     },
     "execution_count": 61,
     "metadata": {},
     "output_type": "execute_result"
    }
   ],
   "source": [
    "Counter(sediment_encoded_train_y_ads)"
   ]
  },
  {
   "cell_type": "code",
   "execution_count": 62,
   "id": "9ec5b002",
   "metadata": {},
   "outputs": [],
   "source": [
    "# SMOTE-ENN\n",
    "sme_sample = SMOTEENN(random_state=42) \n",
    "sediment_train_x_sme, sediment_encoded_train_y_sme = sme_sample.fit_resample(sediment_train_x, sediment_encoded_train_y)"
   ]
  },
  {
   "cell_type": "code",
   "execution_count": 63,
   "id": "7806ac0e",
   "metadata": {},
   "outputs": [
    {
     "data": {
      "text/plain": [
       "Counter({2: 847, 1: 1630, 0: 107, 3: 105})"
      ]
     },
     "execution_count": 63,
     "metadata": {},
     "output_type": "execute_result"
    }
   ],
   "source": [
    "Counter(sediment_encoded_train_y)"
   ]
  },
  {
   "cell_type": "code",
   "execution_count": 64,
   "id": "b7cdb03b",
   "metadata": {},
   "outputs": [
    {
     "data": {
      "text/plain": [
       "Counter({0: 1512, 1: 771, 2: 920, 3: 1525})"
      ]
     },
     "execution_count": 64,
     "metadata": {},
     "output_type": "execute_result"
    }
   ],
   "source": [
    "Counter(sediment_encoded_train_y_sme)"
   ]
  },
  {
   "cell_type": "code",
   "execution_count": 65,
   "id": "aee68d7e",
   "metadata": {},
   "outputs": [],
   "source": [
    "# SMOTE-Tomek\n",
    "smt_sample = SMOTETomek(random_state=42) \n",
    "sediment_train_x_smt, sediment_encoded_train_y_smt = smt_sample.fit_resample(sediment_train_x, sediment_encoded_train_y)"
   ]
  },
  {
   "cell_type": "code",
   "execution_count": 66,
   "id": "f9b623a4",
   "metadata": {},
   "outputs": [
    {
     "data": {
      "text/plain": [
       "Counter({2: 847, 1: 1630, 0: 107, 3: 105})"
      ]
     },
     "execution_count": 66,
     "metadata": {},
     "output_type": "execute_result"
    }
   ],
   "source": [
    "Counter(sediment_encoded_train_y)"
   ]
  },
  {
   "cell_type": "code",
   "execution_count": 67,
   "id": "7def77d8",
   "metadata": {},
   "outputs": [
    {
     "data": {
      "text/plain": [
       "Counter({2: 1540, 1: 1538, 0: 1627, 3: 1615})"
      ]
     },
     "execution_count": 67,
     "metadata": {},
     "output_type": "execute_result"
    }
   ],
   "source": [
    "Counter(sediment_encoded_train_y_smt)"
   ]
  },
  {
   "cell_type": "code",
   "execution_count": null,
   "id": "014e0080",
   "metadata": {},
   "outputs": [],
   "source": []
  },
  {
   "cell_type": "code",
   "execution_count": null,
   "id": "ec33181b",
   "metadata": {},
   "outputs": [],
   "source": []
  },
  {
   "cell_type": "code",
   "execution_count": null,
   "id": "09ad877e",
   "metadata": {},
   "outputs": [],
   "source": [
    "### Hyperparameter tuning reference\n",
    "# KNN : https://www.kaggle.com/code/arunimsamudra/k-nn-with-hyperparameter-tuning\n",
    "# GaussianNB : https://www.kaggle.com/code/akshaysharma001/naive-bayes-with-hyperpameter-tuning\n",
    "# Bagging : https://www.kaggle.com/code/juanmah/tactic-03-hyperparameter-optimization-bagging\n",
    "# Random Forest : https://www.kaggle.com/code/arjunprasadsarkhel/simple-random-forest-with-hyperparameter-tuning\n",
    "# AdaBoost : https://www.kaggle.com/code/juanmah/tactic-03-hyperparameter-optimization-adaboost \n",
    "# XGBoost : https://www.kaggle.com/code/michalbrezk/xgboost-classifier-and-hyperparameter-tuning-85  \n",
    "# SVM : https://www.kaggle.com/code/rajeevnair676/svm-hyperparameter-tuning"
   ]
  },
  {
   "cell_type": "code",
   "execution_count": null,
   "id": "f396d3c3",
   "metadata": {},
   "outputs": [],
   "source": []
  },
  {
   "cell_type": "code",
   "execution_count": null,
   "id": "362bbbed",
   "metadata": {},
   "outputs": [],
   "source": []
  },
  {
   "cell_type": "code",
   "execution_count": null,
   "id": "6fed91ef",
   "metadata": {},
   "outputs": [],
   "source": []
  },
  {
   "cell_type": "code",
   "execution_count": null,
   "id": "f85dcc13",
   "metadata": {},
   "outputs": [],
   "source": []
  },
  {
   "cell_type": "code",
   "execution_count": 43,
   "id": "0fdc13dc",
   "metadata": {},
   "outputs": [],
   "source": [
    "### K-Nearest Neighbor (KNN)\n",
    "from sklearn.neighbors import KNeighborsClassifier\n",
    "from sklearn.model_selection import train_test_split\n",
    "from sklearn.datasets import load_iris\n",
    "import numpy as np\n",
    "import matplotlib.pyplot as plt\n",
    "from sklearn.metrics import (\n",
    "    accuracy_score,\n",
    "    precision_score,\n",
    "    recall_score,\n",
    "    f1_score,\n",
    "    confusion_matrix,\n",
    "    classification_report,\n",
    "    ConfusionMatrixDisplay)"
   ]
  },
  {
   "cell_type": "code",
   "execution_count": 44,
   "id": "b92eadbb",
   "metadata": {},
   "outputs": [
    {
     "data": {
      "image/png": "[encoded data removed]",
      "text/plain": [
       "<Figure size 1080x576 with 1 Axes>"
      ]
     },
     "metadata": {
      "needs_background": "light"
     },
     "output_type": "display_data"
    }
   ],
   "source": [
    "## Before BorderlineSMOTE\n",
    "neighbors = np.arange(1, 11)\n",
    "train_accuracy = np.empty(len(neighbors))\n",
    "test_accuracy = np.empty(len(neighbors))\n",
    "\n",
    "# Loop over K values\n",
    "for i, k in enumerate(neighbors):\n",
    "    knn = KNeighborsClassifier(n_neighbors=k)\n",
    "    knn.fit(np.array(sediment_train_x), np.array(sediment_encoded_train_y))\n",
    "      \n",
    "    # Compute training and test data accuracy\n",
    "    train_accuracy[i] = knn.score(np.array(sediment_train_x), np.array(sediment_encoded_train_y))\n",
    "    test_accuracy[i] = knn.score(np.array(sediment_test_x), np.array(sediment_encoded_test_y))\n",
    "  \n",
    "# Generate plot\n",
    "plt.figure(figsize=(15,8))\n",
    "plt.plot(neighbors, test_accuracy, label = 'Testing dataset Accuracy')\n",
    "plt.plot(neighbors, train_accuracy, label = 'Training dataset Accuracy')\n",
    "  \n",
    "plt.legend(fontsize=20)\n",
    "plt.xlabel('number of neighbors', fontsize=20)\n",
    "plt.ylabel('Accuracy', fontsize=20)\n",
    "plt.xticks(fontsize=15)\n",
    "plt.yticks(fontsize=15)\n",
    "plt.title('K-Nearest Neighbor', fontsize=20)\n",
    "\n",
    "plt.show()"
   ]
  },
  {
   "cell_type": "code",
   "execution_count": 45,
   "id": "03958bb9",
   "metadata": {},
   "outputs": [
    {
     "data": {
      "text/plain": [
       "array([0.66085271, 0.6996124 , 0.6744186 , 0.68023256, 0.6744186 ,\n",
       "       0.69379845, 0.67829457, 0.69573643, 0.68217054, 0.68992248])"
      ]
     },
     "execution_count": 45,
     "metadata": {},
     "output_type": "execute_result"
    }
   ],
   "source": [
    "test_accuracy # select K=8 (test_accuracy=0.69573643)"
   ]
  },
  {
   "cell_type": "code",
   "execution_count": 46,
   "id": "246a001e",
   "metadata": {},
   "outputs": [
    {
     "data": {
      "text/plain": [
       "KNeighborsClassifier(n_neighbors=8)"
      ]
     },
     "execution_count": 46,
     "metadata": {},
     "output_type": "execute_result"
    }
   ],
   "source": [
    "# modeling with K=8\n",
    "knn = KNeighborsClassifier(n_neighbors=8)\n",
    "  \n",
    "knn.fit(np.array(sediment_train_x), np.array(sediment_encoded_train_y))"
   ]
  },
  {
   "cell_type": "code",
   "execution_count": 47,
   "id": "c3425b36",
   "metadata": {},
   "outputs": [
    {
     "name": "stdout",
     "output_type": "stream",
     "text": [
      "[0 1 1 1 1 1 1 1 2 2 2 2 2 2 2 0 2 2 1 1 1 1 2 1 1 1 1 2 1 1 1 1 1 1 1 2 1\n",
      " 2 1 1 1 1 1 1 1 0 2 2 2 2 1 1 2 1 1 2 2 0 1 2 1 0 2 0 1 1 1 1 1 1 1 2 1 1\n",
      " 1 1 1 2 1 1 1 1 1 2 1 1 1 1 1 1 1 1 1 1 2 1 1 1 1 1 2 1 1 1 0 1 2 1 1 1 1\n",
      " 3 2 2 1 1 1 1 1 2 1 2 2 1 1 1 1 1 1 1 2 1 1 2 1 1 1 3 1 1 3 1 1 1 1 1 2 1\n",
      " 1 1 2 1 1 1 1 1 1 1 1 2 2 1 1 1 1 1 1 2 1 1 2 2 1 1 1 3 2 1 1 2 1 1 1 2 1\n",
      " 2 2 2 2 2 2 1 1 2 1 1 1 1 2 1 1 1 1 2 2 2 2 1 1 2 2 2 0 2 0 2 2 1 1 1 1 1\n",
      " 2 2 2 1 1 2 2 1 1 1 2 1 1 2 2 1 1 1 1 1 1 1 1 1 1 1 1 1 1 1 1 1 1 1 1 1 1\n",
      " 2 1 1 2 2 1 2 3 1 2 1 1 1 2 1 1 2 2 1 1 1 1 1 3 1 1 2 1 1 1 1 1 3 2 3 2 1\n",
      " 1 1 1 1 1 1 2 1 1 2 1 1 2 2 2 1 1 1 2 1 1 1 2 2 1 2 2 2 1 1 1 2 2 1 1 2 2\n",
      " 1 1 1 1 1 1 2 1 1 1 1 1 1 2 1 1 1 2 1 1 2 1 1 3 1 1 1 1 1 1 1 1 1 1 1 1 1\n",
      " 1 1 1 1 1 1 1 1 1 1 1 1 1 1 1 1 1 1 1 1 1 1 3 1 1 3 1 1 1 1 1 1 1 1 1 1 1\n",
      " 1 2 2 1 1 1 1 1 1 1 1 2 1 1 2 2 1 3 1 1 1 1 1 1 1 1 1 1 1 1 1 1 1 1 1 2 2\n",
      " 1 1 1 1 1 1 1 1 1 1 1 2 2 1 1 1 1 1 1 1 1 1 2 1 1 1 1 1 1 1 2 1 1 1 1 1 1\n",
      " 1 1 1 1 1 1 1 1 1 1 1 1 1 1 1 1 1 1 1 1 1 1 1 1 3 1 1 1 1 1 1 1 1 1 1]\n"
     ]
    }
   ],
   "source": [
    "# Predict on dataset which model has not seen before\n",
    "print(knn.predict(np.array(sediment_test_x)))"
   ]
  },
  {
   "cell_type": "code",
   "execution_count": 48,
   "id": "a74a50de",
   "metadata": {},
   "outputs": [
    {
     "name": "stdout",
     "output_type": "stream",
     "text": [
      "Accuracy: 0.6957364341085271\n",
      "F1 Score: 0.7193977426535567\n"
     ]
    }
   ],
   "source": [
    "# Calculate the accuracy and f1-score of the model\n",
    "knn_pred = knn.predict(np.array(sediment_test_x))\n",
    "accuracy = accuracy_score(knn_pred, np.array(sediment_encoded_test_y))\n",
    "f1 = f1_score(knn_pred, np.array(sediment_encoded_test_y), average=\"weighted\")\n",
    "\n",
    "print(\"Accuracy:\", accuracy)\n",
    "print(\"F1 Score:\", f1)"
   ]
  },
  {
   "cell_type": "code",
   "execution_count": 49,
   "id": "eeba66d5",
   "metadata": {},
   "outputs": [
    {
     "name": "stdout",
     "output_type": "stream",
     "text": [
      "              precision    recall  f1-score   support\n",
      "\n",
      "           0       0.21      0.56      0.30         9\n",
      "           1       0.89      0.73      0.80       382\n",
      "           2       0.41      0.59      0.49       112\n",
      "           3       0.48      0.77      0.59        13\n",
      "\n",
      "    accuracy                           0.70       516\n",
      "   macro avg       0.50      0.66      0.54       516\n",
      "weighted avg       0.77      0.70      0.72       516\n",
      "\n"
     ]
    }
   ],
   "source": [
    "print(classification_report(knn_pred, np.array(sediment_encoded_test_y)))"
   ]
  },
  {
   "cell_type": "code",
   "execution_count": 50,
   "id": "c28efaac",
   "metadata": {},
   "outputs": [
    {
     "data": {
      "image/png": "[encoded data removed]",
      "text/plain": [
       "<Figure size 1080x576 with 1 Axes>"
      ]
     },
     "metadata": {
      "needs_background": "light"
     },
     "output_type": "display_data"
    }
   ],
   "source": [
    "## After BorderlineSMOTE\n",
    "neighbors = np.arange(1, 11)\n",
    "train_accuracy = np.empty(len(neighbors))\n",
    "test_accuracy = np.empty(len(neighbors))\n",
    "\n",
    "# Loop over K values\n",
    "for i, k in enumerate(neighbors):\n",
    "    knn = KNeighborsClassifier(n_neighbors=k)\n",
    "    knn.fit(np.array(sediment_train_x_sm), np.array(sediment_encoded_train_y_sm))\n",
    "      \n",
    "    # Compute training and test data accuracy\n",
    "    train_accuracy[i] = knn.score(np.array(sediment_train_x_sm), np.array(sediment_encoded_train_y_sm))\n",
    "    test_accuracy[i] = knn.score(np.array(sediment_test_x), np.array(sediment_encoded_test_y))\n",
    "  \n",
    "# Generate plot\n",
    "plt.figure(figsize=(15,8))\n",
    "plt.plot(neighbors, test_accuracy, label = 'Testing dataset Accuracy')\n",
    "plt.plot(neighbors, train_accuracy, label = 'Training dataset Accuracy')\n",
    "  \n",
    "plt.legend(fontsize=20)\n",
    "plt.xlabel('number of neighbors', fontsize=20)\n",
    "plt.ylabel('Accuracy', fontsize=20)\n",
    "plt.xticks(fontsize=15)\n",
    "plt.yticks(fontsize=15)\n",
    "plt.title('K-Nearest Neighbor', fontsize=20)\n",
    "\n",
    "plt.show()"
   ]
  },
  {
   "cell_type": "code",
   "execution_count": 51,
   "id": "70475d69",
   "metadata": {},
   "outputs": [
    {
     "data": {
      "text/plain": [
       "array([0.64728682, 0.6627907 , 0.63178295, 0.63372093, 0.61046512,\n",
       "       0.62209302, 0.62209302, 0.62403101, 0.60852713, 0.61627907])"
      ]
     },
     "execution_count": 51,
     "metadata": {},
     "output_type": "execute_result"
    }
   ],
   "source": [
    "test_accuracy # select K=2 (test_accuracy=0.6627907)"
   ]
  },
  {
   "cell_type": "code",
   "execution_count": 52,
   "id": "70f13a59",
   "metadata": {},
   "outputs": [
    {
     "data": {
      "text/plain": [
       "KNeighborsClassifier(n_neighbors=2)"
      ]
     },
     "execution_count": 52,
     "metadata": {},
     "output_type": "execute_result"
    }
   ],
   "source": [
    "# modeling with K=2\n",
    "knn = KNeighborsClassifier(n_neighbors=2)\n",
    "  \n",
    "knn.fit(np.array(sediment_train_x_sm), np.array(sediment_encoded_train_y_sm))"
   ]
  },
  {
   "cell_type": "code",
   "execution_count": 53,
   "id": "f585e9d3",
   "metadata": {},
   "outputs": [
    {
     "name": "stdout",
     "output_type": "stream",
     "text": [
      "[0 1 1 2 1 1 1 1 1 1 1 2 1 2 0 3 0 1 1 1 1 1 1 1 1 1 1 2 1 1 1 1 2 1 1 2 1\n",
      " 2 1 2 1 1 1 1 2 0 2 0 1 2 1 1 1 1 1 1 2 0 1 0 2 3 0 0 1 1 1 1 1 1 1 1 2 1\n",
      " 1 1 1 1 1 2 1 2 2 0 1 2 1 1 2 1 1 2 2 1 1 1 1 1 1 1 2 1 1 1 0 2 2 2 1 0 1\n",
      " 3 0 2 1 2 1 1 1 2 1 1 1 1 1 1 1 0 1 2 2 2 1 2 2 1 1 3 1 2 3 1 1 1 1 1 2 1\n",
      " 3 1 2 1 1 1 2 1 1 2 2 2 2 1 1 1 1 2 1 1 1 2 1 2 2 1 1 3 2 1 2 0 1 1 1 1 2\n",
      " 2 1 1 2 2 2 2 1 2 1 1 1 1 1 2 1 1 2 0 0 2 2 1 1 2 2 1 0 2 0 0 2 1 1 1 1 1\n",
      " 1 2 1 1 2 0 2 1 1 1 2 1 2 2 1 1 1 1 1 1 1 1 1 1 1 2 1 1 1 1 1 2 1 2 1 1 1\n",
      " 1 1 1 2 2 1 2 3 1 2 1 1 2 0 1 2 1 2 1 1 1 3 2 3 1 1 1 1 1 2 1 1 3 1 3 2 1\n",
      " 2 2 1 1 1 1 2 1 1 2 1 1 1 2 2 1 3 3 0 1 1 1 1 2 1 2 2 2 1 1 3 2 1 1 1 2 2\n",
      " 1 1 1 1 2 1 2 1 2 2 1 1 1 1 1 1 1 1 1 2 2 1 1 3 1 1 1 1 1 1 2 2 1 1 1 1 0\n",
      " 1 1 0 1 1 1 1 1 1 1 1 1 2 0 1 2 2 1 1 1 1 3 3 1 1 1 2 1 1 1 1 1 2 1 2 1 1\n",
      " 1 2 2 1 1 1 1 1 1 1 1 1 3 3 3 0 1 3 2 1 1 1 1 1 1 1 1 1 1 1 1 1 2 1 1 2 2\n",
      " 3 0 1 1 1 1 1 1 1 1 1 2 2 1 1 1 1 1 1 1 2 1 2 1 2 2 1 1 1 1 2 1 1 1 1 1 2\n",
      " 1 0 1 1 1 1 1 1 1 0 1 1 1 1 1 1 1 1 1 1 0 2 1 1 1 1 1 1 1 1 1 1 2 1 1]\n"
     ]
    }
   ],
   "source": [
    "# Predict on dataset which model has not seen before\n",
    "print(knn.predict(np.array(sediment_test_x)))"
   ]
  },
  {
   "cell_type": "code",
   "execution_count": 54,
   "id": "a992f3cc",
   "metadata": {},
   "outputs": [
    {
     "name": "stdout",
     "output_type": "stream",
     "text": [
      "Accuracy: 0.6627906976744186\n",
      "F1 Score: 0.6705794783512172\n"
     ]
    }
   ],
   "source": [
    "# Calculate the accuracy and f1-score of the model\n",
    "knn_pred = knn.predict(np.array(sediment_test_x))\n",
    "accuracy = accuracy_score(knn_pred, np.array(sediment_encoded_test_y))\n",
    "f1 = f1_score(knn_pred, np.array(sediment_encoded_test_y), average=\"weighted\")\n",
    "\n",
    "print(\"Accuracy:\", accuracy)\n",
    "print(\"F1 Score:\", f1)"
   ]
  },
  {
   "cell_type": "code",
   "execution_count": 55,
   "id": "f68b2a67",
   "metadata": {},
   "outputs": [
    {
     "name": "stdout",
     "output_type": "stream",
     "text": [
      "              precision    recall  f1-score   support\n",
      "\n",
      "           0       0.42      0.32      0.36        31\n",
      "           1       0.82      0.75      0.78       338\n",
      "           2       0.41      0.53      0.46       124\n",
      "           3       0.57      0.52      0.55        23\n",
      "\n",
      "    accuracy                           0.66       516\n",
      "   macro avg       0.55      0.53      0.54       516\n",
      "weighted avg       0.68      0.66      0.67       516\n",
      "\n"
     ]
    }
   ],
   "source": [
    "print(classification_report(knn_pred, np.array(sediment_encoded_test_y)))"
   ]
  },
  {
   "cell_type": "code",
   "execution_count": null,
   "id": "79d601df",
   "metadata": {},
   "outputs": [],
   "source": []
  },
  {
   "cell_type": "code",
   "execution_count": null,
   "id": "f32e0cbf",
   "metadata": {},
   "outputs": [],
   "source": []
  },
  {
   "cell_type": "code",
   "execution_count": 27,
   "id": "80386e2c",
   "metadata": {},
   "outputs": [],
   "source": [
    "### Gaussian Naive Bayes (GaussianNB)\n",
    "from sklearn.naive_bayes import GaussianNB"
   ]
  },
  {
   "cell_type": "code",
   "execution_count": 35,
   "id": "6630d205",
   "metadata": {},
   "outputs": [],
   "source": [
    "## Before SMOTE-Tomek\n",
    "# Build a Gaussian Classifier\n",
    "gnb = GaussianNB()\n",
    "\n",
    "# Model training\n",
    "gnb.fit(np.array(sediment_train_x), np.array(sediment_encoded_train_y))\n",
    "\n",
    "# Predict Output\n",
    "gnb_pred = gnb.predict(np.array(sediment_test_x))"
   ]
  },
  {
   "cell_type": "code",
   "execution_count": 36,
   "id": "499d2a35",
   "metadata": {},
   "outputs": [
    {
     "name": "stdout",
     "output_type": "stream",
     "text": [
      "[2 1 1 1 1 1 1 2 2 2 2 2 2 2 2 2 2 1 1 1 1 1 2 1 1 1 1 2 2 1 1 1 1 1 1 2 1\n",
      " 2 1 1 1 1 1 1 2 0 2 2 2 2 1 1 2 1 1 2 2 0 1 3 1 2 2 2 1 1 2 1 1 2 1 1 1 1\n",
      " 1 1 2 2 1 1 2 1 2 2 2 1 1 1 1 2 3 2 2 1 2 1 1 1 1 1 2 1 1 1 0 1 2 2 1 0 1\n",
      " 0 2 2 1 2 1 2 2 3 2 2 2 1 1 1 1 0 0 2 2 1 1 2 1 1 2 0 1 2 2 1 1 1 2 1 1 1\n",
      " 1 2 2 1 1 1 2 1 1 1 1 0 2 1 1 2 1 2 1 2 1 1 2 2 1 1 1 3 2 2 2 0 1 1 2 2 2\n",
      " 2 2 2 2 2 2 2 1 2 1 2 1 1 1 1 2 2 0 2 2 2 2 1 1 2 2 1 0 2 2 2 0 1 1 1 1 1\n",
      " 1 1 2 2 1 2 1 1 1 1 2 2 1 2 1 1 1 1 1 2 1 1 1 1 1 1 1 1 1 1 2 1 1 1 1 2 1\n",
      " 2 1 1 1 3 1 1 2 1 2 2 2 2 3 1 1 2 1 2 1 1 3 1 0 2 1 2 1 1 1 1 2 2 2 2 1 1\n",
      " 2 1 1 1 1 1 2 1 2 2 1 1 1 2 1 1 2 2 3 1 2 1 2 1 2 2 2 2 1 1 1 2 1 1 1 2 2\n",
      " 1 1 1 0 2 1 0 1 1 2 1 2 1 1 1 2 1 2 1 1 2 1 1 3 1 3 1 1 1 1 1 1 1 1 1 1 3\n",
      " 1 1 1 1 1 1 1 1 0 1 1 1 1 1 1 2 2 3 1 1 1 1 3 1 1 3 1 1 1 1 1 1 1 2 0 0 1\n",
      " 1 2 2 1 1 1 1 1 1 1 1 1 1 3 3 3 2 3 1 1 1 1 1 1 1 1 1 1 1 1 1 1 1 1 1 2 1\n",
      " 1 1 1 1 1 1 1 2 1 1 1 1 1 1 1 1 1 1 1 1 1 1 1 1 1 1 1 1 1 1 1 1 3 1 1 1 3\n",
      " 3 1 2 1 1 1 1 1 1 1 1 1 1 1 1 1 1 1 0 0 0 1 1 0 1 1 1 1 1 1 1 1 1 1 1]\n"
     ]
    }
   ],
   "source": [
    "print(gnb_pred)"
   ]
  },
  {
   "cell_type": "code",
   "execution_count": 37,
   "id": "907d7285",
   "metadata": {},
   "outputs": [
    {
     "name": "stdout",
     "output_type": "stream",
     "text": [
      "Accuracy: 0.7848837209302325\n",
      "F1 Score: 0.7876805674332898\n"
     ]
    }
   ],
   "source": [
    "# Calculate the accuracy and f1-score of the model\n",
    "accuracy = accuracy_score(gnb_pred, np.array(sediment_encoded_test_y))\n",
    "f1 = f1_score(gnb_pred, np.array(sediment_encoded_test_y), average=\"weighted\")\n",
    "\n",
    "print(\"Accuracy:\", accuracy)\n",
    "print(\"F1 Score:\", f1)"
   ]
  },
  {
   "cell_type": "code",
   "execution_count": 158,
   "id": "dae962c7",
   "metadata": {},
   "outputs": [],
   "source": [
    "## After SMOTE-Tomek\n",
    "# Build a Gaussian Classifier\n",
    "gnb = GaussianNB()\n",
    "\n",
    "# Model training\n",
    "gnb.fit(np.array(sediment_train_x_smt), np.array(sediment_encoded_train_y_smt))\n",
    "\n",
    "# Predict Output\n",
    "gnb_pred = gnb.predict(np.array(sediment_test_x))"
   ]
  },
  {
   "cell_type": "code",
   "execution_count": 159,
   "id": "99d48c60",
   "metadata": {},
   "outputs": [
    {
     "name": "stdout",
     "output_type": "stream",
     "text": [
      "[0 1 1 1 1 1 1 2 2 2 2 2 2 2 2 2 2 1 1 1 1 1 2 1 1 1 1 2 2 2 2 1 1 1 1 2 1\n",
      " 2 1 1 1 2 1 1 2 0 2 2 2 2 1 1 2 1 1 2 2 0 1 3 2 2 2 0 1 1 2 1 1 2 1 1 1 1\n",
      " 2 2 2 2 1 1 2 1 2 2 2 1 2 2 1 2 3 2 2 1 2 2 1 1 1 1 2 1 2 1 0 2 2 2 1 0 1\n",
      " 0 2 2 2 2 1 2 2 3 0 2 2 1 2 1 0 0 3 2 2 1 1 2 1 1 2 0 2 2 2 1 1 2 2 1 1 1\n",
      " 1 2 0 1 1 1 2 2 1 1 1 0 2 1 1 2 1 2 1 2 1 1 2 2 1 1 1 3 2 2 2 0 1 1 2 2 2\n",
      " 2 2 2 2 2 2 2 1 2 1 2 1 1 1 1 2 2 0 0 2 2 2 1 1 2 2 1 0 2 2 2 0 1 1 1 1 1\n",
      " 2 2 2 2 1 2 1 1 1 1 2 2 2 2 1 1 1 1 1 2 1 1 2 1 1 1 1 1 1 2 2 1 1 1 1 2 1\n",
      " 2 1 1 1 3 1 1 2 1 2 2 2 2 3 1 1 2 2 2 1 1 3 1 0 2 1 2 2 1 1 1 2 0 2 2 1 2\n",
      " 2 1 1 1 1 1 2 1 2 2 1 1 1 2 2 1 2 2 3 1 2 1 2 1 2 2 2 2 1 2 1 2 2 1 1 2 2\n",
      " 1 1 1 0 2 1 0 1 1 2 1 2 1 1 1 2 1 2 1 1 2 1 1 3 1 3 1 1 1 1 1 1 1 1 1 1 3\n",
      " 1 1 3 1 1 1 1 1 0 1 1 1 0 1 1 2 0 3 1 1 1 1 3 1 1 3 1 1 1 1 1 1 1 2 0 0 1\n",
      " 1 2 2 1 1 1 1 1 1 1 1 1 1 3 3 3 0 3 1 1 1 1 1 1 1 2 0 1 1 1 1 1 1 1 1 2 1\n",
      " 1 1 1 1 1 1 1 2 1 1 1 0 0 1 1 1 1 1 1 1 1 1 1 1 1 1 2 1 1 1 1 1 3 1 1 1 3\n",
      " 3 1 2 1 1 1 1 1 1 1 1 1 0 1 1 1 1 1 0 0 0 1 1 0 1 3 1 1 1 1 1 1 1 1 1]\n"
     ]
    }
   ],
   "source": [
    "print(gnb_pred)"
   ]
  },
  {
   "cell_type": "code",
   "execution_count": 160,
   "id": "60ee9bf7",
   "metadata": {},
   "outputs": [
    {
     "name": "stdout",
     "output_type": "stream",
     "text": [
      "Accuracy: 0.7441860465116279\n",
      "F1 Score: 0.7388290306521585\n"
     ]
    }
   ],
   "source": [
    "# Calculate the accuracy and f1-score of the model\n",
    "accuracy = accuracy_score(gnb_pred, np.array(sediment_encoded_test_y))\n",
    "f1 = f1_score(gnb_pred, np.array(sediment_encoded_test_y), average=\"weighted\")\n",
    "\n",
    "print(\"Accuracy:\", accuracy)\n",
    "print(\"F1 Score:\", f1)"
   ]
  },
  {
   "cell_type": "code",
   "execution_count": null,
   "id": "02499564",
   "metadata": {},
   "outputs": [],
   "source": []
  },
  {
   "cell_type": "code",
   "execution_count": null,
   "id": "031b99f6",
   "metadata": {},
   "outputs": [],
   "source": []
  },
  {
   "cell_type": "code",
   "execution_count": 50,
   "id": "e099a2d0",
   "metadata": {},
   "outputs": [],
   "source": [
    "### Bagging\n",
    "from sklearn.ensemble import BaggingClassifier"
   ]
  },
  {
   "cell_type": "code",
   "execution_count": 52,
   "id": "28027006",
   "metadata": {},
   "outputs": [
    {
     "data": {
      "image/png": "[encoded data removed]",
      "text/plain": [
       "<Figure size 1080x576 with 1 Axes>"
      ]
     },
     "metadata": {
      "needs_background": "light"
     },
     "output_type": "display_data"
    }
   ],
   "source": [
    "## Before SMOTE-Tomek\n",
    "estimator_range = [2,4,6,8,10,12,14,16,18,20]\n",
    "\n",
    "models = []\n",
    "scores = []\n",
    "\n",
    "for i, n_estimators in enumerate(estimator_range):\n",
    "\n",
    "    # Create bagging classifier\n",
    "    bag = BaggingClassifier(n_estimators = n_estimators, random_state = 22)\n",
    "\n",
    "    # Fit the model\n",
    "    bag.fit(np.array(sediment_train_x), np.array(sediment_encoded_train_y))\n",
    "\n",
    "    # Compute training and test data accuracy\n",
    "    train_accuracy[i] = bag.score(np.array(sediment_train_x), np.array(sediment_encoded_train_y))\n",
    "    test_accuracy[i] = bag.score(np.array(sediment_test_x), np.array(sediment_encoded_test_y))\n",
    "  \n",
    "# Generate plot\n",
    "plt.figure(figsize=(15,8))\n",
    "plt.plot(estimator_range, test_accuracy, label = 'Testing dataset Accuracy')\n",
    "plt.plot(estimator_range, train_accuracy, label = 'Training dataset Accuracy')\n",
    "  \n",
    "plt.legend(fontsize=20)\n",
    "plt.xlabel('number of estimators', fontsize=20)\n",
    "plt.ylabel('Accuracy', fontsize=20)\n",
    "plt.xticks(fontsize=15)\n",
    "plt.yticks(fontsize=15)\n",
    "plt.title('Bagging', fontsize=20)\n",
    "\n",
    "plt.show()"
   ]
  },
  {
   "cell_type": "code",
   "execution_count": 53,
   "id": "fd77af64",
   "metadata": {},
   "outputs": [
    {
     "data": {
      "text/plain": [
       "array([0.86821705, 0.88372093, 0.89341085, 0.89341085, 0.90697674,\n",
       "       0.89922481, 0.90503876, 0.90891473, 0.91472868, 0.9127907 ])"
      ]
     },
     "execution_count": 53,
     "metadata": {},
     "output_type": "execute_result"
    }
   ],
   "source": [
    "test_accuracy # select n_estimators=18 (test_accuracy=0.91472868)"
   ]
  },
  {
   "cell_type": "code",
   "execution_count": 54,
   "id": "e237efa9",
   "metadata": {},
   "outputs": [
    {
     "data": {
      "text/plain": [
       "BaggingClassifier(n_estimators=18, random_state=22)"
      ]
     },
     "execution_count": 54,
     "metadata": {},
     "output_type": "execute_result"
    }
   ],
   "source": [
    "# modeling with n-estimators=18\n",
    "bag = BaggingClassifier(n_estimators = 18, random_state = 22)\n",
    "  \n",
    "bag.fit(np.array(sediment_train_x), np.array(sediment_encoded_train_y))"
   ]
  },
  {
   "cell_type": "code",
   "execution_count": 55,
   "id": "a0821175",
   "metadata": {},
   "outputs": [
    {
     "name": "stdout",
     "output_type": "stream",
     "text": [
      "[0 1 1 1 1 2 1 1 2 1 2 2 2 2 2 2 2 1 1 2 1 1 2 1 1 1 1 2 2 1 1 1 2 1 1 1 1\n",
      " 2 1 2 1 1 1 1 2 2 2 2 2 2 1 2 1 1 1 2 2 0 1 3 1 2 0 2 1 1 2 1 1 1 1 1 1 1\n",
      " 1 2 2 1 1 1 2 1 2 2 2 1 1 1 2 2 2 2 1 1 1 1 1 1 1 1 2 2 1 1 0 1 2 1 1 0 1\n",
      " 3 2 2 1 2 1 2 1 3 1 1 2 1 1 2 1 0 1 2 2 1 1 2 2 1 2 3 1 2 3 1 1 1 2 1 1 1\n",
      " 1 1 2 1 1 1 2 1 1 1 1 0 2 1 1 2 1 2 1 1 1 1 1 2 1 1 1 3 2 1 1 0 1 1 2 2 2\n",
      " 2 2 2 2 1 0 2 1 1 1 2 1 1 1 1 1 1 0 0 2 2 2 1 1 2 2 1 0 1 2 2 0 1 1 1 1 1\n",
      " 1 1 2 2 1 2 1 1 1 1 2 1 1 2 1 1 2 1 1 2 1 1 2 1 1 1 1 1 1 1 2 1 1 1 1 2 1\n",
      " 1 2 1 2 0 1 1 3 1 2 1 2 2 3 2 1 2 2 1 1 1 0 1 0 2 1 1 2 1 2 1 2 3 2 3 1 1\n",
      " 1 1 1 1 1 1 0 1 1 2 1 1 1 2 1 1 2 0 3 1 2 1 2 1 1 2 0 2 1 1 1 2 2 1 1 2 2\n",
      " 1 1 1 2 1 1 2 2 1 2 1 1 1 1 1 2 1 1 1 1 2 1 2 3 1 1 1 1 1 1 1 1 1 1 1 1 3\n",
      " 1 1 2 1 1 1 1 1 1 1 1 2 1 1 2 2 2 1 3 1 1 1 3 1 1 3 1 1 1 1 1 1 1 2 2 2 1\n",
      " 1 2 2 1 1 1 1 1 1 1 1 2 1 0 3 3 2 1 1 1 1 1 1 2 1 2 2 2 1 1 1 1 1 1 1 2 2\n",
      " 2 2 1 2 2 2 2 2 1 1 1 2 2 1 1 1 1 2 1 3 2 2 2 2 1 1 1 1 1 1 1 1 2 1 1 1 2\n",
      " 2 1 1 1 1 1 1 1 1 1 1 2 1 1 1 1 2 2 0 0 0 2 2 1 2 2 1 1 2 1 1 1 2 1 3]\n"
     ]
    }
   ],
   "source": [
    "# Predict on dataset which model has not seen before\n",
    "print(bag.predict(np.array(sediment_test_x)))"
   ]
  },
  {
   "cell_type": "code",
   "execution_count": 56,
   "id": "52b6d881",
   "metadata": {},
   "outputs": [
    {
     "name": "stdout",
     "output_type": "stream",
     "text": [
      "Accuracy: 0.9147286821705426\n",
      "F1 Score: 0.9148208567901999\n"
     ]
    }
   ],
   "source": [
    "bag_pred = bag.predict(np.array(sediment_test_x))\n",
    "\n",
    "# Calculate the accuracy and f1-score of the model\n",
    "accuracy = accuracy_score(bag_pred, np.array(sediment_encoded_test_y))\n",
    "f1 = f1_score(bag_pred, np.array(sediment_encoded_test_y), average=\"weighted\")\n",
    "\n",
    "print(\"Accuracy:\", accuracy)\n",
    "print(\"F1 Score:\", f1)"
   ]
  },
  {
   "cell_type": "code",
   "execution_count": 161,
   "id": "10fe475e",
   "metadata": {},
   "outputs": [
    {
     "data": {
      "image/png": "[encoded data removed]",
      "text/plain": [
       "<Figure size 1080x576 with 1 Axes>"
      ]
     },
     "metadata": {
      "needs_background": "light"
     },
     "output_type": "display_data"
    }
   ],
   "source": [
    "## After SMOTE-Tomek\n",
    "estimator_range = [2,4,6,8,10,12,14,16,18,20]\n",
    "\n",
    "models = []\n",
    "scores = []\n",
    "\n",
    "for i, n_estimators in enumerate(estimator_range):\n",
    "\n",
    "    # Create bagging classifier\n",
    "    bag = BaggingClassifier(n_estimators = n_estimators, random_state = 22)\n",
    "\n",
    "    # Fit the model\n",
    "    bag.fit(np.array(sediment_train_x_smt), np.array(sediment_encoded_train_y_smt))\n",
    "\n",
    "    # Compute training and test data accuracy\n",
    "    train_accuracy[i] = bag.score(np.array(sediment_train_x_smt), np.array(sediment_encoded_train_y_smt))\n",
    "    test_accuracy[i] = bag.score(np.array(sediment_test_x), np.array(sediment_encoded_test_y))\n",
    "  \n",
    "# Generate plot\n",
    "plt.figure(figsize=(15,8))\n",
    "plt.plot(estimator_range, test_accuracy, label = 'Testing dataset Accuracy')\n",
    "plt.plot(estimator_range, train_accuracy, label = 'Training dataset Accuracy')\n",
    "  \n",
    "plt.legend(fontsize=20)\n",
    "plt.xlabel('number of estimators', fontsize=20)\n",
    "plt.ylabel('Accuracy', fontsize=20)\n",
    "plt.xticks(fontsize=15)\n",
    "plt.yticks(fontsize=15)\n",
    "plt.title('Bagging', fontsize=20)\n",
    "\n",
    "plt.show()"
   ]
  },
  {
   "cell_type": "code",
   "execution_count": 162,
   "id": "a9db5f06",
   "metadata": {},
   "outputs": [
    {
     "data": {
      "text/plain": [
       "array([0.87984496, 0.8875969 , 0.88565891, 0.89534884, 0.88178295,\n",
       "       0.88953488, 0.88372093, 0.88565891, 0.8875969 , 0.88178295])"
      ]
     },
     "execution_count": 162,
     "metadata": {},
     "output_type": "execute_result"
    }
   ],
   "source": [
    "test_accuracy # select n_estimators=8 (test_accuracy=0.89534884)"
   ]
  },
  {
   "cell_type": "code",
   "execution_count": 164,
   "id": "5f3eea95",
   "metadata": {},
   "outputs": [
    {
     "data": {
      "text/plain": [
       "BaggingClassifier(n_estimators=8, random_state=22)"
      ]
     },
     "execution_count": 164,
     "metadata": {},
     "output_type": "execute_result"
    }
   ],
   "source": [
    "# modeling with n-estimators=8\n",
    "bag = BaggingClassifier(n_estimators = 8, random_state = 22)\n",
    "  \n",
    "bag.fit(np.array(sediment_train_x_smt), np.array(sediment_encoded_train_y_smt))"
   ]
  },
  {
   "cell_type": "code",
   "execution_count": 165,
   "id": "11d6cf9b",
   "metadata": {},
   "outputs": [
    {
     "name": "stdout",
     "output_type": "stream",
     "text": [
      "[0 1 1 1 1 2 1 1 2 1 2 2 2 2 2 2 2 1 1 2 1 1 2 1 1 1 1 2 2 1 1 1 2 1 1 2 1\n",
      " 2 1 2 1 1 1 1 2 2 2 2 2 2 1 2 1 1 1 2 2 0 1 3 1 1 2 0 1 1 2 1 1 1 2 1 1 1\n",
      " 1 2 2 1 1 1 2 1 2 2 2 1 1 1 2 2 3 2 1 1 1 1 1 1 1 1 2 1 1 1 0 1 2 1 1 2 1\n",
      " 3 2 2 1 2 1 2 2 2 1 1 2 1 1 2 1 0 1 2 2 1 1 2 1 2 2 3 1 2 3 1 1 1 2 1 1 1\n",
      " 1 2 0 1 1 1 2 1 1 1 1 0 0 1 1 0 1 2 1 1 1 1 2 2 1 1 1 3 2 1 1 0 1 1 2 2 2\n",
      " 2 2 2 2 1 2 2 1 1 1 2 1 1 1 1 1 1 2 0 2 2 2 1 1 2 2 1 0 1 2 2 2 1 1 1 1 1\n",
      " 1 1 2 2 1 2 1 1 1 1 2 2 1 2 1 1 2 1 1 2 1 1 2 1 1 1 1 1 1 1 2 1 1 1 1 2 1\n",
      " 1 2 1 2 3 1 1 3 1 2 1 2 2 3 2 1 2 1 1 1 1 0 1 0 2 1 1 2 1 2 1 2 3 2 3 1 1\n",
      " 1 1 1 1 1 1 2 1 1 2 1 1 1 2 1 1 2 2 3 1 2 1 2 1 1 2 0 2 1 1 1 2 2 1 1 2 2\n",
      " 1 1 1 2 1 1 2 2 1 2 1 1 1 1 1 2 2 1 1 1 0 1 1 3 1 1 1 1 1 1 1 1 1 1 1 1 3\n",
      " 1 1 2 1 2 1 2 1 1 1 1 1 1 1 2 2 2 1 3 1 1 3 3 1 1 3 1 1 1 1 1 1 1 2 2 2 1\n",
      " 1 2 2 1 1 1 1 1 1 1 1 2 1 3 3 3 2 1 1 1 1 1 1 2 1 2 2 2 1 1 1 1 1 1 2 2 1\n",
      " 2 2 1 2 2 2 2 2 1 1 1 2 2 1 1 1 1 1 1 3 2 2 2 2 1 1 1 1 1 1 1 2 2 2 1 1 2\n",
      " 2 1 1 1 1 1 1 1 1 1 1 1 1 1 1 1 1 2 0 0 0 2 1 1 2 2 1 1 2 1 1 1 2 1 3]\n"
     ]
    }
   ],
   "source": [
    "# Predict on dataset which model has not seen before\n",
    "print(bag.predict(np.array(sediment_test_x)))"
   ]
  },
  {
   "cell_type": "code",
   "execution_count": 166,
   "id": "52b865cd",
   "metadata": {},
   "outputs": [
    {
     "name": "stdout",
     "output_type": "stream",
     "text": [
      "Accuracy: 0.8953488372093024\n",
      "F1 Score: 0.8957957043660791\n"
     ]
    }
   ],
   "source": [
    "bag_pred = bag.predict(np.array(sediment_test_x))\n",
    "\n",
    "# Calculate the accuracy and f1-score of the model\n",
    "accuracy = accuracy_score(bag_pred, np.array(sediment_encoded_test_y))\n",
    "f1 = f1_score(bag_pred, np.array(sediment_encoded_test_y), average=\"weighted\")\n",
    "\n",
    "print(\"Accuracy:\", accuracy)\n",
    "print(\"F1 Score:\", f1)"
   ]
  },
  {
   "cell_type": "code",
   "execution_count": null,
   "id": "fdaf0b08",
   "metadata": {},
   "outputs": [],
   "source": []
  },
  {
   "cell_type": "code",
   "execution_count": 69,
   "id": "94b90c40",
   "metadata": {},
   "outputs": [],
   "source": []
  },
  {
   "cell_type": "code",
   "execution_count": 68,
   "id": "d459d926",
   "metadata": {},
   "outputs": [],
   "source": [
    "### Random Forest\n",
    "from sklearn.ensemble import RandomForestClassifier\n",
    "from sklearn.metrics import accuracy_score, confusion_matrix, precision_score, recall_score, ConfusionMatrixDisplay\n",
    "from sklearn.model_selection import RandomizedSearchCV, train_test_split\n",
    "from scipy.stats import randint"
   ]
  },
  {
   "cell_type": "code",
   "execution_count": 58,
   "id": "c6179ff7",
   "metadata": {},
   "outputs": [
    {
     "data": {
      "image/png": "[encoded data removed]",
      "text/plain": [
       "<Figure size 1080x576 with 1 Axes>"
      ]
     },
     "metadata": {
      "needs_background": "light"
     },
     "output_type": "display_data"
    }
   ],
   "source": [
    "## Before SMOTE-Tomek\n",
    "estimator_range = [50,100,150,200,250,300,350,400,450,500]\n",
    "\n",
    "models = []\n",
    "scores = []\n",
    "\n",
    "for i, n_estimators in enumerate(estimator_range):\n",
    "\n",
    "    # Create bagging classifier\n",
    "    rf = RandomForestClassifier(n_estimators = n_estimators, random_state = 22)\n",
    "\n",
    "    # Fit the model\n",
    "    rf.fit(np.array(sediment_train_x), np.array(sediment_encoded_train_y))\n",
    "\n",
    "    # Compute training and test data accuracy\n",
    "    train_accuracy[i] = rf.score(np.array(sediment_train_x), np.array(sediment_encoded_train_y))\n",
    "    test_accuracy[i] = rf.score(np.array(sediment_test_x), np.array(sediment_encoded_test_y))\n",
    "  \n",
    "# Generate plot\n",
    "plt.figure(figsize=(15,8))\n",
    "plt.plot(estimator_range, test_accuracy, label = 'Testing dataset Accuracy')\n",
    "plt.plot(estimator_range, train_accuracy, label = 'Training dataset Accuracy')\n",
    "  \n",
    "plt.legend(fontsize=20)\n",
    "plt.xlabel('number of estimators', fontsize=20)\n",
    "plt.ylabel('Accuracy', fontsize=20)\n",
    "plt.xticks(fontsize=15)\n",
    "plt.yticks(fontsize=15)\n",
    "plt.title('Random Forest', fontsize=20)\n",
    "\n",
    "plt.show()"
   ]
  },
  {
   "cell_type": "code",
   "execution_count": 59,
   "id": "af2ed943",
   "metadata": {},
   "outputs": [
    {
     "data": {
      "text/plain": [
       "array([0.92054264, 0.91860465, 0.9244186 , 0.92054264, 0.91666667,\n",
       "       0.91860465, 0.91472868, 0.9127907 , 0.91472868, 0.91472868])"
      ]
     },
     "execution_count": 59,
     "metadata": {},
     "output_type": "execute_result"
    }
   ],
   "source": [
    "test_accuracy # select n_estimators=150 (test_accuracy=0.9244186)"
   ]
  },
  {
   "cell_type": "code",
   "execution_count": 61,
   "id": "7746b9f6",
   "metadata": {},
   "outputs": [
    {
     "data": {
      "text/plain": [
       "RandomForestClassifier(n_estimators=150, random_state=22)"
      ]
     },
     "execution_count": 61,
     "metadata": {},
     "output_type": "execute_result"
    }
   ],
   "source": [
    "# modeling with n-estimators=150\n",
    "rf = RandomForestClassifier(n_estimators = 150, random_state = 22)\n",
    "  \n",
    "rf.fit(np.array(sediment_train_x), np.array(sediment_encoded_train_y))"
   ]
  },
  {
   "cell_type": "code",
   "execution_count": 62,
   "id": "03f8fec8",
   "metadata": {},
   "outputs": [
    {
     "name": "stdout",
     "output_type": "stream",
     "text": [
      "[0 1 1 1 1 1 1 1 2 1 2 2 2 2 2 2 2 1 1 2 1 1 2 1 1 1 1 2 2 1 1 1 1 1 1 2 1\n",
      " 2 1 2 1 1 1 1 2 2 2 2 2 2 1 2 1 1 1 2 2 0 1 3 1 2 2 2 1 1 2 1 1 1 1 1 1 1\n",
      " 1 2 2 1 1 1 2 1 2 2 2 1 1 1 2 2 2 2 1 1 1 1 1 1 1 1 2 1 1 1 0 1 2 1 1 2 1\n",
      " 3 2 2 1 2 1 2 1 3 1 1 2 1 1 2 1 0 1 2 2 1 1 2 1 2 2 3 1 2 3 1 1 1 2 1 1 1\n",
      " 1 2 0 1 1 1 2 1 1 1 1 0 2 1 1 2 1 2 1 1 1 1 1 2 1 1 1 3 2 1 1 0 1 1 2 2 2\n",
      " 2 2 2 2 1 2 2 1 1 1 2 1 1 1 1 1 1 2 0 2 2 2 1 1 2 2 1 0 1 2 2 2 1 1 1 1 1\n",
      " 1 1 2 2 1 1 1 1 1 1 2 2 1 2 1 1 1 1 1 2 1 1 2 1 1 1 1 1 1 1 2 1 1 1 1 2 1\n",
      " 1 2 1 2 3 1 1 3 1 2 1 2 2 3 2 1 2 2 1 1 1 0 1 0 2 1 1 2 1 1 1 2 3 2 3 1 1\n",
      " 1 1 1 1 1 1 2 1 1 2 1 1 1 2 1 1 2 2 3 1 2 1 2 1 1 2 0 2 1 1 1 2 2 1 1 2 2\n",
      " 1 1 1 2 1 1 2 2 1 2 1 1 1 1 1 2 1 1 1 1 2 1 2 3 1 2 1 1 1 1 1 1 1 1 1 1 2\n",
      " 1 1 2 1 1 1 1 1 2 1 1 2 2 1 2 2 2 1 1 1 1 1 3 1 1 3 1 1 1 1 1 1 1 2 2 2 1\n",
      " 1 2 2 1 1 1 1 1 1 1 1 2 1 3 3 3 2 1 1 1 1 1 1 2 1 2 2 2 1 1 1 1 1 1 1 2 2\n",
      " 2 2 1 2 1 2 2 2 1 1 1 2 2 1 1 1 1 1 1 3 2 2 2 2 1 1 1 1 1 1 1 1 2 1 1 1 2\n",
      " 2 1 1 1 1 1 1 1 1 1 1 2 1 1 1 1 1 2 0 0 0 2 2 1 2 2 1 1 2 1 1 1 2 1 1]\n"
     ]
    }
   ],
   "source": [
    "# Predict on dataset which model has not seen before\n",
    "print(rf.predict(np.array(sediment_test_x)))"
   ]
  },
  {
   "cell_type": "code",
   "execution_count": 63,
   "id": "21afae91",
   "metadata": {},
   "outputs": [
    {
     "name": "stdout",
     "output_type": "stream",
     "text": [
      "Accuracy: 0.9244186046511628\n",
      "F1 Score: 0.9257588046721943\n"
     ]
    }
   ],
   "source": [
    "rf_pred = rf.predict(np.array(sediment_test_x))\n",
    "\n",
    "# Calculate the accuracy and f1-score of the model\n",
    "accuracy = accuracy_score(rf_pred, np.array(sediment_encoded_test_y))\n",
    "f1 = f1_score(rf_pred, np.array(sediment_encoded_test_y), average=\"weighted\")\n",
    "\n",
    "print(\"Accuracy:\", accuracy)\n",
    "print(\"F1 Score:\", f1)"
   ]
  },
  {
   "cell_type": "code",
   "execution_count": 167,
   "id": "ba4d7d27",
   "metadata": {},
   "outputs": [
    {
     "data": {
      "image/png": "[encoded data removed]",
      "text/plain": [
       "<Figure size 1080x576 with 1 Axes>"
      ]
     },
     "metadata": {
      "needs_background": "light"
     },
     "output_type": "display_data"
    }
   ],
   "source": [
    "## After SMOTE-Tomek\n",
    "estimator_range = [50,100,150,200,250,300,350,400,450,500]\n",
    "\n",
    "models = []\n",
    "scores = []\n",
    "\n",
    "for i, n_estimators in enumerate(estimator_range):\n",
    "\n",
    "    # Create bagging classifier\n",
    "    rf = RandomForestClassifier(n_estimators = n_estimators, random_state = 22)\n",
    "\n",
    "    # Fit the model\n",
    "    rf.fit(np.array(sediment_train_x_smt), np.array(sediment_encoded_train_y_smt))\n",
    "\n",
    "    # Compute training and test data accuracy\n",
    "    train_accuracy[i] = rf.score(np.array(sediment_train_x_smt), np.array(sediment_encoded_train_y_smt))\n",
    "    test_accuracy[i] = rf.score(np.array(sediment_test_x), np.array(sediment_encoded_test_y))\n",
    "  \n",
    "# Generate plot\n",
    "plt.figure(figsize=(15,8))\n",
    "plt.plot(estimator_range, test_accuracy, label = 'Testing dataset Accuracy')\n",
    "plt.plot(estimator_range, train_accuracy, label = 'Training dataset Accuracy')\n",
    "  \n",
    "plt.legend(fontsize=20)\n",
    "plt.xlabel('number of estimators', fontsize=20)\n",
    "plt.ylabel('Accuracy', fontsize=20)\n",
    "plt.xticks(fontsize=15)\n",
    "plt.yticks(fontsize=15)\n",
    "plt.title('Random Forest', fontsize=20)\n",
    "\n",
    "plt.show()"
   ]
  },
  {
   "cell_type": "code",
   "execution_count": 168,
   "id": "6eefa945",
   "metadata": {},
   "outputs": [
    {
     "data": {
      "text/plain": [
       "array([0.89534884, 0.88953488, 0.89534884, 0.90116279, 0.89922481,\n",
       "       0.89728682, 0.89728682, 0.90116279, 0.90116279, 0.89922481])"
      ]
     },
     "execution_count": 168,
     "metadata": {},
     "output_type": "execute_result"
    }
   ],
   "source": [
    "test_accuracy # select n_estimators=200 (test_accuracy=0.90116279)"
   ]
  },
  {
   "cell_type": "code",
   "execution_count": 169,
   "id": "52ac72db",
   "metadata": {},
   "outputs": [
    {
     "data": {
      "text/plain": [
       "RandomForestClassifier(n_estimators=200, random_state=22)"
      ]
     },
     "execution_count": 169,
     "metadata": {},
     "output_type": "execute_result"
    }
   ],
   "source": [
    "# modeling with n-estimators=200\n",
    "rf = RandomForestClassifier(n_estimators = 200, random_state = 22)\n",
    "  \n",
    "rf.fit(np.array(sediment_train_x_smt), np.array(sediment_encoded_train_y_smt))"
   ]
  },
  {
   "cell_type": "code",
   "execution_count": 119,
   "id": "db233f84",
   "metadata": {},
   "outputs": [
    {
     "name": "stdout",
     "output_type": "stream",
     "text": [
      "[0 1 1 1 1 2 1 1 2 1 2 2 2 2 2 2 2 1 1 2 1 1 2 1 1 1 1 2 2 1 1 1 1 1 1 2 1\n",
      " 2 1 2 1 1 1 1 2 0 2 2 2 2 1 2 1 1 1 2 2 0 1 3 1 2 2 2 1 1 2 1 1 1 1 1 1 1\n",
      " 1 2 2 1 1 1 2 1 2 2 2 1 1 1 2 2 2 2 1 1 1 1 1 1 1 1 2 1 1 1 0 1 2 1 1 2 1\n",
      " 3 2 2 1 2 1 2 1 3 1 2 2 1 1 2 1 0 1 2 2 1 1 2 2 1 2 3 1 2 3 1 1 1 2 1 1 1\n",
      " 1 2 0 1 1 1 2 1 1 1 1 0 2 1 1 2 1 2 1 2 1 1 2 2 1 1 1 3 2 1 1 0 1 1 2 2 2\n",
      " 2 2 2 2 1 2 2 1 1 1 2 1 1 1 1 1 1 2 0 2 2 2 1 1 2 2 1 0 1 2 2 2 1 1 1 1 1\n",
      " 1 1 2 2 1 2 1 1 1 1 2 2 1 2 1 1 1 1 1 2 1 1 2 1 1 1 1 1 1 1 2 1 1 1 1 2 1\n",
      " 1 2 1 2 3 1 1 3 1 2 1 2 2 3 2 1 2 2 2 1 1 0 1 0 2 1 1 2 1 1 1 2 3 2 3 1 1\n",
      " 1 1 1 1 1 1 0 1 1 2 1 1 1 2 1 1 2 0 3 1 2 1 2 1 1 2 0 2 1 1 1 2 2 1 1 2 2\n",
      " 1 1 1 2 1 1 2 2 1 2 1 2 1 1 1 2 1 2 1 1 2 1 2 3 1 2 1 1 1 1 1 1 1 1 1 1 3\n",
      " 1 1 2 1 1 1 1 1 1 1 1 2 1 1 2 2 2 3 1 1 1 3 3 1 1 3 1 1 1 1 1 1 1 2 2 2 1\n",
      " 1 2 2 1 1 1 1 1 1 1 1 2 1 0 3 3 2 1 1 1 1 1 1 2 1 2 2 2 1 1 1 1 1 1 2 2 2\n",
      " 3 2 1 2 1 2 2 2 1 1 1 2 2 1 1 1 1 1 1 1 2 1 2 2 1 1 1 1 1 1 1 1 2 2 1 1 2\n",
      " 2 1 1 1 1 1 1 1 1 1 1 2 1 1 1 1 1 2 0 0 0 2 2 1 1 3 1 1 2 1 1 1 1 1 1]\n"
     ]
    }
   ],
   "source": [
    "# Predict on dataset which model has not seen before\n",
    "print(rf.predict(np.array(sediment_test_x)))"
   ]
  },
  {
   "cell_type": "code",
   "execution_count": 170,
   "id": "605f5f58",
   "metadata": {},
   "outputs": [
    {
     "name": "stdout",
     "output_type": "stream",
     "text": [
      "Accuracy: 0.9011627906976745\n",
      "F1 Score: 0.9016404194614509\n"
     ]
    }
   ],
   "source": [
    "rf_pred = rf.predict(np.array(sediment_test_x))\n",
    "\n",
    "# Calculate the accuracy and f1-score of the model\n",
    "accuracy = accuracy_score(rf_pred, np.array(sediment_encoded_test_y))\n",
    "f1 = f1_score(rf_pred, np.array(sediment_encoded_test_y), average=\"weighted\")\n",
    "\n",
    "print(\"Accuracy:\", accuracy)\n",
    "print(\"F1 Score:\", f1)"
   ]
  },
  {
   "cell_type": "code",
   "execution_count": null,
   "id": "3c11fe2b",
   "metadata": {},
   "outputs": [],
   "source": []
  },
  {
   "cell_type": "code",
   "execution_count": null,
   "id": "561a93b1",
   "metadata": {},
   "outputs": [],
   "source": []
  },
  {
   "cell_type": "code",
   "execution_count": 42,
   "id": "f90f2c68",
   "metadata": {},
   "outputs": [],
   "source": [
    "### Support Vector Machine (SVM)\n",
    "import sklearn.svm as svm\n",
    "import sklearn.metrics as mt\n",
    "from sklearn.model_selection import cross_val_score, cross_validate"
   ]
  },
  {
   "cell_type": "code",
   "execution_count": 123,
   "id": "62afdd9d",
   "metadata": {},
   "outputs": [
    {
     "ename": "ValueError",
     "evalue": "x and y must have same first dimension, but have shapes (1,) and (10,)",
     "output_type": "error",
     "traceback": [
      "\u001b[1;31m---------------------------------------------------------------------------\u001b[0m",
      "\u001b[1;31mValueError\u001b[0m                                Traceback (most recent call last)",
      "Input \u001b[1;32mIn [123]\u001b[0m, in \u001b[0;36m<cell line: 21>\u001b[1;34m()\u001b[0m\n\u001b[0;32m     19\u001b[0m \u001b[38;5;66;03m# Generate plot\u001b[39;00m\n\u001b[0;32m     20\u001b[0m plt\u001b[38;5;241m.\u001b[39mfigure(figsize\u001b[38;5;241m=\u001b[39m(\u001b[38;5;241m15\u001b[39m,\u001b[38;5;241m8\u001b[39m))\n\u001b[1;32m---> 21\u001b[0m \u001b[43mplt\u001b[49m\u001b[38;5;241;43m.\u001b[39;49m\u001b[43mplot\u001b[49m\u001b[43m(\u001b[49m\u001b[43mC_float\u001b[49m\u001b[43m,\u001b[49m\u001b[43m \u001b[49m\u001b[43mtest_accuracy\u001b[49m\u001b[43m,\u001b[49m\u001b[43m \u001b[49m\u001b[43mlabel\u001b[49m\u001b[43m \u001b[49m\u001b[38;5;241;43m=\u001b[39;49m\u001b[43m \u001b[49m\u001b[38;5;124;43m'\u001b[39;49m\u001b[38;5;124;43mTesting dataset Accuracy\u001b[39;49m\u001b[38;5;124;43m'\u001b[39;49m\u001b[43m)\u001b[49m\n\u001b[0;32m     22\u001b[0m plt\u001b[38;5;241m.\u001b[39mplot(C_float, train_accuracy, label \u001b[38;5;241m=\u001b[39m \u001b[38;5;124m'\u001b[39m\u001b[38;5;124mTraining dataset Accuracy\u001b[39m\u001b[38;5;124m'\u001b[39m)\n\u001b[0;32m     24\u001b[0m plt\u001b[38;5;241m.\u001b[39mlegend(fontsize\u001b[38;5;241m=\u001b[39m\u001b[38;5;241m20\u001b[39m)\n",
      "File \u001b[1;32m~\\anaconda3\\lib\\site-packages\\matplotlib\\pyplot.py:2757\u001b[0m, in \u001b[0;36mplot\u001b[1;34m(scalex, scaley, data, *args, **kwargs)\u001b[0m\n\u001b[0;32m   2755\u001b[0m \u001b[38;5;129m@_copy_docstring_and_deprecators\u001b[39m(Axes\u001b[38;5;241m.\u001b[39mplot)\n\u001b[0;32m   2756\u001b[0m \u001b[38;5;28;01mdef\u001b[39;00m \u001b[38;5;21mplot\u001b[39m(\u001b[38;5;241m*\u001b[39margs, scalex\u001b[38;5;241m=\u001b[39m\u001b[38;5;28;01mTrue\u001b[39;00m, scaley\u001b[38;5;241m=\u001b[39m\u001b[38;5;28;01mTrue\u001b[39;00m, data\u001b[38;5;241m=\u001b[39m\u001b[38;5;28;01mNone\u001b[39;00m, \u001b[38;5;241m*\u001b[39m\u001b[38;5;241m*\u001b[39mkwargs):\n\u001b[1;32m-> 2757\u001b[0m     \u001b[38;5;28;01mreturn\u001b[39;00m gca()\u001b[38;5;241m.\u001b[39mplot(\n\u001b[0;32m   2758\u001b[0m         \u001b[38;5;241m*\u001b[39margs, scalex\u001b[38;5;241m=\u001b[39mscalex, scaley\u001b[38;5;241m=\u001b[39mscaley,\n\u001b[0;32m   2759\u001b[0m         \u001b[38;5;241m*\u001b[39m\u001b[38;5;241m*\u001b[39m({\u001b[38;5;124m\"\u001b[39m\u001b[38;5;124mdata\u001b[39m\u001b[38;5;124m\"\u001b[39m: data} \u001b[38;5;28;01mif\u001b[39;00m data \u001b[38;5;129;01mis\u001b[39;00m \u001b[38;5;129;01mnot\u001b[39;00m \u001b[38;5;28;01mNone\u001b[39;00m \u001b[38;5;28;01melse\u001b[39;00m {}), \u001b[38;5;241m*\u001b[39m\u001b[38;5;241m*\u001b[39mkwargs)\n",
      "File \u001b[1;32m~\\anaconda3\\lib\\site-packages\\matplotlib\\axes\\_axes.py:1632\u001b[0m, in \u001b[0;36mAxes.plot\u001b[1;34m(self, scalex, scaley, data, *args, **kwargs)\u001b[0m\n\u001b[0;32m   1390\u001b[0m \u001b[38;5;124;03m\"\"\"\u001b[39;00m\n\u001b[0;32m   1391\u001b[0m \u001b[38;5;124;03mPlot y versus x as lines and/or markers.\u001b[39;00m\n\u001b[0;32m   1392\u001b[0m \n\u001b[1;32m   (...)\u001b[0m\n\u001b[0;32m   1629\u001b[0m \u001b[38;5;124;03m(``'green'``) or hex strings (``'#008000'``).\u001b[39;00m\n\u001b[0;32m   1630\u001b[0m \u001b[38;5;124;03m\"\"\"\u001b[39;00m\n\u001b[0;32m   1631\u001b[0m kwargs \u001b[38;5;241m=\u001b[39m cbook\u001b[38;5;241m.\u001b[39mnormalize_kwargs(kwargs, mlines\u001b[38;5;241m.\u001b[39mLine2D)\n\u001b[1;32m-> 1632\u001b[0m lines \u001b[38;5;241m=\u001b[39m [\u001b[38;5;241m*\u001b[39m\u001b[38;5;28mself\u001b[39m\u001b[38;5;241m.\u001b[39m_get_lines(\u001b[38;5;241m*\u001b[39margs, data\u001b[38;5;241m=\u001b[39mdata, \u001b[38;5;241m*\u001b[39m\u001b[38;5;241m*\u001b[39mkwargs)]\n\u001b[0;32m   1633\u001b[0m \u001b[38;5;28;01mfor\u001b[39;00m line \u001b[38;5;129;01min\u001b[39;00m lines:\n\u001b[0;32m   1634\u001b[0m     \u001b[38;5;28mself\u001b[39m\u001b[38;5;241m.\u001b[39madd_line(line)\n",
      "File \u001b[1;32m~\\anaconda3\\lib\\site-packages\\matplotlib\\axes\\_base.py:312\u001b[0m, in \u001b[0;36m_process_plot_var_args.__call__\u001b[1;34m(self, data, *args, **kwargs)\u001b[0m\n\u001b[0;32m    310\u001b[0m     this \u001b[38;5;241m+\u001b[39m\u001b[38;5;241m=\u001b[39m args[\u001b[38;5;241m0\u001b[39m],\n\u001b[0;32m    311\u001b[0m     args \u001b[38;5;241m=\u001b[39m args[\u001b[38;5;241m1\u001b[39m:]\n\u001b[1;32m--> 312\u001b[0m \u001b[38;5;28;01myield from\u001b[39;00m \u001b[38;5;28;43mself\u001b[39;49m\u001b[38;5;241;43m.\u001b[39;49m\u001b[43m_plot_args\u001b[49m\u001b[43m(\u001b[49m\u001b[43mthis\u001b[49m\u001b[43m,\u001b[49m\u001b[43m \u001b[49m\u001b[43mkwargs\u001b[49m\u001b[43m)\u001b[49m\n",
      "File \u001b[1;32m~\\anaconda3\\lib\\site-packages\\matplotlib\\axes\\_base.py:498\u001b[0m, in \u001b[0;36m_process_plot_var_args._plot_args\u001b[1;34m(self, tup, kwargs, return_kwargs)\u001b[0m\n\u001b[0;32m    495\u001b[0m     \u001b[38;5;28mself\u001b[39m\u001b[38;5;241m.\u001b[39maxes\u001b[38;5;241m.\u001b[39myaxis\u001b[38;5;241m.\u001b[39mupdate_units(y)\n\u001b[0;32m    497\u001b[0m \u001b[38;5;28;01mif\u001b[39;00m x\u001b[38;5;241m.\u001b[39mshape[\u001b[38;5;241m0\u001b[39m] \u001b[38;5;241m!=\u001b[39m y\u001b[38;5;241m.\u001b[39mshape[\u001b[38;5;241m0\u001b[39m]:\n\u001b[1;32m--> 498\u001b[0m     \u001b[38;5;28;01mraise\u001b[39;00m \u001b[38;5;167;01mValueError\u001b[39;00m(\u001b[38;5;124mf\u001b[39m\u001b[38;5;124m\"\u001b[39m\u001b[38;5;124mx and y must have same first dimension, but \u001b[39m\u001b[38;5;124m\"\u001b[39m\n\u001b[0;32m    499\u001b[0m                      \u001b[38;5;124mf\u001b[39m\u001b[38;5;124m\"\u001b[39m\u001b[38;5;124mhave shapes \u001b[39m\u001b[38;5;132;01m{\u001b[39;00mx\u001b[38;5;241m.\u001b[39mshape\u001b[38;5;132;01m}\u001b[39;00m\u001b[38;5;124m and \u001b[39m\u001b[38;5;132;01m{\u001b[39;00my\u001b[38;5;241m.\u001b[39mshape\u001b[38;5;132;01m}\u001b[39;00m\u001b[38;5;124m\"\u001b[39m)\n\u001b[0;32m    500\u001b[0m \u001b[38;5;28;01mif\u001b[39;00m x\u001b[38;5;241m.\u001b[39mndim \u001b[38;5;241m>\u001b[39m \u001b[38;5;241m2\u001b[39m \u001b[38;5;129;01mor\u001b[39;00m y\u001b[38;5;241m.\u001b[39mndim \u001b[38;5;241m>\u001b[39m \u001b[38;5;241m2\u001b[39m:\n\u001b[0;32m    501\u001b[0m     \u001b[38;5;28;01mraise\u001b[39;00m \u001b[38;5;167;01mValueError\u001b[39;00m(\u001b[38;5;124mf\u001b[39m\u001b[38;5;124m\"\u001b[39m\u001b[38;5;124mx and y can be no greater than 2D, but have \u001b[39m\u001b[38;5;124m\"\u001b[39m\n\u001b[0;32m    502\u001b[0m                      \u001b[38;5;124mf\u001b[39m\u001b[38;5;124m\"\u001b[39m\u001b[38;5;124mshapes \u001b[39m\u001b[38;5;132;01m{\u001b[39;00mx\u001b[38;5;241m.\u001b[39mshape\u001b[38;5;132;01m}\u001b[39;00m\u001b[38;5;124m and \u001b[39m\u001b[38;5;132;01m{\u001b[39;00my\u001b[38;5;241m.\u001b[39mshape\u001b[38;5;132;01m}\u001b[39;00m\u001b[38;5;124m\"\u001b[39m)\n",
      "\u001b[1;31mValueError\u001b[0m: x and y must have same first dimension, but have shapes (1,) and (10,)"
     ]
    },
    {
     "data": {
      "image/png": "[encoded data removed]",
      "text/plain": [
       "<Figure size 1080x576 with 1 Axes>"
      ]
     },
     "metadata": {
      "needs_background": "light"
     },
     "output_type": "display_data"
    }
   ],
   "source": [
    "## Before SMOTE\n",
    "C_float = [0.2,0.4,0.6,0.8,1.0,1.2,1.4,1.6,1.8,2.0]\n",
    "\n",
    "models = []\n",
    "scores = []\n",
    "\n",
    "for i, C_float in enumerate(C_float):\n",
    "\n",
    "    # Create bagging classifier\n",
    "    svc = svm.SVC(kernel = \"rbf\", C = C_float, random_state = 100)\n",
    "\n",
    "    # Fit the model\n",
    "    svc.fit(np.array(sediment_train_x), np.array(sediment_encoded_train_y))\n",
    "\n",
    "    # Compute training and test data accuracy\n",
    "    train_accuracy[i] = svc.score(np.array(sediment_train_x), np.array(sediment_encoded_train_y))\n",
    "    test_accuracy[i] = svc.score(np.array(sediment_test_x), np.array(sediment_encoded_test_y))\n",
    "  \n",
    "# Generate plot\n",
    "plt.figure(figsize=(15,8))\n",
    "plt.plot(C_float, test_accuracy, label = 'Testing dataset Accuracy')\n",
    "plt.plot(C_float, train_accuracy, label = 'Training dataset Accuracy')\n",
    "  \n",
    "plt.legend(fontsize=20)\n",
    "plt.xlabel('C_float', fontsize=20)\n",
    "plt.ylabel('Accuracy', fontsize=20)\n",
    "plt.xticks(fontsize=15)\n",
    "plt.yticks(fontsize=15)\n",
    "plt.title('Support Vector Machine', fontsize=20)\n",
    "\n",
    "plt.show()"
   ]
  },
  {
   "cell_type": "code",
   "execution_count": null,
   "id": "c6d4c3fe",
   "metadata": {},
   "outputs": [],
   "source": []
  },
  {
   "cell_type": "code",
   "execution_count": 122,
   "id": "d5a163cc",
   "metadata": {},
   "outputs": [
    {
     "data": {
      "text/plain": [
       "array([0.60465116, 0.60465116, 0.61046512, 0.61821705, 0.61821705,\n",
       "       0.62403101, 0.63178295, 0.64534884, 0.65697674, 0.6627907 ])"
      ]
     },
     "execution_count": 122,
     "metadata": {},
     "output_type": "execute_result"
    }
   ],
   "source": [
    "test_accuracy # select n_estimators=150 (test_accuracy=0.9244186)"
   ]
  },
  {
   "cell_type": "code",
   "execution_count": null,
   "id": "e5994cfb",
   "metadata": {},
   "outputs": [],
   "source": [
    "# modeling with n-estimators=20\n",
    "svc = svm.SVC(kernel = \"rbf\", C = 2.0, random_state = 100)\n",
    "  \n",
    "svc.fit(np.array(sediment_train_x), np.array(sediment_encoded_train_y))"
   ]
  },
  {
   "cell_type": "code",
   "execution_count": null,
   "id": "fcc1e909",
   "metadata": {},
   "outputs": [],
   "source": [
    "# Predict on dataset which model has not seen before\n",
    "print(svc.predict(np.array(sediment_test_x)))"
   ]
  },
  {
   "cell_type": "code",
   "execution_count": null,
   "id": "126ddd74",
   "metadata": {},
   "outputs": [],
   "source": [
    "svc_pred = svc.predict(np.array(sediment_test_x))\n",
    "\n",
    "# Calculate the accuracy and f1-score of the model\n",
    "accuracy = accuracy_score(svc_pred, np.array(sediment_encoded_test_y))\n",
    "f1 = f1_score(svc_pred, np.array(sediment_encoded_test_y), average=\"weighted\")\n",
    "\n",
    "print(\"Accuracy:\", accuracy)\n",
    "print(\"F1 Score:\", f1)"
   ]
  },
  {
   "cell_type": "code",
   "execution_count": null,
   "id": "6493543b",
   "metadata": {},
   "outputs": [],
   "source": []
  }
 ],
 "metadata": {
  "kernelspec": {
   "display_name": "Python 3 (ipykernel)",
   "language": "python",
   "name": "python3"
  },
  "language_info": {
   "codemirror_mode": {
    "name": "ipython",
    "version": 3
   },
   "file_extension": ".py",
   "mimetype": "text/x-python",
   "name": "python",
   "nbconvert_exporter": "python",
   "pygments_lexer": "ipython3",
   "version": "3.9.12"
  }
 },
 "nbformat": 4,
 "nbformat_minor": 5
}
