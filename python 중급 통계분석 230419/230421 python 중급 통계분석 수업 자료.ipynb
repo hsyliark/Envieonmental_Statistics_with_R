{
 "cells": [
  {
   "cell_type": "code",
   "execution_count": 1,
   "id": "1fb0c1c6",
   "metadata": {},
   "outputs": [],
   "source": [
    "# 도움말 보기\n",
    "# 함수 괄호 앞에서 Shift + Tap\n",
    "# help(해당함수 또는 import한 기능)\n",
    "\n",
    "# 워킹디렉토리 지정\n",
    "import os\n",
    "os.chdir(\"D:/python 실습자료\")"
   ]
  },
  {
   "cell_type": "code",
   "execution_count": 2,
   "id": "6ff3a0a6",
   "metadata": {},
   "outputs": [],
   "source": [
    "# 230421 수업"
   ]
  },
  {
   "cell_type": "code",
   "execution_count": 3,
   "id": "21b71771",
   "metadata": {},
   "outputs": [],
   "source": [
    "import pandas as pd"
   ]
  },
  {
   "cell_type": "code",
   "execution_count": 40,
   "id": "4cf75725",
   "metadata": {},
   "outputs": [],
   "source": [
    "import seaborn as sns\n",
    "iris = sns.load_dataset('iris')"
   ]
  },
  {
   "cell_type": "code",
   "execution_count": 41,
   "id": "566c3383",
   "metadata": {},
   "outputs": [
    {
     "name": "stdout",
     "output_type": "stream",
     "text": [
      "<class 'pandas.core.frame.DataFrame'>\n",
      "RangeIndex: 150 entries, 0 to 149\n",
      "Data columns (total 5 columns):\n",
      " #   Column        Non-Null Count  Dtype  \n",
      "---  ------        --------------  -----  \n",
      " 0   sepal_length  150 non-null    float64\n",
      " 1   sepal_width   150 non-null    float64\n",
      " 2   petal_length  150 non-null    float64\n",
      " 3   petal_width   150 non-null    float64\n",
      " 4   species       150 non-null    object \n",
      "dtypes: float64(4), object(1)\n",
      "memory usage: 6.0+ KB\n"
     ]
    }
   ],
   "source": [
    "iris.info()"
   ]
  },
  {
   "cell_type": "code",
   "execution_count": 43,
   "id": "2b249e98",
   "metadata": {},
   "outputs": [],
   "source": [
    "y = iris['species']\n",
    "X = iris.drop('species',axis=1)\n",
    "\n",
    "from sklearn.preprocessing import LabelEncoder\n",
    "classle = LabelEncoder() \n",
    "y = classle.fit_transform(y) # 문자형 범주 변수를 수치화\n",
    "\n",
    "from sklearn.model_selection import train_test_split\n",
    "X_train, X_test, y_train, y_test = train_test_split(X, y, test_size=0.3, random_state=0, stratify=y)\n",
    "\n",
    "from sklearn.preprocessing import StandardScaler # 자료 표준화는 상황에 따라 취사 선택\n",
    "sc = StandardScaler() \n",
    "sc.fit(X_train) # 표준화 식 완성 => 평균, 표준편차 계산\n",
    "X_train_std = sc.transform(X_train) # 자료 표준화\n",
    "X_test_std = sc.transform(X_test)"
   ]
  },
  {
   "cell_type": "code",
   "execution_count": 44,
   "id": "7a44727a",
   "metadata": {},
   "outputs": [],
   "source": [
    "# K-Nearest-Neighbors (표준화 X)\n",
    "from sklearn.neighbors import KNeighborsClassifier"
   ]
  },
  {
   "cell_type": "code",
   "execution_count": 45,
   "id": "37c8ef84",
   "metadata": {},
   "outputs": [],
   "source": [
    "knn = KNeighborsClassifier(n_neighbors=5).fit(X_train, y_train)"
   ]
  },
  {
   "cell_type": "code",
   "execution_count": 46,
   "id": "8b6aad85",
   "metadata": {},
   "outputs": [],
   "source": [
    "y_train_pred = knn.predict(X_train)\n",
    "y_test_pred = knn.predict(X_test)"
   ]
  },
  {
   "cell_type": "code",
   "execution_count": 47,
   "id": "a1de31e4",
   "metadata": {},
   "outputs": [
    {
     "data": {
      "text/plain": [
       "array([[35,  0,  0],\n",
       "       [ 0, 32,  3],\n",
       "       [ 0,  1, 34]], dtype=int64)"
      ]
     },
     "execution_count": 47,
     "metadata": {},
     "output_type": "execute_result"
    }
   ],
   "source": [
    "from sklearn.metrics import confusion_matrix, classification_report\n",
    "confusion_matrix(y_train, y_train_pred)"
   ]
  },
  {
   "cell_type": "code",
   "execution_count": 48,
   "id": "7fafb866",
   "metadata": {},
   "outputs": [
    {
     "name": "stdout",
     "output_type": "stream",
     "text": [
      "              precision    recall  f1-score   support\n",
      "\n",
      "           0       1.00      1.00      1.00        35\n",
      "           1       0.97      0.91      0.94        35\n",
      "           2       0.92      0.97      0.94        35\n",
      "\n",
      "    accuracy                           0.96       105\n",
      "   macro avg       0.96      0.96      0.96       105\n",
      "weighted avg       0.96      0.96      0.96       105\n",
      "\n"
     ]
    }
   ],
   "source": [
    "print(classification_report(y_train, y_train_pred))"
   ]
  },
  {
   "cell_type": "code",
   "execution_count": 49,
   "id": "bd48208c",
   "metadata": {},
   "outputs": [
    {
     "data": {
      "text/plain": [
       "array([[15,  0,  0],\n",
       "       [ 0, 15,  0],\n",
       "       [ 0,  0, 15]], dtype=int64)"
      ]
     },
     "execution_count": 49,
     "metadata": {},
     "output_type": "execute_result"
    }
   ],
   "source": [
    "confusion_matrix(y_test, y_test_pred)"
   ]
  },
  {
   "cell_type": "code",
   "execution_count": 50,
   "id": "934ef06a",
   "metadata": {},
   "outputs": [
    {
     "name": "stdout",
     "output_type": "stream",
     "text": [
      "              precision    recall  f1-score   support\n",
      "\n",
      "           0       1.00      1.00      1.00        15\n",
      "           1       1.00      1.00      1.00        15\n",
      "           2       1.00      1.00      1.00        15\n",
      "\n",
      "    accuracy                           1.00        45\n",
      "   macro avg       1.00      1.00      1.00        45\n",
      "weighted avg       1.00      1.00      1.00        45\n",
      "\n"
     ]
    }
   ],
   "source": [
    "print(classification_report(y_test, y_test_pred))"
   ]
  },
  {
   "cell_type": "code",
   "execution_count": 51,
   "id": "335e8537",
   "metadata": {},
   "outputs": [
    {
     "data": {
      "text/plain": [
       "array([1., 1., 1.])"
      ]
     },
     "execution_count": 51,
     "metadata": {},
     "output_type": "execute_result"
    }
   ],
   "source": [
    "from sklearn.metrics import recall_score, precision_score, f1_score\n",
    "recall_score(y_test, y_test_pred, average=None) # 예측하고자 하는 결과가 3개 이상인 경우 average=None 지정"
   ]
  },
  {
   "cell_type": "code",
   "execution_count": 52,
   "id": "5849b2d5",
   "metadata": {},
   "outputs": [
    {
     "data": {
      "text/plain": [
       "array([1., 1., 1.])"
      ]
     },
     "execution_count": 52,
     "metadata": {},
     "output_type": "execute_result"
    }
   ],
   "source": [
    "precision_score(y_test, y_test_pred, average=None)"
   ]
  },
  {
   "cell_type": "code",
   "execution_count": 53,
   "id": "ae8bb9e4",
   "metadata": {},
   "outputs": [
    {
     "data": {
      "text/plain": [
       "array([1., 1., 1.])"
      ]
     },
     "execution_count": 53,
     "metadata": {},
     "output_type": "execute_result"
    }
   ],
   "source": [
    "f1_score(y_test, y_test_pred, average=None)"
   ]
  },
  {
   "cell_type": "code",
   "execution_count": 54,
   "id": "16512307",
   "metadata": {},
   "outputs": [],
   "source": [
    "# K-Nearest-Neighbors (표준화 O)\n",
    "from sklearn.neighbors import KNeighborsClassifier"
   ]
  },
  {
   "cell_type": "code",
   "execution_count": 55,
   "id": "f42b215a",
   "metadata": {},
   "outputs": [],
   "source": [
    "knn = KNeighborsClassifier(n_neighbors=5).fit(X_train_std, y_train)"
   ]
  },
  {
   "cell_type": "code",
   "execution_count": 56,
   "id": "dd01d761",
   "metadata": {},
   "outputs": [],
   "source": [
    "y_train_pred = knn.predict(X_train_std)\n",
    "y_test_pred = knn.predict(X_test_std)"
   ]
  },
  {
   "cell_type": "code",
   "execution_count": 57,
   "id": "4790c91b",
   "metadata": {},
   "outputs": [
    {
     "data": {
      "text/plain": [
       "array([[35,  0,  0],\n",
       "       [ 0, 34,  1],\n",
       "       [ 0,  3, 32]], dtype=int64)"
      ]
     },
     "execution_count": 57,
     "metadata": {},
     "output_type": "execute_result"
    }
   ],
   "source": [
    "from sklearn.metrics import confusion_matrix, classification_report\n",
    "confusion_matrix(y_train, y_train_pred)"
   ]
  },
  {
   "cell_type": "code",
   "execution_count": 58,
   "id": "2f8ce7b2",
   "metadata": {},
   "outputs": [
    {
     "name": "stdout",
     "output_type": "stream",
     "text": [
      "              precision    recall  f1-score   support\n",
      "\n",
      "           0       1.00      1.00      1.00        35\n",
      "           1       0.92      0.97      0.94        35\n",
      "           2       0.97      0.91      0.94        35\n",
      "\n",
      "    accuracy                           0.96       105\n",
      "   macro avg       0.96      0.96      0.96       105\n",
      "weighted avg       0.96      0.96      0.96       105\n",
      "\n"
     ]
    }
   ],
   "source": [
    "print(classification_report(y_train, y_train_pred))"
   ]
  },
  {
   "cell_type": "code",
   "execution_count": 59,
   "id": "9f031fd1",
   "metadata": {},
   "outputs": [
    {
     "data": {
      "text/plain": [
       "array([[15,  0,  0],\n",
       "       [ 0, 15,  0],\n",
       "       [ 0,  1, 14]], dtype=int64)"
      ]
     },
     "execution_count": 59,
     "metadata": {},
     "output_type": "execute_result"
    }
   ],
   "source": [
    "confusion_matrix(y_test, y_test_pred)"
   ]
  },
  {
   "cell_type": "code",
   "execution_count": 60,
   "id": "7a74e707",
   "metadata": {},
   "outputs": [
    {
     "name": "stdout",
     "output_type": "stream",
     "text": [
      "              precision    recall  f1-score   support\n",
      "\n",
      "           0       1.00      1.00      1.00        15\n",
      "           1       0.94      1.00      0.97        15\n",
      "           2       1.00      0.93      0.97        15\n",
      "\n",
      "    accuracy                           0.98        45\n",
      "   macro avg       0.98      0.98      0.98        45\n",
      "weighted avg       0.98      0.98      0.98        45\n",
      "\n"
     ]
    }
   ],
   "source": [
    "print(classification_report(y_test, y_test_pred))"
   ]
  },
  {
   "cell_type": "code",
   "execution_count": 61,
   "id": "1b7a6690",
   "metadata": {},
   "outputs": [
    {
     "data": {
      "text/plain": [
       "array([1.        , 1.        , 0.93333333])"
      ]
     },
     "execution_count": 61,
     "metadata": {},
     "output_type": "execute_result"
    }
   ],
   "source": [
    "from sklearn.metrics import recall_score, precision_score, f1_score\n",
    "recall_score(y_test, y_test_pred, average=None) # 예측하고자 하는 결과가 3개 이상인 경우 average=None 지정"
   ]
  },
  {
   "cell_type": "code",
   "execution_count": 62,
   "id": "b770126b",
   "metadata": {},
   "outputs": [
    {
     "data": {
      "text/plain": [
       "array([1.    , 0.9375, 1.    ])"
      ]
     },
     "execution_count": 62,
     "metadata": {},
     "output_type": "execute_result"
    }
   ],
   "source": [
    "precision_score(y_test, y_test_pred, average=None)"
   ]
  },
  {
   "cell_type": "code",
   "execution_count": 63,
   "id": "143a02e5",
   "metadata": {},
   "outputs": [
    {
     "data": {
      "text/plain": [
       "array([1.        , 0.96774194, 0.96551724])"
      ]
     },
     "execution_count": 63,
     "metadata": {},
     "output_type": "execute_result"
    }
   ],
   "source": [
    "f1_score(y_test, y_test_pred, average=None)"
   ]
  },
  {
   "cell_type": "code",
   "execution_count": 28,
   "id": "eef443fe",
   "metadata": {},
   "outputs": [],
   "source": [
    "# example\n",
    "import pandas as pd\n",
    "# 1) 허리 둘레.csv 불러오기\n",
    "df = pd.read_csv('허리둘레.csv', encoding='cp949')\n",
    "# 2) 허리둘레(윗허리) : 0은 결측자료\n",
    "import numpy as np\n",
    "df['허리둘레'] = df['허리둘레(윗허리)'].replace(0, np.nan)\n",
    "df = df.dropna(subset=['허리둘레'], axis=0)\n",
    "# 3) BMI 계산: 몸무게/(키(m)**2)\n",
    "df['BMI'] = df['몸무게']/((df['키']/100)**2)\n",
    "\n",
    "# 4) BMI등급화: <18.5 저체중, 18.5<= < 23: 정상, 23<=비만\n",
    "df['BMI_c'] = pd.cut(df['BMI'], bins=[0,18.5,23,100],\n",
    "       labels=['저체중', '정상', '비만'], right=False)"
   ]
  },
  {
   "cell_type": "code",
   "execution_count": 29,
   "id": "dc51e7dc",
   "metadata": {},
   "outputs": [
    {
     "data": {
      "text/html": [
       "<div>\n",
       "<style scoped>\n",
       "    .dataframe tbody tr th:only-of-type {\n",
       "        vertical-align: middle;\n",
       "    }\n",
       "\n",
       "    .dataframe tbody tr th {\n",
       "        vertical-align: top;\n",
       "    }\n",
       "\n",
       "    .dataframe thead th {\n",
       "        text-align: right;\n",
       "    }\n",
       "</style>\n",
       "<table border=\"1\" class=\"dataframe\">\n",
       "  <thead>\n",
       "    <tr style=\"text-align: right;\">\n",
       "      <th></th>\n",
       "      <th>성별</th>\n",
       "      <th>측정일자</th>\n",
       "      <th>키</th>\n",
       "      <th>몸무게</th>\n",
       "      <th>머리둘레</th>\n",
       "      <th>희망치수머리</th>\n",
       "      <th>목둘레</th>\n",
       "      <th>화장</th>\n",
       "      <th>젖가슴둘레</th>\n",
       "      <th>배꼽수준허리둘레</th>\n",
       "      <th>...</th>\n",
       "      <th>윗가슴둘레(겨드랑이)</th>\n",
       "      <th>허리둘레(윗허리)</th>\n",
       "      <th>어깨가쪽사이길이</th>\n",
       "      <th>팔길이</th>\n",
       "      <th>등길이</th>\n",
       "      <th>다리가쪽길이</th>\n",
       "      <th>총장</th>\n",
       "      <th>허리둘레</th>\n",
       "      <th>BMI</th>\n",
       "      <th>BMI_c</th>\n",
       "    </tr>\n",
       "  </thead>\n",
       "  <tbody>\n",
       "    <tr>\n",
       "      <th>0</th>\n",
       "      <td>남</td>\n",
       "      <td>2021-06-16</td>\n",
       "      <td>169.2</td>\n",
       "      <td>55.6</td>\n",
       "      <td>54.1</td>\n",
       "      <td>0</td>\n",
       "      <td>34.7</td>\n",
       "      <td>60.3</td>\n",
       "      <td>86.4</td>\n",
       "      <td>67.5</td>\n",
       "      <td>...</td>\n",
       "      <td>86.8</td>\n",
       "      <td>70.8</td>\n",
       "      <td>40.5</td>\n",
       "      <td>39.4</td>\n",
       "      <td>32.5</td>\n",
       "      <td>99.5</td>\n",
       "      <td>142.0</td>\n",
       "      <td>70.8</td>\n",
       "      <td>19.421111</td>\n",
       "      <td>정상</td>\n",
       "    </tr>\n",
       "    <tr>\n",
       "      <th>1</th>\n",
       "      <td>남</td>\n",
       "      <td>2021-06-16</td>\n",
       "      <td>182.7</td>\n",
       "      <td>66.6</td>\n",
       "      <td>55.8</td>\n",
       "      <td>0</td>\n",
       "      <td>36.3</td>\n",
       "      <td>87.5</td>\n",
       "      <td>90.6</td>\n",
       "      <td>75.7</td>\n",
       "      <td>...</td>\n",
       "      <td>95.9</td>\n",
       "      <td>75.2</td>\n",
       "      <td>54.9</td>\n",
       "      <td>61.9</td>\n",
       "      <td>37.5</td>\n",
       "      <td>106.0</td>\n",
       "      <td>153.5</td>\n",
       "      <td>75.2</td>\n",
       "      <td>19.952491</td>\n",
       "      <td>정상</td>\n",
       "    </tr>\n",
       "    <tr>\n",
       "      <th>2</th>\n",
       "      <td>남</td>\n",
       "      <td>2021-06-16</td>\n",
       "      <td>177.7</td>\n",
       "      <td>79.7</td>\n",
       "      <td>58.5</td>\n",
       "      <td>0</td>\n",
       "      <td>38.3</td>\n",
       "      <td>77.0</td>\n",
       "      <td>98.6</td>\n",
       "      <td>85.2</td>\n",
       "      <td>...</td>\n",
       "      <td>104.7</td>\n",
       "      <td>85.8</td>\n",
       "      <td>57.4</td>\n",
       "      <td>50.6</td>\n",
       "      <td>38.0</td>\n",
       "      <td>102.0</td>\n",
       "      <td>150.0</td>\n",
       "      <td>85.8</td>\n",
       "      <td>25.239658</td>\n",
       "      <td>비만</td>\n",
       "    </tr>\n",
       "    <tr>\n",
       "      <th>3</th>\n",
       "      <td>남</td>\n",
       "      <td>2021-06-16</td>\n",
       "      <td>171.3</td>\n",
       "      <td>69.4</td>\n",
       "      <td>56.3</td>\n",
       "      <td>0</td>\n",
       "      <td>37.0</td>\n",
       "      <td>77.0</td>\n",
       "      <td>93.9</td>\n",
       "      <td>78.5</td>\n",
       "      <td>...</td>\n",
       "      <td>94.7</td>\n",
       "      <td>80.5</td>\n",
       "      <td>54.2</td>\n",
       "      <td>50.9</td>\n",
       "      <td>35.5</td>\n",
       "      <td>99.0</td>\n",
       "      <td>144.5</td>\n",
       "      <td>80.5</td>\n",
       "      <td>23.650741</td>\n",
       "      <td>비만</td>\n",
       "    </tr>\n",
       "    <tr>\n",
       "      <th>4</th>\n",
       "      <td>남</td>\n",
       "      <td>2021-06-16</td>\n",
       "      <td>173.8</td>\n",
       "      <td>63.9</td>\n",
       "      <td>55.5</td>\n",
       "      <td>0</td>\n",
       "      <td>36.1</td>\n",
       "      <td>62.3</td>\n",
       "      <td>89.9</td>\n",
       "      <td>74.2</td>\n",
       "      <td>...</td>\n",
       "      <td>89.6</td>\n",
       "      <td>75.0</td>\n",
       "      <td>47.5</td>\n",
       "      <td>39.6</td>\n",
       "      <td>28.5</td>\n",
       "      <td>108.0</td>\n",
       "      <td>146.5</td>\n",
       "      <td>75.0</td>\n",
       "      <td>21.154429</td>\n",
       "      <td>정상</td>\n",
       "    </tr>\n",
       "    <tr>\n",
       "      <th>...</th>\n",
       "      <td>...</td>\n",
       "      <td>...</td>\n",
       "      <td>...</td>\n",
       "      <td>...</td>\n",
       "      <td>...</td>\n",
       "      <td>...</td>\n",
       "      <td>...</td>\n",
       "      <td>...</td>\n",
       "      <td>...</td>\n",
       "      <td>...</td>\n",
       "      <td>...</td>\n",
       "      <td>...</td>\n",
       "      <td>...</td>\n",
       "      <td>...</td>\n",
       "      <td>...</td>\n",
       "      <td>...</td>\n",
       "      <td>...</td>\n",
       "      <td>...</td>\n",
       "      <td>...</td>\n",
       "      <td>...</td>\n",
       "      <td>...</td>\n",
       "    </tr>\n",
       "    <tr>\n",
       "      <th>647</th>\n",
       "      <td>남</td>\n",
       "      <td>2021-03-04</td>\n",
       "      <td>182.5</td>\n",
       "      <td>77.0</td>\n",
       "      <td>60.6</td>\n",
       "      <td>0</td>\n",
       "      <td>37.7</td>\n",
       "      <td>87.6</td>\n",
       "      <td>96.6</td>\n",
       "      <td>80.8</td>\n",
       "      <td>...</td>\n",
       "      <td>109.5</td>\n",
       "      <td>82.1</td>\n",
       "      <td>58.2</td>\n",
       "      <td>61.2</td>\n",
       "      <td>37.0</td>\n",
       "      <td>107.5</td>\n",
       "      <td>154.5</td>\n",
       "      <td>82.1</td>\n",
       "      <td>23.118784</td>\n",
       "      <td>비만</td>\n",
       "    </tr>\n",
       "    <tr>\n",
       "      <th>648</th>\n",
       "      <td>남</td>\n",
       "      <td>2021-03-04</td>\n",
       "      <td>179.4</td>\n",
       "      <td>104.8</td>\n",
       "      <td>61.2</td>\n",
       "      <td>0</td>\n",
       "      <td>41.8</td>\n",
       "      <td>89.4</td>\n",
       "      <td>111.7</td>\n",
       "      <td>108.2</td>\n",
       "      <td>...</td>\n",
       "      <td>112.9</td>\n",
       "      <td>105.0</td>\n",
       "      <td>56.9</td>\n",
       "      <td>64.3</td>\n",
       "      <td>34.0</td>\n",
       "      <td>111.0</td>\n",
       "      <td>155.0</td>\n",
       "      <td>105.0</td>\n",
       "      <td>32.562400</td>\n",
       "      <td>비만</td>\n",
       "    </tr>\n",
       "    <tr>\n",
       "      <th>651</th>\n",
       "      <td>남</td>\n",
       "      <td>2021-03-04</td>\n",
       "      <td>172.2</td>\n",
       "      <td>90.8</td>\n",
       "      <td>57.9</td>\n",
       "      <td>0</td>\n",
       "      <td>40.1</td>\n",
       "      <td>89.3</td>\n",
       "      <td>105.8</td>\n",
       "      <td>92.1</td>\n",
       "      <td>...</td>\n",
       "      <td>115.2</td>\n",
       "      <td>95.6</td>\n",
       "      <td>61.2</td>\n",
       "      <td>63.2</td>\n",
       "      <td>38.5</td>\n",
       "      <td>98.5</td>\n",
       "      <td>147.0</td>\n",
       "      <td>95.6</td>\n",
       "      <td>30.621013</td>\n",
       "      <td>비만</td>\n",
       "    </tr>\n",
       "    <tr>\n",
       "      <th>652</th>\n",
       "      <td>남</td>\n",
       "      <td>2021-03-04</td>\n",
       "      <td>179.8</td>\n",
       "      <td>70.6</td>\n",
       "      <td>59.2</td>\n",
       "      <td>0</td>\n",
       "      <td>36.8</td>\n",
       "      <td>89.9</td>\n",
       "      <td>93.3</td>\n",
       "      <td>78.7</td>\n",
       "      <td>...</td>\n",
       "      <td>107.6</td>\n",
       "      <td>78.0</td>\n",
       "      <td>59.1</td>\n",
       "      <td>60.0</td>\n",
       "      <td>33.5</td>\n",
       "      <td>106.0</td>\n",
       "      <td>149.5</td>\n",
       "      <td>78.0</td>\n",
       "      <td>21.838627</td>\n",
       "      <td>정상</td>\n",
       "    </tr>\n",
       "    <tr>\n",
       "      <th>654</th>\n",
       "      <td>남</td>\n",
       "      <td>2021-03-04</td>\n",
       "      <td>177.5</td>\n",
       "      <td>67.5</td>\n",
       "      <td>55.1</td>\n",
       "      <td>0</td>\n",
       "      <td>36.5</td>\n",
       "      <td>68.3</td>\n",
       "      <td>91.7</td>\n",
       "      <td>80.3</td>\n",
       "      <td>...</td>\n",
       "      <td>100.6</td>\n",
       "      <td>76.7</td>\n",
       "      <td>48.7</td>\n",
       "      <td>45.8</td>\n",
       "      <td>37.5</td>\n",
       "      <td>104.0</td>\n",
       "      <td>151.5</td>\n",
       "      <td>76.7</td>\n",
       "      <td>21.424321</td>\n",
       "      <td>정상</td>\n",
       "    </tr>\n",
       "  </tbody>\n",
       "</table>\n",
       "<p>414 rows × 27 columns</p>\n",
       "</div>"
      ],
      "text/plain": [
       "    성별        측정일자      키    몸무게  머리둘레  희망치수머리   목둘레    화장  젖가슴둘레  배꼽수준허리둘레  \\\n",
       "0    남  2021-06-16  169.2   55.6  54.1       0  34.7  60.3   86.4      67.5   \n",
       "1    남  2021-06-16  182.7   66.6  55.8       0  36.3  87.5   90.6      75.7   \n",
       "2    남  2021-06-16  177.7   79.7  58.5       0  38.3  77.0   98.6      85.2   \n",
       "3    남  2021-06-16  171.3   69.4  56.3       0  37.0  77.0   93.9      78.5   \n",
       "4    남  2021-06-16  173.8   63.9  55.5       0  36.1  62.3   89.9      74.2   \n",
       "..  ..         ...    ...    ...   ...     ...   ...   ...    ...       ...   \n",
       "647  남  2021-03-04  182.5   77.0  60.6       0  37.7  87.6   96.6      80.8   \n",
       "648  남  2021-03-04  179.4  104.8  61.2       0  41.8  89.4  111.7     108.2   \n",
       "651  남  2021-03-04  172.2   90.8  57.9       0  40.1  89.3  105.8      92.1   \n",
       "652  남  2021-03-04  179.8   70.6  59.2       0  36.8  89.9   93.3      78.7   \n",
       "654  남  2021-03-04  177.5   67.5  55.1       0  36.5  68.3   91.7      80.3   \n",
       "\n",
       "     ...  윗가슴둘레(겨드랑이)  허리둘레(윗허리)  어깨가쪽사이길이   팔길이   등길이  다리가쪽길이     총장   허리둘레  \\\n",
       "0    ...         86.8       70.8      40.5  39.4  32.5    99.5  142.0   70.8   \n",
       "1    ...         95.9       75.2      54.9  61.9  37.5   106.0  153.5   75.2   \n",
       "2    ...        104.7       85.8      57.4  50.6  38.0   102.0  150.0   85.8   \n",
       "3    ...         94.7       80.5      54.2  50.9  35.5    99.0  144.5   80.5   \n",
       "4    ...         89.6       75.0      47.5  39.6  28.5   108.0  146.5   75.0   \n",
       "..   ...          ...        ...       ...   ...   ...     ...    ...    ...   \n",
       "647  ...        109.5       82.1      58.2  61.2  37.0   107.5  154.5   82.1   \n",
       "648  ...        112.9      105.0      56.9  64.3  34.0   111.0  155.0  105.0   \n",
       "651  ...        115.2       95.6      61.2  63.2  38.5    98.5  147.0   95.6   \n",
       "652  ...        107.6       78.0      59.1  60.0  33.5   106.0  149.5   78.0   \n",
       "654  ...        100.6       76.7      48.7  45.8  37.5   104.0  151.5   76.7   \n",
       "\n",
       "           BMI  BMI_c  \n",
       "0    19.421111     정상  \n",
       "1    19.952491     정상  \n",
       "2    25.239658     비만  \n",
       "3    23.650741     비만  \n",
       "4    21.154429     정상  \n",
       "..         ...    ...  \n",
       "647  23.118784     비만  \n",
       "648  32.562400     비만  \n",
       "651  30.621013     비만  \n",
       "652  21.838627     정상  \n",
       "654  21.424321     정상  \n",
       "\n",
       "[414 rows x 27 columns]"
      ]
     },
     "execution_count": 29,
     "metadata": {},
     "output_type": "execute_result"
    }
   ],
   "source": [
    "df"
   ]
  },
  {
   "cell_type": "code",
   "execution_count": 30,
   "id": "bd194e0b",
   "metadata": {},
   "outputs": [],
   "source": [
    "y = df['BMI_c']\n",
    "X = df[['엉덩이둘레', '허리둘레', '머리둘레']]"
   ]
  },
  {
   "cell_type": "code",
   "execution_count": 31,
   "id": "02a1d676",
   "metadata": {},
   "outputs": [],
   "source": [
    "from sklearn.preprocessing import LabelEncoder\n",
    "classle = LabelEncoder() \n",
    "y = classle.fit_transform(y) # 문자형 범주 변수를 수치화\n",
    "from sklearn.model_selection import train_test_split\n",
    "X_train, X_test, y_train, y_test = train_test_split(X, y, test_size=0.3, random_state=0, stratify=y)"
   ]
  },
  {
   "cell_type": "code",
   "execution_count": 32,
   "id": "717b3dea",
   "metadata": {},
   "outputs": [],
   "source": [
    "from sklearn.neighbors import KNeighborsClassifier\n",
    "knn = KNeighborsClassifier(n_neighbors=5).fit(X_train, y_train)\n",
    "y_train_pred = knn.predict(X_train)\n",
    "y_test_pred = knn.predict(X_test)"
   ]
  },
  {
   "cell_type": "code",
   "execution_count": 33,
   "id": "089ddd84",
   "metadata": {},
   "outputs": [
    {
     "data": {
      "text/plain": [
       "array([[183,   0,   7],\n",
       "       [  0,   6,   0],\n",
       "       [  5,   1,  87]], dtype=int64)"
      ]
     },
     "execution_count": 33,
     "metadata": {},
     "output_type": "execute_result"
    }
   ],
   "source": [
    "from sklearn.metrics import confusion_matrix, classification_report, recall_score, precision_score, f1_score\n",
    "confusion_matrix(y_train, y_train_pred)"
   ]
  },
  {
   "cell_type": "code",
   "execution_count": 34,
   "id": "63bf9fd3",
   "metadata": {},
   "outputs": [
    {
     "name": "stdout",
     "output_type": "stream",
     "text": [
      "              precision    recall  f1-score   support\n",
      "\n",
      "           0       0.97      0.96      0.97       190\n",
      "           1       0.86      1.00      0.92         6\n",
      "           2       0.93      0.94      0.93        93\n",
      "\n",
      "    accuracy                           0.96       289\n",
      "   macro avg       0.92      0.97      0.94       289\n",
      "weighted avg       0.96      0.96      0.96       289\n",
      "\n"
     ]
    }
   ],
   "source": [
    "print(classification_report(y_train, y_train_pred))"
   ]
  },
  {
   "cell_type": "code",
   "execution_count": 35,
   "id": "7fed0d28",
   "metadata": {},
   "outputs": [
    {
     "data": {
      "text/plain": [
       "array([[80,  0,  2],\n",
       "       [ 0,  2,  1],\n",
       "       [ 4,  0, 36]], dtype=int64)"
      ]
     },
     "execution_count": 35,
     "metadata": {},
     "output_type": "execute_result"
    }
   ],
   "source": [
    "confusion_matrix(y_test, y_test_pred)"
   ]
  },
  {
   "cell_type": "code",
   "execution_count": 36,
   "id": "156dffdf",
   "metadata": {},
   "outputs": [
    {
     "name": "stdout",
     "output_type": "stream",
     "text": [
      "              precision    recall  f1-score   support\n",
      "\n",
      "           0       0.95      0.98      0.96        82\n",
      "           1       1.00      0.67      0.80         3\n",
      "           2       0.92      0.90      0.91        40\n",
      "\n",
      "    accuracy                           0.94       125\n",
      "   macro avg       0.96      0.85      0.89       125\n",
      "weighted avg       0.94      0.94      0.94       125\n",
      "\n"
     ]
    }
   ],
   "source": [
    "print(classification_report(y_test, y_test_pred))"
   ]
  },
  {
   "cell_type": "code",
   "execution_count": 37,
   "id": "146f9032",
   "metadata": {},
   "outputs": [
    {
     "data": {
      "text/plain": [
       "array([0.97560976, 0.66666667, 0.9       ])"
      ]
     },
     "execution_count": 37,
     "metadata": {},
     "output_type": "execute_result"
    }
   ],
   "source": [
    "recall_score(y_test, y_test_pred, average=None)"
   ]
  },
  {
   "cell_type": "code",
   "execution_count": 38,
   "id": "1c913cde",
   "metadata": {},
   "outputs": [
    {
     "data": {
      "text/plain": [
       "array([0.95238095, 1.        , 0.92307692])"
      ]
     },
     "execution_count": 38,
     "metadata": {},
     "output_type": "execute_result"
    }
   ],
   "source": [
    "precision_score(y_test, y_test_pred, average=None)"
   ]
  },
  {
   "cell_type": "code",
   "execution_count": 39,
   "id": "dc7d3fdd",
   "metadata": {},
   "outputs": [
    {
     "data": {
      "text/plain": [
       "array([0.96385542, 0.8       , 0.91139241])"
      ]
     },
     "execution_count": 39,
     "metadata": {},
     "output_type": "execute_result"
    }
   ],
   "source": [
    "f1_score(y_test, y_test_pred, average=None)"
   ]
  },
  {
   "cell_type": "code",
   "execution_count": 68,
   "id": "d5949cb5",
   "metadata": {},
   "outputs": [],
   "source": [
    "# Support Vector Machine\n",
    "import seaborn as sns\n",
    "iris = sns.load_dataset('iris')\n",
    "\n",
    "y = iris['species']\n",
    "X = iris.drop('species',axis=1)\n",
    "\n",
    "from sklearn.preprocessing import LabelEncoder\n",
    "classle = LabelEncoder() \n",
    "y = classle.fit_transform(y) # 문자형 범주 변수를 수치화\n",
    "\n",
    "from sklearn.model_selection import train_test_split\n",
    "X_train, X_test, y_train, y_test = train_test_split(X, y, test_size=0.3, random_state=0, stratify=y)\n",
    "\n",
    "from sklearn.preprocessing import StandardScaler # 자료 표준화는 상황에 따라 취사 선택\n",
    "sc = StandardScaler() \n",
    "sc.fit(X_train) # 표준화 식 완성 => 평균, 표준편차 계산\n",
    "X_train_std = sc.transform(X_train) # 자료 표준화\n",
    "X_test_std = sc.transform(X_test)"
   ]
  },
  {
   "cell_type": "code",
   "execution_count": 69,
   "id": "926b1f0e",
   "metadata": {},
   "outputs": [],
   "source": [
    "from sklearn.svm import SVC\n",
    "# 객체 = SVC(kernel='linear'/'rdf', C=오차허용정도(실수값), gamma=곡률정도(실수값), random_state=난수값(정수값), probability=True(확률값 제공)).fit(독립, 종속)\n",
    "# 객체.predict(독립) : 예측 종속값\n",
    "# 객체.predict_proba(독립) : 예측 종속 확률값(probability=True)\n",
    "svm1 = SVC(kernel='linear', C=1, probability=True).fit(X_train, y_train) # linear kernel : 선형\n",
    "y_train_pred1 = svm1.predict(X_train)\n",
    "y_test_pred1 = svm1.predict(X_test)\n",
    "y_train_prob1 = svm1.predict_proba(X_train)\n",
    "y_test_prob1 = svm1.predict_proba(X_test)"
   ]
  },
  {
   "cell_type": "code",
   "execution_count": 70,
   "id": "2dd3dff3",
   "metadata": {},
   "outputs": [],
   "source": [
    "svm2 = SVC(kernel='rbf', C=1, gamma=1, probability=True).fit(X_train, y_train) # radial basis kernel : 비선형\n",
    "y_train_pred2 = svm2.predict(X_train)\n",
    "y_test_pred2 = svm2.predict(X_test)\n",
    "y_train_prob2 = svm2.predict_proba(X_train)\n",
    "y_test_prob2 = svm2.predict_proba(X_test)"
   ]
  },
  {
   "cell_type": "code",
   "execution_count": 81,
   "id": "ab8e946b",
   "metadata": {},
   "outputs": [],
   "source": [
    "# 초모수 결정 방법 - GridSearchCV\n",
    "from sklearn.model_selection import GridSearchCV\n",
    "# 객체 = GridSearchCV(모델링 명령어, param_grid=적용하고자 하는 모수값들, scoring='accuracy', cv=kfold의 k값).fit(독립, 종속)\n",
    "# 객체.best_score_ : 가장 좋은 정분류율 결과 출력\n",
    "# 객체.best_params_ : 가장 좋은 결과를 나타내는 옵션들 값 출력\n",
    "# 객체.best_estimator_ : 가장 좋은 옵션을 넣은 모델링 실행\n",
    "# 모수값들: [{'모델링 옵션1': [값1, 값2, ...], '모델링 옵션2': [값1, 값2, ...], ...}]\n",
    "from sklearn.pipeline import make_pipeline # 여러개의 모델링 함수를 연결할 수 있음\n",
    "# pipe = make_pipeline(StandardScaler(), SVC(random_state=0)) "
   ]
  },
  {
   "cell_type": "code",
   "execution_count": 83,
   "id": "da206896",
   "metadata": {},
   "outputs": [
    {
     "name": "stderr",
     "output_type": "stream",
     "text": [
      "C:\\Users\\USER\\anaconda3\\lib\\site-packages\\sklearn\\model_selection\\_validation.py:378: FitFailedWarning: \n",
      "110 fits failed out of a total of 1100.\n",
      "The score on these train-test partitions for these parameters will be set to nan.\n",
      "If these failures are not expected, you can try to debug them by setting error_score='raise'.\n",
      "\n",
      "Below are more details about the failures:\n",
      "--------------------------------------------------------------------------------\n",
      "110 fits failed with the following error:\n",
      "Traceback (most recent call last):\n",
      "  File \"C:\\Users\\USER\\anaconda3\\lib\\site-packages\\sklearn\\model_selection\\_validation.py\", line 686, in _fit_and_score\n",
      "    estimator.fit(X_train, y_train, **fit_params)\n",
      "  File \"C:\\Users\\USER\\anaconda3\\lib\\site-packages\\sklearn\\svm\\_base.py\", line 180, in fit\n",
      "    self._validate_params()\n",
      "  File \"C:\\Users\\USER\\anaconda3\\lib\\site-packages\\sklearn\\base.py\", line 581, in _validate_params\n",
      "    validate_parameter_constraints(\n",
      "  File \"C:\\Users\\USER\\anaconda3\\lib\\site-packages\\sklearn\\utils\\_param_validation.py\", line 97, in validate_parameter_constraints\n",
      "    raise InvalidParameterError(\n",
      "sklearn.utils._param_validation.InvalidParameterError: The 'C' parameter of SVC must be a float in the range (0.0, inf). Got 0 instead.\n",
      "\n",
      "  warnings.warn(some_fits_failed_message, FitFailedWarning)\n",
      "C:\\Users\\USER\\anaconda3\\lib\\site-packages\\sklearn\\model_selection\\_search.py:952: UserWarning: One or more of the test scores are non-finite: [       nan 0.39636364 0.40545455 0.92454545 0.93363636 0.95181818\n",
      " 0.93272727 0.93181818 0.96090909 0.96090909        nan        nan\n",
      "        nan        nan        nan        nan        nan        nan\n",
      "        nan        nan 0.28636364 0.39636364 0.39636364 0.39636364\n",
      " 0.38636364 0.40636364 0.38636364 0.30636364 0.28636364 0.33636364\n",
      " 0.28636364 0.39636364 0.39636364 0.39636364 0.38636364 0.40636364\n",
      " 0.38636364 0.30636364 0.28636364 0.33636364 0.28636364 0.39636364\n",
      " 0.39636364 0.39636364 0.38636364 0.40636364 0.38636364 0.30636364\n",
      " 0.28636364 0.33636364 0.28636364 0.39636364 0.39636364 0.55090909\n",
      " 0.91363636 0.92454545 0.38636364 0.30636364 0.28636364 0.33636364\n",
      " 0.28636364 0.39636364 0.55090909 0.91363636 0.93363636 0.95181818\n",
      " 0.91363636 0.52272727 0.28636364 0.28636364 0.28636364 0.55090909\n",
      " 0.92363636 0.93363636 0.93181818 0.93181818 0.91363636 0.55181818\n",
      " 0.28636364 0.28636364 0.28636364 0.92363636 0.93363636 0.95181818\n",
      " 0.93272727 0.92181818 0.91363636 0.55181818 0.28636364 0.28636364\n",
      " 0.28636364 0.93363636 0.95181818 0.92363636 0.92272727 0.92181818\n",
      " 0.91363636 0.55181818 0.28636364 0.28636364 0.28636364 0.95181818\n",
      " 0.91363636 0.93181818 0.91272727 0.92181818 0.91363636 0.55181818\n",
      " 0.28636364 0.28636364]\n",
      "  warnings.warn(\n"
     ]
    }
   ],
   "source": [
    "param_score = [0, 0.0001, 0.001, 0.01, 0.1, 1, 10, 100, 1000, 10000]\n",
    "param_grid = [{'C': param_score, 'kernel': ['linear']},\n",
    "             {'C': param_score, 'gamma': param_score, 'kernel': ['rbf']}]\n",
    "gs = GridSearchCV(SVC(random_state=0), param_grid=param_grid, scoring='accuracy', cv=10).fit(X_train, y_train)"
   ]
  },
  {
   "cell_type": "code",
   "execution_count": 84,
   "id": "b21552f7",
   "metadata": {},
   "outputs": [
    {
     "data": {
      "text/plain": [
       "0.9609090909090909"
      ]
     },
     "execution_count": 84,
     "metadata": {},
     "output_type": "execute_result"
    }
   ],
   "source": [
    "gs.best_score_"
   ]
  },
  {
   "cell_type": "code",
   "execution_count": 85,
   "id": "e979f1ab",
   "metadata": {},
   "outputs": [
    {
     "data": {
      "text/plain": [
       "{'C': 1000, 'kernel': 'linear'}"
      ]
     },
     "execution_count": 85,
     "metadata": {},
     "output_type": "execute_result"
    }
   ],
   "source": [
    "gs.best_params_"
   ]
  },
  {
   "cell_type": "code",
   "execution_count": 86,
   "id": "09ad28c0",
   "metadata": {},
   "outputs": [
    {
     "data": {
      "text/html": [
       "<style>#sk-container-id-2 {color: black;background-color: white;}#sk-container-id-2 pre{padding: 0;}#sk-container-id-2 div.sk-toggleable {background-color: white;}#sk-container-id-2 label.sk-toggleable__label {cursor: pointer;display: block;width: 100%;margin-bottom: 0;padding: 0.3em;box-sizing: border-box;text-align: center;}#sk-container-id-2 label.sk-toggleable__label-arrow:before {content: \"▸\";float: left;margin-right: 0.25em;color: #696969;}#sk-container-id-2 label.sk-toggleable__label-arrow:hover:before {color: black;}#sk-container-id-2 div.sk-estimator:hover label.sk-toggleable__label-arrow:before {color: black;}#sk-container-id-2 div.sk-toggleable__content {max-height: 0;max-width: 0;overflow: hidden;text-align: left;background-color: #f0f8ff;}#sk-container-id-2 div.sk-toggleable__content pre {margin: 0.2em;color: black;border-radius: 0.25em;background-color: #f0f8ff;}#sk-container-id-2 input.sk-toggleable__control:checked~div.sk-toggleable__content {max-height: 200px;max-width: 100%;overflow: auto;}#sk-container-id-2 input.sk-toggleable__control:checked~label.sk-toggleable__label-arrow:before {content: \"▾\";}#sk-container-id-2 div.sk-estimator input.sk-toggleable__control:checked~label.sk-toggleable__label {background-color: #d4ebff;}#sk-container-id-2 div.sk-label input.sk-toggleable__control:checked~label.sk-toggleable__label {background-color: #d4ebff;}#sk-container-id-2 input.sk-hidden--visually {border: 0;clip: rect(1px 1px 1px 1px);clip: rect(1px, 1px, 1px, 1px);height: 1px;margin: -1px;overflow: hidden;padding: 0;position: absolute;width: 1px;}#sk-container-id-2 div.sk-estimator {font-family: monospace;background-color: #f0f8ff;border: 1px dotted black;border-radius: 0.25em;box-sizing: border-box;margin-bottom: 0.5em;}#sk-container-id-2 div.sk-estimator:hover {background-color: #d4ebff;}#sk-container-id-2 div.sk-parallel-item::after {content: \"\";width: 100%;border-bottom: 1px solid gray;flex-grow: 1;}#sk-container-id-2 div.sk-label:hover label.sk-toggleable__label {background-color: #d4ebff;}#sk-container-id-2 div.sk-serial::before {content: \"\";position: absolute;border-left: 1px solid gray;box-sizing: border-box;top: 0;bottom: 0;left: 50%;z-index: 0;}#sk-container-id-2 div.sk-serial {display: flex;flex-direction: column;align-items: center;background-color: white;padding-right: 0.2em;padding-left: 0.2em;position: relative;}#sk-container-id-2 div.sk-item {position: relative;z-index: 1;}#sk-container-id-2 div.sk-parallel {display: flex;align-items: stretch;justify-content: center;background-color: white;position: relative;}#sk-container-id-2 div.sk-item::before, #sk-container-id-2 div.sk-parallel-item::before {content: \"\";position: absolute;border-left: 1px solid gray;box-sizing: border-box;top: 0;bottom: 0;left: 50%;z-index: -1;}#sk-container-id-2 div.sk-parallel-item {display: flex;flex-direction: column;z-index: 1;position: relative;background-color: white;}#sk-container-id-2 div.sk-parallel-item:first-child::after {align-self: flex-end;width: 50%;}#sk-container-id-2 div.sk-parallel-item:last-child::after {align-self: flex-start;width: 50%;}#sk-container-id-2 div.sk-parallel-item:only-child::after {width: 0;}#sk-container-id-2 div.sk-dashed-wrapped {border: 1px dashed gray;margin: 0 0.4em 0.5em 0.4em;box-sizing: border-box;padding-bottom: 0.4em;background-color: white;}#sk-container-id-2 div.sk-label label {font-family: monospace;font-weight: bold;display: inline-block;line-height: 1.2em;}#sk-container-id-2 div.sk-label-container {text-align: center;}#sk-container-id-2 div.sk-container {/* jupyter's `normalize.less` sets `[hidden] { display: none; }` but bootstrap.min.css set `[hidden] { display: none !important; }` so we also need the `!important` here to be able to override the default hidden behavior on the sphinx rendered scikit-learn.org. See: https://github.com/scikit-learn/scikit-learn/issues/21755 */display: inline-block !important;position: relative;}#sk-container-id-2 div.sk-text-repr-fallback {display: none;}</style><div id=\"sk-container-id-2\" class=\"sk-top-container\"><div class=\"sk-text-repr-fallback\"><pre>SVC(C=1000, kernel=&#x27;linear&#x27;, random_state=0)</pre><b>In a Jupyter environment, please rerun this cell to show the HTML representation or trust the notebook. <br />On GitHub, the HTML representation is unable to render, please try loading this page with nbviewer.org.</b></div><div class=\"sk-container\" hidden><div class=\"sk-item\"><div class=\"sk-estimator sk-toggleable\"><input class=\"sk-toggleable__control sk-hidden--visually\" id=\"sk-estimator-id-2\" type=\"checkbox\" checked><label for=\"sk-estimator-id-2\" class=\"sk-toggleable__label sk-toggleable__label-arrow\">SVC</label><div class=\"sk-toggleable__content\"><pre>SVC(C=1000, kernel=&#x27;linear&#x27;, random_state=0)</pre></div></div></div></div></div>"
      ],
      "text/plain": [
       "SVC(C=1000, kernel='linear', random_state=0)"
      ]
     },
     "execution_count": 86,
     "metadata": {},
     "output_type": "execute_result"
    }
   ],
   "source": [
    "gs.best_estimator_ # SVC(C=1000, kernel='linear', random_state=0) "
   ]
  },
  {
   "cell_type": "code",
   "execution_count": 87,
   "id": "83ffca07",
   "metadata": {},
   "outputs": [
    {
     "data": {
      "text/plain": [
       "array([2, 2, 0, 0, 1, 0, 1, 2, 0, 1, 0, 2, 0, 2, 1, 1, 2, 1, 1, 0, 1, 2,\n",
       "       0, 1, 1, 2, 2, 2, 1, 2, 1, 0, 0, 1, 1, 2, 1, 0, 0, 1, 0, 2, 0, 0,\n",
       "       2])"
      ]
     },
     "execution_count": 87,
     "metadata": {},
     "output_type": "execute_result"
    }
   ],
   "source": [
    "svm1 = gs.best_estimator_.fit(X_train, y_train)\n",
    "svm1.predict(X_test)"
   ]
  },
  {
   "cell_type": "code",
   "execution_count": null,
   "id": "2c040eff",
   "metadata": {},
   "outputs": [],
   "source": [
    "# 중첩 교차검증 (k-fold-crossvalidation)\n",
    "from sklearn.model_selection import GridSearchCV, cross_val_score\n",
    "# 이너루프 모델링 함수 = GridSearchCV(모델링 명령어, param_grid=적용하고자 하는 모수값들, scoring='accuracy', cv=kfold의 k값)\n",
    "# 이너루프 모델링 함수.best_score_ : 가장 좋은 정분류율 결과 출력\n",
    "# 이너루프 모델링 함수.best_params_ : 가장 좋은 결과를 나타내는 옵션들 값 출력\n",
    "# 이너루프 모델링 함수.best_estimator_ : 가장 좋은 옵션을 넣은 모델링 실행\n",
    "# 모수값들: [{'모델링 옵션1': [값1, 값2, ...], '모델링 옵션2': [값1, 값2, ...], ...}]\n",
    "# cross_val_score(이너루프 모델링 함수, 독립, 종속, scoring='accuracy', cv=아웃루프의 k값) : 아웃루프\n",
    "# 중첩 교차검증을 통해 최적모수가 안정적인 지 확인 후 모델링 실시"
   ]
  },
  {
   "cell_type": "code",
   "execution_count": 95,
   "id": "532f0623",
   "metadata": {},
   "outputs": [
    {
     "name": "stderr",
     "output_type": "stream",
     "text": [
      "C:\\Users\\USER\\anaconda3\\lib\\site-packages\\sklearn\\model_selection\\_validation.py:378: FitFailedWarning: \n",
      "33 fits failed out of a total of 330.\n",
      "The score on these train-test partitions for these parameters will be set to nan.\n",
      "If these failures are not expected, you can try to debug them by setting error_score='raise'.\n",
      "\n",
      "Below are more details about the failures:\n",
      "--------------------------------------------------------------------------------\n",
      "33 fits failed with the following error:\n",
      "Traceback (most recent call last):\n",
      "  File \"C:\\Users\\USER\\anaconda3\\lib\\site-packages\\sklearn\\model_selection\\_validation.py\", line 686, in _fit_and_score\n",
      "    estimator.fit(X_train, y_train, **fit_params)\n",
      "  File \"C:\\Users\\USER\\anaconda3\\lib\\site-packages\\sklearn\\svm\\_base.py\", line 180, in fit\n",
      "    self._validate_params()\n",
      "  File \"C:\\Users\\USER\\anaconda3\\lib\\site-packages\\sklearn\\base.py\", line 581, in _validate_params\n",
      "    validate_parameter_constraints(\n",
      "  File \"C:\\Users\\USER\\anaconda3\\lib\\site-packages\\sklearn\\utils\\_param_validation.py\", line 97, in validate_parameter_constraints\n",
      "    raise InvalidParameterError(\n",
      "sklearn.utils._param_validation.InvalidParameterError: The 'C' parameter of SVC must be a float in the range (0.0, inf). Got 0 instead.\n",
      "\n",
      "  warnings.warn(some_fits_failed_message, FitFailedWarning)\n",
      "C:\\Users\\USER\\anaconda3\\lib\\site-packages\\sklearn\\model_selection\\_search.py:952: UserWarning: One or more of the test scores are non-finite: [       nan 0.625      0.625      0.9        0.96666667 0.95833333\n",
      " 0.96666667 0.95       0.96666667 0.96666667        nan        nan\n",
      "        nan        nan        nan        nan        nan        nan\n",
      "        nan        nan 0.325      0.625      0.625      0.625\n",
      " 0.63333333 0.64166667 0.54166667 0.39166667 0.35833333 0.50833333\n",
      " 0.325      0.625      0.625      0.625      0.63333333 0.64166667\n",
      " 0.54166667 0.39166667 0.35833333 0.50833333 0.325      0.625\n",
      " 0.625      0.625      0.63333333 0.64166667 0.54166667 0.39166667\n",
      " 0.35833333 0.50833333 0.325      0.625      0.625      0.625\n",
      " 0.91666667 0.95       0.54166667 0.39166667 0.35833333 0.50833333\n",
      " 0.325      0.625      0.625      0.91666667 0.975      0.96666667\n",
      " 0.91666667 0.5        0.35833333 0.4        0.325      0.625\n",
      " 0.925      0.96666667 0.975      0.95833333 0.91666667 0.525\n",
      " 0.35833333 0.4        0.325      0.925      0.96666667 0.96666667\n",
      " 0.96666667 0.93333333 0.91666667 0.525      0.35833333 0.4\n",
      " 0.325      0.96666667 0.96666667 0.96666667 0.95       0.93333333\n",
      " 0.91666667 0.525      0.35833333 0.4        0.325      0.96666667\n",
      " 0.96666667 0.96666667 0.93333333 0.93333333 0.91666667 0.525\n",
      " 0.35833333 0.4       ]\n",
      "  warnings.warn(\n",
      "C:\\Users\\USER\\anaconda3\\lib\\site-packages\\sklearn\\model_selection\\_validation.py:378: FitFailedWarning: \n",
      "33 fits failed out of a total of 330.\n",
      "The score on these train-test partitions for these parameters will be set to nan.\n",
      "If these failures are not expected, you can try to debug them by setting error_score='raise'.\n",
      "\n",
      "Below are more details about the failures:\n",
      "--------------------------------------------------------------------------------\n",
      "33 fits failed with the following error:\n",
      "Traceback (most recent call last):\n",
      "  File \"C:\\Users\\USER\\anaconda3\\lib\\site-packages\\sklearn\\model_selection\\_validation.py\", line 686, in _fit_and_score\n",
      "    estimator.fit(X_train, y_train, **fit_params)\n",
      "  File \"C:\\Users\\USER\\anaconda3\\lib\\site-packages\\sklearn\\svm\\_base.py\", line 180, in fit\n",
      "    self._validate_params()\n",
      "  File \"C:\\Users\\USER\\anaconda3\\lib\\site-packages\\sklearn\\base.py\", line 581, in _validate_params\n",
      "    validate_parameter_constraints(\n",
      "  File \"C:\\Users\\USER\\anaconda3\\lib\\site-packages\\sklearn\\utils\\_param_validation.py\", line 97, in validate_parameter_constraints\n",
      "    raise InvalidParameterError(\n",
      "sklearn.utils._param_validation.InvalidParameterError: The 'C' parameter of SVC must be a float in the range (0.0, inf). Got 0 instead.\n",
      "\n",
      "  warnings.warn(some_fits_failed_message, FitFailedWarning)\n",
      "C:\\Users\\USER\\anaconda3\\lib\\site-packages\\sklearn\\model_selection\\_search.py:952: UserWarning: One or more of the test scores are non-finite: [       nan 0.61666667 0.61666667 0.85833333 0.95       0.95833333\n",
      " 0.95833333 0.95       0.96666667 0.96666667        nan        nan\n",
      "        nan        nan        nan        nan        nan        nan\n",
      "        nan        nan 0.325      0.61666667 0.61666667 0.61666667\n",
      " 0.61666667 0.625      0.54166667 0.35       0.34166667 0.43333333\n",
      " 0.325      0.61666667 0.61666667 0.61666667 0.61666667 0.625\n",
      " 0.54166667 0.35       0.34166667 0.43333333 0.325      0.61666667\n",
      " 0.61666667 0.61666667 0.61666667 0.625      0.54166667 0.35\n",
      " 0.34166667 0.43333333 0.325      0.61666667 0.61666667 0.61666667\n",
      " 0.89166667 0.925      0.54166667 0.35       0.34166667 0.43333333\n",
      " 0.325      0.61666667 0.61666667 0.9        0.96666667 0.95\n",
      " 0.925      0.53333333 0.35       0.35       0.325      0.61666667\n",
      " 0.90833333 0.95833333 0.95833333 0.95833333 0.925      0.53333333\n",
      " 0.35       0.35       0.325      0.90833333 0.95833333 0.95833333\n",
      " 0.95       0.93333333 0.925      0.53333333 0.35       0.35\n",
      " 0.325      0.95833333 0.95833333 0.95833333 0.95       0.93333333\n",
      " 0.925      0.53333333 0.35       0.35       0.325      0.96666667\n",
      " 0.95833333 0.96666667 0.94166667 0.93333333 0.925      0.53333333\n",
      " 0.35       0.35      ]\n",
      "  warnings.warn(\n",
      "C:\\Users\\USER\\anaconda3\\lib\\site-packages\\sklearn\\model_selection\\_validation.py:378: FitFailedWarning: \n",
      "33 fits failed out of a total of 330.\n",
      "The score on these train-test partitions for these parameters will be set to nan.\n",
      "If these failures are not expected, you can try to debug them by setting error_score='raise'.\n",
      "\n",
      "Below are more details about the failures:\n",
      "--------------------------------------------------------------------------------\n",
      "33 fits failed with the following error:\n",
      "Traceback (most recent call last):\n",
      "  File \"C:\\Users\\USER\\anaconda3\\lib\\site-packages\\sklearn\\model_selection\\_validation.py\", line 686, in _fit_and_score\n",
      "    estimator.fit(X_train, y_train, **fit_params)\n",
      "  File \"C:\\Users\\USER\\anaconda3\\lib\\site-packages\\sklearn\\svm\\_base.py\", line 180, in fit\n",
      "    self._validate_params()\n",
      "  File \"C:\\Users\\USER\\anaconda3\\lib\\site-packages\\sklearn\\base.py\", line 581, in _validate_params\n",
      "    validate_parameter_constraints(\n",
      "  File \"C:\\Users\\USER\\anaconda3\\lib\\site-packages\\sklearn\\utils\\_param_validation.py\", line 97, in validate_parameter_constraints\n",
      "    raise InvalidParameterError(\n",
      "sklearn.utils._param_validation.InvalidParameterError: The 'C' parameter of SVC must be a float in the range (0.0, inf). Got 0 instead.\n",
      "\n",
      "  warnings.warn(some_fits_failed_message, FitFailedWarning)\n",
      "C:\\Users\\USER\\anaconda3\\lib\\site-packages\\sklearn\\model_selection\\_search.py:952: UserWarning: One or more of the test scores are non-finite: [       nan 0.61666667 0.61666667 0.89166667 0.96666667 0.96666667\n",
      " 0.99166667 0.98333333 0.96666667 0.95833333        nan        nan\n",
      "        nan        nan        nan        nan        nan        nan\n",
      "        nan        nan 0.325      0.61666667 0.61666667 0.61666667\n",
      " 0.625      0.61666667 0.475      0.36666667 0.35       0.41666667\n",
      " 0.325      0.61666667 0.61666667 0.61666667 0.625      0.61666667\n",
      " 0.475      0.36666667 0.35       0.41666667 0.325      0.61666667\n",
      " 0.61666667 0.61666667 0.625      0.61666667 0.475      0.36666667\n",
      " 0.35       0.41666667 0.325      0.61666667 0.61666667 0.61666667\n",
      " 0.925      0.95       0.475      0.36666667 0.35       0.41666667\n",
      " 0.325      0.61666667 0.61666667 0.925      0.96666667 0.975\n",
      " 0.925      0.55833333 0.35833333 0.36666667 0.325      0.61666667\n",
      " 0.925      0.96666667 0.96666667 0.975      0.93333333 0.56666667\n",
      " 0.35833333 0.36666667 0.325      0.925      0.96666667 0.96666667\n",
      " 0.95833333 0.96666667 0.93333333 0.56666667 0.35833333 0.36666667\n",
      " 0.325      0.96666667 0.96666667 0.98333333 0.95833333 0.96666667\n",
      " 0.93333333 0.56666667 0.35833333 0.36666667 0.325      0.96666667\n",
      " 0.98333333 0.96666667 0.94166667 0.96666667 0.93333333 0.56666667\n",
      " 0.35833333 0.36666667]\n",
      "  warnings.warn(\n",
      "C:\\Users\\USER\\anaconda3\\lib\\site-packages\\sklearn\\model_selection\\_validation.py:378: FitFailedWarning: \n",
      "33 fits failed out of a total of 330.\n",
      "The score on these train-test partitions for these parameters will be set to nan.\n",
      "If these failures are not expected, you can try to debug them by setting error_score='raise'.\n",
      "\n",
      "Below are more details about the failures:\n",
      "--------------------------------------------------------------------------------\n",
      "33 fits failed with the following error:\n",
      "Traceback (most recent call last):\n",
      "  File \"C:\\Users\\USER\\anaconda3\\lib\\site-packages\\sklearn\\model_selection\\_validation.py\", line 686, in _fit_and_score\n",
      "    estimator.fit(X_train, y_train, **fit_params)\n",
      "  File \"C:\\Users\\USER\\anaconda3\\lib\\site-packages\\sklearn\\svm\\_base.py\", line 180, in fit\n",
      "    self._validate_params()\n",
      "  File \"C:\\Users\\USER\\anaconda3\\lib\\site-packages\\sklearn\\base.py\", line 581, in _validate_params\n",
      "    validate_parameter_constraints(\n",
      "  File \"C:\\Users\\USER\\anaconda3\\lib\\site-packages\\sklearn\\utils\\_param_validation.py\", line 97, in validate_parameter_constraints\n",
      "    raise InvalidParameterError(\n",
      "sklearn.utils._param_validation.InvalidParameterError: The 'C' parameter of SVC must be a float in the range (0.0, inf). Got 0 instead.\n",
      "\n",
      "  warnings.warn(some_fits_failed_message, FitFailedWarning)\n",
      "C:\\Users\\USER\\anaconda3\\lib\\site-packages\\sklearn\\model_selection\\_search.py:952: UserWarning: One or more of the test scores are non-finite: [       nan 0.63333333 0.63333333 0.88333333 0.96666667 0.975\n",
      " 0.98333333 0.95833333 0.95833333 0.95833333        nan        nan\n",
      "        nan        nan        nan        nan        nan        nan\n",
      "        nan        nan 0.325      0.63333333 0.63333333 0.63333333\n",
      " 0.625      0.63333333 0.50833333 0.35833333 0.33333333 0.425\n",
      " 0.325      0.63333333 0.63333333 0.63333333 0.625      0.63333333\n",
      " 0.50833333 0.35833333 0.34166667 0.425      0.325      0.63333333\n",
      " 0.63333333 0.63333333 0.625      0.63333333 0.50833333 0.35833333\n",
      " 0.34166667 0.425      0.325      0.63333333 0.63333333 0.63333333\n",
      " 0.9        0.96666667 0.50833333 0.35833333 0.34166667 0.425\n",
      " 0.325      0.63333333 0.63333333 0.91666667 0.975      0.96666667\n",
      " 0.93333333 0.50833333 0.35       0.35833333 0.325      0.63333333\n",
      " 0.91666667 0.96666667 0.975      0.96666667 0.93333333 0.51666667\n",
      " 0.35       0.35833333 0.325      0.91666667 0.96666667 0.975\n",
      " 0.95833333 0.96666667 0.93333333 0.51666667 0.35       0.35833333\n",
      " 0.325      0.96666667 0.975      0.96666667 0.95833333 0.96666667\n",
      " 0.93333333 0.51666667 0.35       0.35833333 0.325      0.975\n",
      " 0.975      0.95833333 0.95833333 0.96666667 0.93333333 0.51666667\n",
      " 0.35       0.35833333]\n",
      "  warnings.warn(\n"
     ]
    },
    {
     "name": "stderr",
     "output_type": "stream",
     "text": [
      "C:\\Users\\USER\\anaconda3\\lib\\site-packages\\sklearn\\model_selection\\_validation.py:378: FitFailedWarning: \n",
      "33 fits failed out of a total of 330.\n",
      "The score on these train-test partitions for these parameters will be set to nan.\n",
      "If these failures are not expected, you can try to debug them by setting error_score='raise'.\n",
      "\n",
      "Below are more details about the failures:\n",
      "--------------------------------------------------------------------------------\n",
      "33 fits failed with the following error:\n",
      "Traceback (most recent call last):\n",
      "  File \"C:\\Users\\USER\\anaconda3\\lib\\site-packages\\sklearn\\model_selection\\_validation.py\", line 686, in _fit_and_score\n",
      "    estimator.fit(X_train, y_train, **fit_params)\n",
      "  File \"C:\\Users\\USER\\anaconda3\\lib\\site-packages\\sklearn\\svm\\_base.py\", line 180, in fit\n",
      "    self._validate_params()\n",
      "  File \"C:\\Users\\USER\\anaconda3\\lib\\site-packages\\sklearn\\base.py\", line 581, in _validate_params\n",
      "    validate_parameter_constraints(\n",
      "  File \"C:\\Users\\USER\\anaconda3\\lib\\site-packages\\sklearn\\utils\\_param_validation.py\", line 97, in validate_parameter_constraints\n",
      "    raise InvalidParameterError(\n",
      "sklearn.utils._param_validation.InvalidParameterError: The 'C' parameter of SVC must be a float in the range (0.0, inf). Got 0 instead.\n",
      "\n",
      "  warnings.warn(some_fits_failed_message, FitFailedWarning)\n",
      "C:\\Users\\USER\\anaconda3\\lib\\site-packages\\sklearn\\model_selection\\_search.py:952: UserWarning: One or more of the test scores are non-finite: [       nan 0.63333333 0.63333333 0.9        0.95       0.95833333\n",
      " 0.975      0.95       0.95       0.95              nan        nan\n",
      "        nan        nan        nan        nan        nan        nan\n",
      "        nan        nan 0.325      0.63333333 0.63333333 0.63333333\n",
      " 0.625      0.63333333 0.525      0.35       0.35       0.45\n",
      " 0.325      0.63333333 0.63333333 0.63333333 0.625      0.63333333\n",
      " 0.525      0.35       0.35       0.45       0.325      0.63333333\n",
      " 0.63333333 0.63333333 0.625      0.63333333 0.525      0.35\n",
      " 0.35       0.45       0.325      0.63333333 0.63333333 0.63333333\n",
      " 0.90833333 0.94166667 0.525      0.35       0.35       0.45\n",
      " 0.325      0.63333333 0.63333333 0.925      0.95833333 0.94166667\n",
      " 0.9        0.5        0.35       0.38333333 0.325      0.63333333\n",
      " 0.925      0.95       0.95       0.94166667 0.89166667 0.50833333\n",
      " 0.35       0.35       0.325      0.925      0.95       0.94166667\n",
      " 0.93333333 0.95       0.89166667 0.50833333 0.35       0.35\n",
      " 0.325      0.95       0.94166667 0.95       0.94166667 0.94166667\n",
      " 0.89166667 0.50833333 0.35       0.35       0.325      0.94166667\n",
      " 0.95833333 0.95       0.91666667 0.94166667 0.89166667 0.50833333\n",
      " 0.35       0.35      ]\n",
      "  warnings.warn(\n"
     ]
    }
   ],
   "source": [
    "from sklearn.model_selection import GridSearchCV, cross_val_score, StratifiedKFold\n",
    "param_score = [0, 0.0001, 0.001, 0.01, 0.1, 1, 10, 100, 1000, 10000]\n",
    "param_grid = [{'C': param_score, 'kernel': ['linear']},\n",
    "             {'C': param_score, 'gamma': param_score, 'kernel': ['rbf']}]\n",
    "kfold = StratifiedKFold(n_splits=5)\n",
    "gs = GridSearchCV(SVC(random_state=0), param_grid=param_grid, scoring='accuracy', cv=3) # 최적모수 찾기\n",
    "score = cross_val_score(gs, X, y, scoring='accuracy', cv=kfold)"
   ]
  },
  {
   "cell_type": "code",
   "execution_count": 96,
   "id": "f4aaa29d",
   "metadata": {},
   "outputs": [
    {
     "data": {
      "text/plain": [
       "array([0.96666667, 1.        , 0.9       , 0.96666667, 1.        ])"
      ]
     },
     "execution_count": 96,
     "metadata": {},
     "output_type": "execute_result"
    }
   ],
   "source": [
    "score"
   ]
  },
  {
   "cell_type": "code",
   "execution_count": 97,
   "id": "5a54fbf0",
   "metadata": {},
   "outputs": [
    {
     "data": {
      "text/plain": [
       "0.9666666666666668"
      ]
     },
     "execution_count": 97,
     "metadata": {},
     "output_type": "execute_result"
    }
   ],
   "source": [
    "import numpy as np\n",
    "np.mean(score) "
   ]
  },
  {
   "cell_type": "code",
   "execution_count": 98,
   "id": "31c199d0",
   "metadata": {},
   "outputs": [
    {
     "data": {
      "text/plain": [
       "0.036514837167011066"
      ]
     },
     "execution_count": 98,
     "metadata": {},
     "output_type": "execute_result"
    }
   ],
   "source": [
    "np.std(score)"
   ]
  },
  {
   "cell_type": "code",
   "execution_count": 99,
   "id": "157d1882",
   "metadata": {},
   "outputs": [],
   "source": [
    "# Decision Tree\n",
    "import seaborn as sns\n",
    "iris = sns.load_dataset('iris')\n",
    "\n",
    "y = iris['species']\n",
    "X = iris.drop('species',axis=1)\n",
    "\n",
    "from sklearn.preprocessing import LabelEncoder\n",
    "classle = LabelEncoder() \n",
    "y = classle.fit_transform(y) # 문자형 범주 변수를 수치화\n",
    "\n",
    "from sklearn.model_selection import train_test_split\n",
    "X_train, X_test, y_train, y_test = train_test_split(X, y, test_size=0.3, random_state=0, stratify=y)\n",
    "\n",
    "from sklearn.preprocessing import StandardScaler # 자료 표준화는 상황에 따라 취사 선택\n",
    "sc = StandardScaler() \n",
    "sc.fit(X_train) # 표준화 식 완성 => 평균, 표준편차 계산\n",
    "X_train_std = sc.transform(X_train) # 자료 표준화\n",
    "X_test_std = sc.transform(X_test)"
   ]
  },
  {
   "cell_type": "code",
   "execution_count": null,
   "id": "19837a7c",
   "metadata": {},
   "outputs": [],
   "source": [
    "from sklearn.tree import DecisionTreeClassifier, DecisionTreeRegressor \n",
    "# 객체 = DecisionTreeClassifier(criterion='gini'/'entropy', max_depth=나무깊이(정수값, None), random_state=난수값(정수)).fit(독립, 종속)\n",
    "# 객체.predict(독립)"
   ]
  },
  {
   "cell_type": "code",
   "execution_count": 107,
   "id": "2e27b620",
   "metadata": {},
   "outputs": [],
   "source": [
    "from sklearn.tree import DecisionTreeClassifier, DecisionTreeRegressor \n",
    "dtc = DecisionTreeClassifier(criterion='gini', max_depth=None, random_state=0).fit(X_train, y_train)\n",
    "y_train_hat = dtc.predict(X_train)\n",
    "y_test_hat = dtc.predict(X_test)"
   ]
  },
  {
   "cell_type": "code",
   "execution_count": 101,
   "id": "aa09415a",
   "metadata": {},
   "outputs": [
    {
     "name": "stdout",
     "output_type": "stream",
     "text": [
      "Collecting pydotplus\n",
      "  Downloading pydotplus-2.0.2.tar.gz (278 kB)\n",
      "     -------------------------------------- 278.7/278.7 kB 8.4 MB/s eta 0:00:00\n",
      "  Preparing metadata (setup.py): started\n",
      "  Preparing metadata (setup.py): finished with status 'done'\n",
      "Requirement already satisfied: pyparsing>=2.0.1 in c:\\users\\user\\anaconda3\\lib\\site-packages (from pydotplus) (3.0.9)\n",
      "Building wheels for collected packages: pydotplus\n",
      "  Building wheel for pydotplus (setup.py): started\n",
      "  Building wheel for pydotplus (setup.py): finished with status 'done'\n",
      "  Created wheel for pydotplus: filename=pydotplus-2.0.2-py3-none-any.whl size=24578 sha256=cee6fa527c5a8e91765d7e50d0a25399dc162aae08706a1e1b2179b37827d55b\n",
      "  Stored in directory: c:\\users\\user\\appdata\\local\\pip\\cache\\wheels\\5c\\94\\1f\\953aa60af58ef512e5256e538ff0772c340229e5996ac51fd6\n",
      "Successfully built pydotplus\n",
      "Installing collected packages: pydotplus\n",
      "Successfully installed pydotplus-2.0.2\n"
     ]
    }
   ],
   "source": [
    "!pip install pydotplus"
   ]
  },
  {
   "cell_type": "code",
   "execution_count": 108,
   "id": "da626fd1",
   "metadata": {},
   "outputs": [],
   "source": [
    "# DT 그림그리기\n",
    "from pydotplus import graph_from_dot_data\n",
    "from sklearn.tree import export_graphviz\n",
    "dot_data = export_graphviz(dtc, filled=True, rounded=True,\n",
    "                          class_names = ['setosa','versicolor','verginica'],\n",
    "                          feature_names=X_train.columns)"
   ]
  },
  {
   "cell_type": "code",
   "execution_count": 109,
   "id": "cccc57d5",
   "metadata": {},
   "outputs": [
    {
     "name": "stdout",
     "output_type": "stream",
     "text": [
      "digraph Tree {\n",
      "node [shape=box, style=\"filled, rounded\", color=\"black\", fontname=\"helvetica\"] ;\n",
      "edge [fontname=\"helvetica\"] ;\n",
      "0 [label=\"petal_width <= 0.8\\ngini = 0.667\\nsamples = 105\\nvalue = [35, 35, 35]\\nclass = setosa\", fillcolor=\"#ffffff\"] ;\n",
      "1 [label=\"gini = 0.0\\nsamples = 35\\nvalue = [35, 0, 0]\\nclass = setosa\", fillcolor=\"#e58139\"] ;\n",
      "0 -> 1 [labeldistance=2.5, labelangle=45, headlabel=\"True\"] ;\n",
      "2 [label=\"petal_width <= 1.75\\ngini = 0.5\\nsamples = 70\\nvalue = [0, 35, 35]\\nclass = versicolor\", fillcolor=\"#ffffff\"] ;\n",
      "0 -> 2 [labeldistance=2.5, labelangle=-45, headlabel=\"False\"] ;\n",
      "3 [label=\"petal_length <= 4.95\\ngini = 0.149\\nsamples = 37\\nvalue = [0, 34, 3]\\nclass = versicolor\", fillcolor=\"#4ae78c\"] ;\n",
      "2 -> 3 ;\n",
      "4 [label=\"petal_width <= 1.65\\ngini = 0.059\\nsamples = 33\\nvalue = [0, 32, 1]\\nclass = versicolor\", fillcolor=\"#3fe685\"] ;\n",
      "3 -> 4 ;\n",
      "5 [label=\"gini = 0.0\\nsamples = 32\\nvalue = [0, 32, 0]\\nclass = versicolor\", fillcolor=\"#39e581\"] ;\n",
      "4 -> 5 ;\n",
      "6 [label=\"gini = 0.0\\nsamples = 1\\nvalue = [0, 0, 1]\\nclass = verginica\", fillcolor=\"#8139e5\"] ;\n",
      "4 -> 6 ;\n",
      "7 [label=\"petal_width <= 1.55\\ngini = 0.5\\nsamples = 4\\nvalue = [0, 2, 2]\\nclass = versicolor\", fillcolor=\"#ffffff\"] ;\n",
      "3 -> 7 ;\n",
      "8 [label=\"gini = 0.0\\nsamples = 2\\nvalue = [0, 0, 2]\\nclass = verginica\", fillcolor=\"#8139e5\"] ;\n",
      "7 -> 8 ;\n",
      "9 [label=\"gini = 0.0\\nsamples = 2\\nvalue = [0, 2, 0]\\nclass = versicolor\", fillcolor=\"#39e581\"] ;\n",
      "7 -> 9 ;\n",
      "10 [label=\"petal_length <= 4.85\\ngini = 0.059\\nsamples = 33\\nvalue = [0, 1, 32]\\nclass = verginica\", fillcolor=\"#853fe6\"] ;\n",
      "2 -> 10 ;\n",
      "11 [label=\"sepal_length <= 5.95\\ngini = 0.444\\nsamples = 3\\nvalue = [0, 1, 2]\\nclass = verginica\", fillcolor=\"#c09cf2\"] ;\n",
      "10 -> 11 ;\n",
      "12 [label=\"gini = 0.0\\nsamples = 1\\nvalue = [0, 1, 0]\\nclass = versicolor\", fillcolor=\"#39e581\"] ;\n",
      "11 -> 12 ;\n",
      "13 [label=\"gini = 0.0\\nsamples = 2\\nvalue = [0, 0, 2]\\nclass = verginica\", fillcolor=\"#8139e5\"] ;\n",
      "11 -> 13 ;\n",
      "14 [label=\"gini = 0.0\\nsamples = 30\\nvalue = [0, 0, 30]\\nclass = verginica\", fillcolor=\"#8139e5\"] ;\n",
      "10 -> 14 ;\n",
      "}\n"
     ]
    }
   ],
   "source": [
    "print(dot_data)"
   ]
  },
  {
   "cell_type": "code",
   "execution_count": 110,
   "id": "18fde5dc",
   "metadata": {},
   "outputs": [],
   "source": [
    "graph = graph_from_dot_data(dot_data)"
   ]
  },
  {
   "cell_type": "code",
   "execution_count": 111,
   "id": "a19c9106",
   "metadata": {},
   "outputs": [
    {
     "ename": "InvocationException",
     "evalue": "GraphViz's executables not found",
     "output_type": "error",
     "traceback": [
      "\u001b[1;31m---------------------------------------------------------------------------\u001b[0m",
      "\u001b[1;31mInvocationException\u001b[0m                       Traceback (most recent call last)",
      "Cell \u001b[1;32mIn[111], line 2\u001b[0m\n\u001b[0;32m      1\u001b[0m \u001b[38;5;28;01mfrom\u001b[39;00m \u001b[38;5;21;01mIPython\u001b[39;00m\u001b[38;5;21;01m.\u001b[39;00m\u001b[38;5;21;01mdisplay\u001b[39;00m \u001b[38;5;28;01mimport\u001b[39;00m Image\n\u001b[1;32m----> 2\u001b[0m Image(\u001b[43mgraph\u001b[49m\u001b[38;5;241;43m.\u001b[39;49m\u001b[43mcreate_png\u001b[49m\u001b[43m(\u001b[49m\u001b[43m)\u001b[49m)\n",
      "File \u001b[1;32m~\\anaconda3\\lib\\site-packages\\pydotplus\\graphviz.py:1797\u001b[0m, in \u001b[0;36mDot.__init__.<locals>.<lambda>\u001b[1;34m(f, prog)\u001b[0m\n\u001b[0;32m   1792\u001b[0m \u001b[38;5;66;03m# Automatically creates all the methods enabling the creation\u001b[39;00m\n\u001b[0;32m   1793\u001b[0m \u001b[38;5;66;03m# of output in any of the supported formats.\u001b[39;00m\n\u001b[0;32m   1794\u001b[0m \u001b[38;5;28;01mfor\u001b[39;00m frmt \u001b[38;5;129;01min\u001b[39;00m \u001b[38;5;28mself\u001b[39m\u001b[38;5;241m.\u001b[39mformats:\n\u001b[0;32m   1795\u001b[0m     \u001b[38;5;28mself\u001b[39m\u001b[38;5;241m.\u001b[39m\u001b[38;5;21m__setattr__\u001b[39m(\n\u001b[0;32m   1796\u001b[0m         \u001b[38;5;124m'\u001b[39m\u001b[38;5;124mcreate_\u001b[39m\u001b[38;5;124m'\u001b[39m \u001b[38;5;241m+\u001b[39m frmt,\n\u001b[1;32m-> 1797\u001b[0m         \u001b[38;5;28;01mlambda\u001b[39;00m f\u001b[38;5;241m=\u001b[39mfrmt, prog\u001b[38;5;241m=\u001b[39m\u001b[38;5;28mself\u001b[39m\u001b[38;5;241m.\u001b[39mprog: \u001b[38;5;28;43mself\u001b[39;49m\u001b[38;5;241;43m.\u001b[39;49m\u001b[43mcreate\u001b[49m\u001b[43m(\u001b[49m\u001b[38;5;28;43mformat\u001b[39;49m\u001b[38;5;241;43m=\u001b[39;49m\u001b[43mf\u001b[49m\u001b[43m,\u001b[49m\u001b[43m \u001b[49m\u001b[43mprog\u001b[49m\u001b[38;5;241;43m=\u001b[39;49m\u001b[43mprog\u001b[49m\u001b[43m)\u001b[49m\n\u001b[0;32m   1798\u001b[0m     )\n\u001b[0;32m   1799\u001b[0m     f \u001b[38;5;241m=\u001b[39m \u001b[38;5;28mself\u001b[39m\u001b[38;5;241m.\u001b[39m\u001b[38;5;18m__dict__\u001b[39m[\u001b[38;5;124m'\u001b[39m\u001b[38;5;124mcreate_\u001b[39m\u001b[38;5;124m'\u001b[39m \u001b[38;5;241m+\u001b[39m frmt]\n\u001b[0;32m   1800\u001b[0m     f\u001b[38;5;241m.\u001b[39m\u001b[38;5;18m__doc__\u001b[39m \u001b[38;5;241m=\u001b[39m (\n\u001b[0;32m   1801\u001b[0m         \u001b[38;5;124;03m'''Refer to the docstring accompanying the'''\u001b[39;00m\n\u001b[0;32m   1802\u001b[0m         \u001b[38;5;124;03m''''create' method for more information.'''\u001b[39;00m\n\u001b[0;32m   1803\u001b[0m     )\n",
      "File \u001b[1;32m~\\anaconda3\\lib\\site-packages\\pydotplus\\graphviz.py:1959\u001b[0m, in \u001b[0;36mDot.create\u001b[1;34m(self, prog, format)\u001b[0m\n\u001b[0;32m   1957\u001b[0m     \u001b[38;5;28mself\u001b[39m\u001b[38;5;241m.\u001b[39mprogs \u001b[38;5;241m=\u001b[39m find_graphviz()\n\u001b[0;32m   1958\u001b[0m     \u001b[38;5;28;01mif\u001b[39;00m \u001b[38;5;28mself\u001b[39m\u001b[38;5;241m.\u001b[39mprogs \u001b[38;5;129;01mis\u001b[39;00m \u001b[38;5;28;01mNone\u001b[39;00m:\n\u001b[1;32m-> 1959\u001b[0m         \u001b[38;5;28;01mraise\u001b[39;00m InvocationException(\n\u001b[0;32m   1960\u001b[0m             \u001b[38;5;124m'\u001b[39m\u001b[38;5;124mGraphViz\u001b[39m\u001b[38;5;130;01m\\'\u001b[39;00m\u001b[38;5;124ms executables not found\u001b[39m\u001b[38;5;124m'\u001b[39m)\n\u001b[0;32m   1962\u001b[0m \u001b[38;5;28;01mif\u001b[39;00m prog \u001b[38;5;129;01mnot\u001b[39;00m \u001b[38;5;129;01min\u001b[39;00m \u001b[38;5;28mself\u001b[39m\u001b[38;5;241m.\u001b[39mprogs:\n\u001b[0;32m   1963\u001b[0m     \u001b[38;5;28;01mraise\u001b[39;00m InvocationException(\n\u001b[0;32m   1964\u001b[0m         \u001b[38;5;124m'\u001b[39m\u001b[38;5;124mGraphViz\u001b[39m\u001b[38;5;130;01m\\'\u001b[39;00m\u001b[38;5;124ms executable \u001b[39m\u001b[38;5;124m\"\u001b[39m\u001b[38;5;132;01m%s\u001b[39;00m\u001b[38;5;124m\"\u001b[39m\u001b[38;5;124m not found\u001b[39m\u001b[38;5;124m'\u001b[39m \u001b[38;5;241m%\u001b[39m prog)\n",
      "\u001b[1;31mInvocationException\u001b[0m: GraphViz's executables not found"
     ]
    }
   ],
   "source": [
    "from IPython.display import Image\n",
    "Image(graph.create_png())"
   ]
  },
  {
   "cell_type": "code",
   "execution_count": 112,
   "id": "bc2a9e61",
   "metadata": {},
   "outputs": [
    {
     "ename": "InvocationException",
     "evalue": "GraphViz's executables not found",
     "output_type": "error",
     "traceback": [
      "\u001b[1;31m---------------------------------------------------------------------------\u001b[0m",
      "\u001b[1;31mInvocationException\u001b[0m                       Traceback (most recent call last)",
      "Cell \u001b[1;32mIn[112], line 1\u001b[0m\n\u001b[1;32m----> 1\u001b[0m \u001b[43mgraph\u001b[49m\u001b[38;5;241;43m.\u001b[39;49m\u001b[43mwrite_png\u001b[49m\u001b[43m(\u001b[49m\u001b[38;5;124;43m'\u001b[39;49m\u001b[38;5;124;43mtree.png\u001b[39;49m\u001b[38;5;124;43m'\u001b[39;49m\u001b[43m)\u001b[49m\n",
      "File \u001b[1;32m~\\anaconda3\\lib\\site-packages\\pydotplus\\graphviz.py:1810\u001b[0m, in \u001b[0;36mDot.__init__.<locals>.<lambda>\u001b[1;34m(path, f, prog)\u001b[0m\n\u001b[0;32m   1800\u001b[0m     f\u001b[38;5;241m.\u001b[39m\u001b[38;5;18m__doc__\u001b[39m \u001b[38;5;241m=\u001b[39m (\n\u001b[0;32m   1801\u001b[0m         \u001b[38;5;124;03m'''Refer to the docstring accompanying the'''\u001b[39;00m\n\u001b[0;32m   1802\u001b[0m         \u001b[38;5;124;03m''''create' method for more information.'''\u001b[39;00m\n\u001b[0;32m   1803\u001b[0m     )\n\u001b[0;32m   1805\u001b[0m \u001b[38;5;28;01mfor\u001b[39;00m frmt \u001b[38;5;129;01min\u001b[39;00m \u001b[38;5;28mself\u001b[39m\u001b[38;5;241m.\u001b[39mformats \u001b[38;5;241m+\u001b[39m [\u001b[38;5;124m'\u001b[39m\u001b[38;5;124mraw\u001b[39m\u001b[38;5;124m'\u001b[39m]:\n\u001b[0;32m   1806\u001b[0m     \u001b[38;5;28mself\u001b[39m\u001b[38;5;241m.\u001b[39m\u001b[38;5;21m__setattr__\u001b[39m(\n\u001b[0;32m   1807\u001b[0m         \u001b[38;5;124m'\u001b[39m\u001b[38;5;124mwrite_\u001b[39m\u001b[38;5;124m'\u001b[39m \u001b[38;5;241m+\u001b[39m frmt,\n\u001b[0;32m   1808\u001b[0m         \u001b[38;5;28;01mlambda\u001b[39;00m path,\n\u001b[0;32m   1809\u001b[0m         f\u001b[38;5;241m=\u001b[39mfrmt,\n\u001b[1;32m-> 1810\u001b[0m         prog\u001b[38;5;241m=\u001b[39m\u001b[38;5;28mself\u001b[39m\u001b[38;5;241m.\u001b[39mprog: \u001b[38;5;28;43mself\u001b[39;49m\u001b[38;5;241;43m.\u001b[39;49m\u001b[43mwrite\u001b[49m\u001b[43m(\u001b[49m\u001b[43mpath\u001b[49m\u001b[43m,\u001b[49m\u001b[43m \u001b[49m\u001b[38;5;28;43mformat\u001b[39;49m\u001b[38;5;241;43m=\u001b[39;49m\u001b[43mf\u001b[49m\u001b[43m,\u001b[49m\u001b[43m \u001b[49m\u001b[43mprog\u001b[49m\u001b[38;5;241;43m=\u001b[39;49m\u001b[43mprog\u001b[49m\u001b[43m)\u001b[49m\n\u001b[0;32m   1811\u001b[0m     )\n\u001b[0;32m   1813\u001b[0m     f \u001b[38;5;241m=\u001b[39m \u001b[38;5;28mself\u001b[39m\u001b[38;5;241m.\u001b[39m\u001b[38;5;18m__dict__\u001b[39m[\u001b[38;5;124m'\u001b[39m\u001b[38;5;124mwrite_\u001b[39m\u001b[38;5;124m'\u001b[39m \u001b[38;5;241m+\u001b[39m frmt]\n\u001b[0;32m   1814\u001b[0m     f\u001b[38;5;241m.\u001b[39m\u001b[38;5;18m__doc__\u001b[39m \u001b[38;5;241m=\u001b[39m (\n\u001b[0;32m   1815\u001b[0m         \u001b[38;5;124;03m'''Refer to the docstring accompanying the'''\u001b[39;00m\n\u001b[0;32m   1816\u001b[0m         \u001b[38;5;124;03m''''write' method for more information.'''\u001b[39;00m\n\u001b[0;32m   1817\u001b[0m     )\n",
      "File \u001b[1;32m~\\anaconda3\\lib\\site-packages\\pydotplus\\graphviz.py:1918\u001b[0m, in \u001b[0;36mDot.write\u001b[1;34m(self, path, prog, format)\u001b[0m\n\u001b[0;32m   1915\u001b[0m         fobj\u001b[38;5;241m.\u001b[39mwrite(data)\n\u001b[0;32m   1917\u001b[0m     \u001b[38;5;28;01melse\u001b[39;00m:\n\u001b[1;32m-> 1918\u001b[0m         fobj\u001b[38;5;241m.\u001b[39mwrite(\u001b[38;5;28;43mself\u001b[39;49m\u001b[38;5;241;43m.\u001b[39;49m\u001b[43mcreate\u001b[49m\u001b[43m(\u001b[49m\u001b[43mprog\u001b[49m\u001b[43m,\u001b[49m\u001b[43m \u001b[49m\u001b[38;5;28;43mformat\u001b[39;49m\u001b[43m)\u001b[49m)\n\u001b[0;32m   1919\u001b[0m \u001b[38;5;28;01mfinally\u001b[39;00m:\n\u001b[0;32m   1920\u001b[0m     \u001b[38;5;28;01mif\u001b[39;00m close:\n",
      "File \u001b[1;32m~\\anaconda3\\lib\\site-packages\\pydotplus\\graphviz.py:1959\u001b[0m, in \u001b[0;36mDot.create\u001b[1;34m(self, prog, format)\u001b[0m\n\u001b[0;32m   1957\u001b[0m     \u001b[38;5;28mself\u001b[39m\u001b[38;5;241m.\u001b[39mprogs \u001b[38;5;241m=\u001b[39m find_graphviz()\n\u001b[0;32m   1958\u001b[0m     \u001b[38;5;28;01mif\u001b[39;00m \u001b[38;5;28mself\u001b[39m\u001b[38;5;241m.\u001b[39mprogs \u001b[38;5;129;01mis\u001b[39;00m \u001b[38;5;28;01mNone\u001b[39;00m:\n\u001b[1;32m-> 1959\u001b[0m         \u001b[38;5;28;01mraise\u001b[39;00m InvocationException(\n\u001b[0;32m   1960\u001b[0m             \u001b[38;5;124m'\u001b[39m\u001b[38;5;124mGraphViz\u001b[39m\u001b[38;5;130;01m\\'\u001b[39;00m\u001b[38;5;124ms executables not found\u001b[39m\u001b[38;5;124m'\u001b[39m)\n\u001b[0;32m   1962\u001b[0m \u001b[38;5;28;01mif\u001b[39;00m prog \u001b[38;5;129;01mnot\u001b[39;00m \u001b[38;5;129;01min\u001b[39;00m \u001b[38;5;28mself\u001b[39m\u001b[38;5;241m.\u001b[39mprogs:\n\u001b[0;32m   1963\u001b[0m     \u001b[38;5;28;01mraise\u001b[39;00m InvocationException(\n\u001b[0;32m   1964\u001b[0m         \u001b[38;5;124m'\u001b[39m\u001b[38;5;124mGraphViz\u001b[39m\u001b[38;5;130;01m\\'\u001b[39;00m\u001b[38;5;124ms executable \u001b[39m\u001b[38;5;124m\"\u001b[39m\u001b[38;5;132;01m%s\u001b[39;00m\u001b[38;5;124m\"\u001b[39m\u001b[38;5;124m not found\u001b[39m\u001b[38;5;124m'\u001b[39m \u001b[38;5;241m%\u001b[39m prog)\n",
      "\u001b[1;31mInvocationException\u001b[0m: GraphViz's executables not found"
     ]
    }
   ],
   "source": [
    "graph.write_png('tree.png')"
   ]
  },
  {
   "cell_type": "code",
   "execution_count": 120,
   "id": "7c0af510",
   "metadata": {},
   "outputs": [],
   "source": [
    "from sklearn.model_selection import GridSearchCV, cross_val_score, StratifiedKFold\n",
    "param_score = [1, 2, 3, 4, 5, 6, None]\n",
    "param_grid = [{'max_depth': param_score, 'criterion': ['gini', 'entropy']}]\n",
    "gs = GridSearchCV(DecisionTreeClassifier(random_state=0), param_grid=param_grid, scoring='accuracy', cv=10).fit(X_train, y_train) # 최적모수 찾기"
   ]
  },
  {
   "cell_type": "code",
   "execution_count": 121,
   "id": "c9311310",
   "metadata": {},
   "outputs": [
    {
     "data": {
      "text/plain": [
       "0.9427272727272727"
      ]
     },
     "execution_count": 121,
     "metadata": {},
     "output_type": "execute_result"
    }
   ],
   "source": [
    "gs.best_score_"
   ]
  },
  {
   "cell_type": "code",
   "execution_count": 122,
   "id": "e74930f4",
   "metadata": {},
   "outputs": [
    {
     "data": {
      "text/plain": [
       "{'criterion': 'gini', 'max_depth': 2}"
      ]
     },
     "execution_count": 122,
     "metadata": {},
     "output_type": "execute_result"
    }
   ],
   "source": [
    "gs.best_params_"
   ]
  },
  {
   "cell_type": "code",
   "execution_count": 123,
   "id": "25747da8",
   "metadata": {},
   "outputs": [
    {
     "data": {
      "text/html": [
       "<style>#sk-container-id-4 {color: black;background-color: white;}#sk-container-id-4 pre{padding: 0;}#sk-container-id-4 div.sk-toggleable {background-color: white;}#sk-container-id-4 label.sk-toggleable__label {cursor: pointer;display: block;width: 100%;margin-bottom: 0;padding: 0.3em;box-sizing: border-box;text-align: center;}#sk-container-id-4 label.sk-toggleable__label-arrow:before {content: \"▸\";float: left;margin-right: 0.25em;color: #696969;}#sk-container-id-4 label.sk-toggleable__label-arrow:hover:before {color: black;}#sk-container-id-4 div.sk-estimator:hover label.sk-toggleable__label-arrow:before {color: black;}#sk-container-id-4 div.sk-toggleable__content {max-height: 0;max-width: 0;overflow: hidden;text-align: left;background-color: #f0f8ff;}#sk-container-id-4 div.sk-toggleable__content pre {margin: 0.2em;color: black;border-radius: 0.25em;background-color: #f0f8ff;}#sk-container-id-4 input.sk-toggleable__control:checked~div.sk-toggleable__content {max-height: 200px;max-width: 100%;overflow: auto;}#sk-container-id-4 input.sk-toggleable__control:checked~label.sk-toggleable__label-arrow:before {content: \"▾\";}#sk-container-id-4 div.sk-estimator input.sk-toggleable__control:checked~label.sk-toggleable__label {background-color: #d4ebff;}#sk-container-id-4 div.sk-label input.sk-toggleable__control:checked~label.sk-toggleable__label {background-color: #d4ebff;}#sk-container-id-4 input.sk-hidden--visually {border: 0;clip: rect(1px 1px 1px 1px);clip: rect(1px, 1px, 1px, 1px);height: 1px;margin: -1px;overflow: hidden;padding: 0;position: absolute;width: 1px;}#sk-container-id-4 div.sk-estimator {font-family: monospace;background-color: #f0f8ff;border: 1px dotted black;border-radius: 0.25em;box-sizing: border-box;margin-bottom: 0.5em;}#sk-container-id-4 div.sk-estimator:hover {background-color: #d4ebff;}#sk-container-id-4 div.sk-parallel-item::after {content: \"\";width: 100%;border-bottom: 1px solid gray;flex-grow: 1;}#sk-container-id-4 div.sk-label:hover label.sk-toggleable__label {background-color: #d4ebff;}#sk-container-id-4 div.sk-serial::before {content: \"\";position: absolute;border-left: 1px solid gray;box-sizing: border-box;top: 0;bottom: 0;left: 50%;z-index: 0;}#sk-container-id-4 div.sk-serial {display: flex;flex-direction: column;align-items: center;background-color: white;padding-right: 0.2em;padding-left: 0.2em;position: relative;}#sk-container-id-4 div.sk-item {position: relative;z-index: 1;}#sk-container-id-4 div.sk-parallel {display: flex;align-items: stretch;justify-content: center;background-color: white;position: relative;}#sk-container-id-4 div.sk-item::before, #sk-container-id-4 div.sk-parallel-item::before {content: \"\";position: absolute;border-left: 1px solid gray;box-sizing: border-box;top: 0;bottom: 0;left: 50%;z-index: -1;}#sk-container-id-4 div.sk-parallel-item {display: flex;flex-direction: column;z-index: 1;position: relative;background-color: white;}#sk-container-id-4 div.sk-parallel-item:first-child::after {align-self: flex-end;width: 50%;}#sk-container-id-4 div.sk-parallel-item:last-child::after {align-self: flex-start;width: 50%;}#sk-container-id-4 div.sk-parallel-item:only-child::after {width: 0;}#sk-container-id-4 div.sk-dashed-wrapped {border: 1px dashed gray;margin: 0 0.4em 0.5em 0.4em;box-sizing: border-box;padding-bottom: 0.4em;background-color: white;}#sk-container-id-4 div.sk-label label {font-family: monospace;font-weight: bold;display: inline-block;line-height: 1.2em;}#sk-container-id-4 div.sk-label-container {text-align: center;}#sk-container-id-4 div.sk-container {/* jupyter's `normalize.less` sets `[hidden] { display: none; }` but bootstrap.min.css set `[hidden] { display: none !important; }` so we also need the `!important` here to be able to override the default hidden behavior on the sphinx rendered scikit-learn.org. See: https://github.com/scikit-learn/scikit-learn/issues/21755 */display: inline-block !important;position: relative;}#sk-container-id-4 div.sk-text-repr-fallback {display: none;}</style><div id=\"sk-container-id-4\" class=\"sk-top-container\"><div class=\"sk-text-repr-fallback\"><pre>DecisionTreeClassifier(max_depth=2, random_state=0)</pre><b>In a Jupyter environment, please rerun this cell to show the HTML representation or trust the notebook. <br />On GitHub, the HTML representation is unable to render, please try loading this page with nbviewer.org.</b></div><div class=\"sk-container\" hidden><div class=\"sk-item\"><div class=\"sk-estimator sk-toggleable\"><input class=\"sk-toggleable__control sk-hidden--visually\" id=\"sk-estimator-id-4\" type=\"checkbox\" checked><label for=\"sk-estimator-id-4\" class=\"sk-toggleable__label sk-toggleable__label-arrow\">DecisionTreeClassifier</label><div class=\"sk-toggleable__content\"><pre>DecisionTreeClassifier(max_depth=2, random_state=0)</pre></div></div></div></div></div>"
      ],
      "text/plain": [
       "DecisionTreeClassifier(max_depth=2, random_state=0)"
      ]
     },
     "execution_count": 123,
     "metadata": {},
     "output_type": "execute_result"
    }
   ],
   "source": [
    "gs.best_estimator_"
   ]
  },
  {
   "cell_type": "code",
   "execution_count": 124,
   "id": "246e07c5",
   "metadata": {},
   "outputs": [
    {
     "data": {
      "text/plain": [
       "array([2, 2, 0, 0, 1, 0, 1, 2, 0, 1, 0, 2, 0, 2, 1, 1, 1, 1, 1, 0, 1, 2,\n",
       "       0, 1, 1, 2, 2, 2, 1, 2, 1, 0, 0, 1, 1, 2, 1, 0, 0, 1, 0, 2, 0, 0,\n",
       "       2])"
      ]
     },
     "execution_count": 124,
     "metadata": {},
     "output_type": "execute_result"
    }
   ],
   "source": [
    "dtc1 = gs.best_estimator_.fit(X_train, y_train)\n",
    "dtc1.predict(X_test)"
   ]
  },
  {
   "cell_type": "code",
   "execution_count": 125,
   "id": "483e7bac",
   "metadata": {},
   "outputs": [],
   "source": [
    "from sklearn.model_selection import GridSearchCV, cross_val_score, StratifiedKFold\n",
    "param_score = [1, 2, 3, 4, 5, 6, None]\n",
    "param_grid = [{'max_depth': param_score, 'criterion': ['gini', 'entropy']}]\n",
    "kfold = StratifiedKFold(n_splits=5)\n",
    "gs = GridSearchCV(DecisionTreeClassifier(random_state=0), param_grid=param_grid, scoring='accuracy', cv=3) # 최적모수 찾기\n",
    "score = cross_val_score(gs, X, y, scoring='accuracy', cv=kfold)"
   ]
  },
  {
   "cell_type": "code",
   "execution_count": 126,
   "id": "b873c6de",
   "metadata": {},
   "outputs": [
    {
     "data": {
      "text/plain": [
       "array([0.96666667, 0.96666667, 0.93333333, 0.93333333, 1.        ])"
      ]
     },
     "execution_count": 126,
     "metadata": {},
     "output_type": "execute_result"
    }
   ],
   "source": [
    "score"
   ]
  },
  {
   "cell_type": "code",
   "execution_count": 127,
   "id": "955b5cd8",
   "metadata": {},
   "outputs": [
    {
     "data": {
      "text/plain": [
       "0.96"
      ]
     },
     "execution_count": 127,
     "metadata": {},
     "output_type": "execute_result"
    }
   ],
   "source": [
    "import numpy as np\n",
    "np.mean(score)"
   ]
  },
  {
   "cell_type": "code",
   "execution_count": 128,
   "id": "6e71c994",
   "metadata": {},
   "outputs": [
    {
     "data": {
      "text/plain": [
       "0.024944382578492935"
      ]
     },
     "execution_count": 128,
     "metadata": {},
     "output_type": "execute_result"
    }
   ],
   "source": [
    "np.std(score)"
   ]
  },
  {
   "cell_type": "code",
   "execution_count": 129,
   "id": "82d489f1",
   "metadata": {},
   "outputs": [],
   "source": [
    "# Hierarchical analysis\n",
    "import seaborn as sns\n",
    "iris = sns.load_dataset('iris')\n",
    "\n",
    "y = iris['species']\n",
    "X = iris.drop('species',axis=1)\n",
    "\n",
    "from sklearn.preprocessing import LabelEncoder\n",
    "classle = LabelEncoder() \n",
    "y = classle.fit_transform(y) # 문자형 범주 변수를 수치화\n",
    "\n",
    "from sklearn.model_selection import train_test_split\n",
    "X_train, X_test, y_train, y_test = train_test_split(X, y, test_size=0.3, random_state=0, stratify=y)\n",
    "\n",
    "from sklearn.preprocessing import StandardScaler # 자료 표준화는 상황에 따라 취사 선택\n",
    "sc = StandardScaler() \n",
    "sc.fit(X_train) # 표준화 식 완성 => 평균, 표준편차 계산\n",
    "X_train_std = sc.transform(X_train) # 자료 표준화\n",
    "X_test_std = sc.transform(X_test)"
   ]
  },
  {
   "cell_type": "code",
   "execution_count": 130,
   "id": "69e1c37a",
   "metadata": {},
   "outputs": [
    {
     "data": {
      "text/plain": [
       "array([[1.01000000e+02, 1.42000000e+02, 0.00000000e+00, 2.00000000e+00],\n",
       "       [7.00000000e+00, 3.90000000e+01, 1.00000000e-01, 2.00000000e+00],\n",
       "       [0.00000000e+00, 1.70000000e+01, 1.00000000e-01, 2.00000000e+00],\n",
       "       [9.00000000e+00, 3.40000000e+01, 1.00000000e-01, 2.00000000e+00],\n",
       "       [1.28000000e+02, 1.32000000e+02, 1.00000000e-01, 2.00000000e+00],\n",
       "       [1.00000000e+01, 4.80000000e+01, 1.00000000e-01, 2.00000000e+00],\n",
       "       [4.00000000e+01, 1.52000000e+02, 1.41421356e-01, 3.00000000e+00],\n",
       "       [4.00000000e+00, 3.70000000e+01, 1.41421356e-01, 2.00000000e+00],\n",
       "       [1.90000000e+01, 2.10000000e+01, 1.41421356e-01, 2.00000000e+00],\n",
       "       [1.56000000e+02, 1.57000000e+02, 1.41421356e-01, 5.00000000e+00],\n",
       "       [2.90000000e+01, 3.00000000e+01, 1.41421356e-01, 2.00000000e+00],\n",
       "       [5.70000000e+01, 9.30000000e+01, 1.41421356e-01, 2.00000000e+00],\n",
       "       [8.00000000e+01, 8.10000000e+01, 1.41421356e-01, 2.00000000e+00],\n",
       "       [1.16000000e+02, 1.37000000e+02, 1.41421356e-01, 2.00000000e+00],\n",
       "       [8.00000000e+00, 3.80000000e+01, 1.41421356e-01, 2.00000000e+00],\n",
       "       [4.60000000e+01, 1.58000000e+02, 1.41421356e-01, 3.00000000e+00],\n",
       "       [1.51000000e+02, 1.59000000e+02, 1.41421356e-01, 7.00000000e+00],\n",
       "       [4.90000000e+01, 1.66000000e+02, 1.41421356e-01, 8.00000000e+00],\n",
       "       [2.70000000e+01, 2.80000000e+01, 1.41421356e-01, 2.00000000e+00],\n",
       "       [1.00000000e+00, 1.53000000e+02, 1.41421356e-01, 3.00000000e+00],\n",
       "       [3.00000000e+00, 4.70000000e+01, 1.41421356e-01, 2.00000000e+00],\n",
       "       [8.20000000e+01, 9.20000000e+01, 1.41421356e-01, 2.00000000e+00],\n",
       "       [9.50000000e+01, 9.60000000e+01, 1.41421356e-01, 2.00000000e+00],\n",
       "       [1.27000000e+02, 1.38000000e+02, 1.41421356e-01, 2.00000000e+00],\n",
       "       [2.00000000e+00, 1.70000000e+02, 1.41421356e-01, 3.00000000e+00],\n",
       "       [4.50000000e+01, 1.69000000e+02, 1.41421356e-01, 4.00000000e+00],\n",
       "       [1.20000000e+01, 1.75000000e+02, 1.41421356e-01, 5.00000000e+00],\n",
       "       [1.67000000e+02, 1.68000000e+02, 1.41421356e-01, 1.00000000e+01],\n",
       "       [1.60000000e+02, 1.76000000e+02, 1.41421356e-01, 7.00000000e+00],\n",
       "       [9.90000000e+01, 1.72000000e+02, 1.41421356e-01, 3.00000000e+00],\n",
       "       [6.30000000e+01, 9.10000000e+01, 1.41421356e-01, 2.00000000e+00],\n",
       "       [6.50000000e+01, 7.50000000e+01, 1.41421356e-01, 2.00000000e+00],\n",
       "       [2.50000000e+01, 1.78000000e+02, 1.73205081e-01, 8.00000000e+00],\n",
       "       [6.90000000e+01, 1.62000000e+02, 1.73205081e-01, 3.00000000e+00],\n",
       "       [1.23000000e+02, 1.26000000e+02, 1.73205081e-01, 2.00000000e+00],\n",
       "       [1.12000000e+02, 1.39000000e+02, 1.73205081e-01, 2.00000000e+00],\n",
       "       [1.74000000e+02, 1.82000000e+02, 1.73205081e-01, 1.10000000e+01],\n",
       "       [9.40000000e+01, 1.79000000e+02, 1.73205081e-01, 4.00000000e+00],\n",
       "       [8.80000000e+01, 1.87000000e+02, 1.73205081e-01, 5.00000000e+00],\n",
       "       [6.60000000e+01, 8.40000000e+01, 2.00000000e-01, 2.00000000e+00],\n",
       "       [7.80000000e+01, 1.80000000e+02, 2.00000000e-01, 3.00000000e+00],\n",
       "       [2.30000000e+01, 2.60000000e+01, 2.00000000e-01, 2.00000000e+00],\n",
       "       [4.20000000e+01, 1.64000000e+02, 2.00000000e-01, 3.00000000e+00],\n",
       "       [5.30000000e+01, 8.90000000e+01, 2.00000000e-01, 2.00000000e+00],\n",
       "       [7.40000000e+01, 9.70000000e+01, 2.00000000e-01, 2.00000000e+00],\n",
       "       [1.86000000e+02, 1.92000000e+02, 2.23606798e-01, 1.40000000e+01],\n",
       "       [1.10000000e+01, 1.95000000e+02, 2.23606798e-01, 1.50000000e+01],\n",
       "       [6.00000000e+00, 1.96000000e+02, 2.23606798e-01, 1.60000000e+01],\n",
       "       [3.50000000e+01, 1.77000000e+02, 2.23606798e-01, 1.10000000e+01],\n",
       "       [1.55000000e+02, 1.98000000e+02, 2.23606798e-01, 1.30000000e+01],\n",
       "       [4.30000000e+01, 1.91000000e+02, 2.23606798e-01, 3.00000000e+00],\n",
       "       [7.30000000e+01, 1.90000000e+02, 2.23606798e-01, 4.00000000e+00],\n",
       "       [7.00000000e+01, 1.73000000e+02, 2.23606798e-01, 3.00000000e+00],\n",
       "       [1.99000000e+02, 2.00000000e+02, 2.23606798e-01, 1.60000000e+01],\n",
       "       [1.97000000e+02, 2.03000000e+02, 2.23606798e-01, 3.20000000e+01],\n",
       "       [1.10000000e+02, 1.47000000e+02, 2.23606798e-01, 2.00000000e+00],\n",
       "       [1.20000000e+02, 1.43000000e+02, 2.23606798e-01, 2.00000000e+00],\n",
       "       [1.36000000e+02, 1.48000000e+02, 2.44948974e-01, 2.00000000e+00],\n",
       "       [5.80000000e+01, 1.81000000e+02, 2.44948974e-01, 3.00000000e+00],\n",
       "       [1.83000000e+02, 1.93000000e+02, 2.44948974e-01, 5.00000000e+00],\n",
       "       [6.70000000e+01, 1.71000000e+02, 2.44948974e-01, 3.00000000e+00],\n",
       "       [5.40000000e+01, 2.08000000e+02, 2.44948974e-01, 4.00000000e+00],\n",
       "       [1.46000000e+02, 1.84000000e+02, 2.44948974e-01, 3.00000000e+00],\n",
       "       [1.65000000e+02, 2.04000000e+02, 2.44948974e-01, 3.50000000e+01],\n",
       "       [1.03000000e+02, 1.63000000e+02, 2.44948974e-01, 3.00000000e+00],\n",
       "       [1.40000000e+02, 1.44000000e+02, 2.44948974e-01, 2.00000000e+00],\n",
       "       [1.30000000e+01, 2.13000000e+02, 2.44948974e-01, 3.60000000e+01],\n",
       "       [1.41000000e+02, 1.45000000e+02, 2.44948974e-01, 2.00000000e+00],\n",
       "       [2.02000000e+02, 2.12000000e+02, 2.44948974e-01, 6.00000000e+00],\n",
       "       [1.88000000e+02, 2.10000000e+02, 2.64575131e-01, 8.00000000e+00],\n",
       "       [6.80000000e+01, 8.70000000e+01, 2.64575131e-01, 2.00000000e+00],\n",
       "       [1.94000000e+02, 2.11000000e+02, 2.64575131e-01, 6.00000000e+00],\n",
       "       [1.13000000e+02, 1.50000000e+02, 2.64575131e-01, 3.00000000e+00],\n",
       "       [9.00000000e+01, 2.19000000e+02, 2.64575131e-01, 9.00000000e+00],\n",
       "       [5.00000000e+01, 5.20000000e+01, 2.64575131e-01, 2.00000000e+00],\n",
       "       [2.09000000e+02, 2.23000000e+02, 2.64575131e-01, 1.40000000e+01],\n",
       "       [5.10000000e+01, 5.60000000e+01, 2.64575131e-01, 2.00000000e+00],\n",
       "       [1.07000000e+02, 1.30000000e+02, 2.64575131e-01, 2.00000000e+00],\n",
       "       [2.06000000e+02, 2.15000000e+02, 2.64575131e-01, 4.00000000e+00],\n",
       "       [1.05000000e+02, 1.22000000e+02, 2.64575131e-01, 2.00000000e+00],\n",
       "       [1.49000000e+02, 2.18000000e+02, 2.82842712e-01, 7.00000000e+00],\n",
       "       [2.00000000e+01, 3.10000000e+01, 2.82842712e-01, 2.00000000e+00],\n",
       "       [8.60000000e+01, 2.24000000e+02, 2.82842712e-01, 3.00000000e+00],\n",
       "       [2.40000000e+01, 2.16000000e+02, 3.00000000e-01, 3.70000000e+01],\n",
       "       [1.24000000e+02, 2.28000000e+02, 3.00000000e-01, 5.00000000e+00],\n",
       "       [3.60000000e+01, 2.33000000e+02, 3.00000000e-01, 3.80000000e+01],\n",
       "       [2.31000000e+02, 2.35000000e+02, 3.00000000e-01, 4.00000000e+01],\n",
       "       [6.10000000e+01, 2.25000000e+02, 3.00000000e-01, 1.50000000e+01],\n",
       "       [1.15000000e+02, 2.07000000e+02, 3.00000000e-01, 3.00000000e+00],\n",
       "       [1.04000000e+02, 1.54000000e+02, 3.00000000e-01, 3.00000000e+00],\n",
       "       [5.50000000e+01, 1.89000000e+02, 3.00000000e-01, 3.00000000e+00],\n",
       "       [2.21000000e+02, 2.26000000e+02, 3.16227766e-01, 8.00000000e+00],\n",
       "       [1.21000000e+02, 2.22000000e+02, 3.16227766e-01, 4.00000000e+00],\n",
       "       [2.37000000e+02, 2.40000000e+02, 3.16227766e-01, 1.80000000e+01],\n",
       "       [2.32000000e+02, 2.41000000e+02, 3.16227766e-01, 1.10000000e+01],\n",
       "       [7.70000000e+01, 2.44000000e+02, 3.16227766e-01, 1.20000000e+01],\n",
       "       [7.60000000e+01, 2.45000000e+02, 3.16227766e-01, 1.30000000e+01],\n",
       "       [2.01000000e+02, 2.43000000e+02, 3.31662479e-01, 2.20000000e+01],\n",
       "       [8.30000000e+01, 1.33000000e+02, 3.31662479e-01, 2.00000000e+00],\n",
       "       [5.00000000e+00, 1.80000000e+01, 3.31662479e-01, 2.00000000e+00],\n",
       "       [2.30000000e+02, 2.42000000e+02, 3.31662479e-01, 1.10000000e+01],\n",
       "       [7.10000000e+01, 2.46000000e+02, 3.31662479e-01, 1.40000000e+01],\n",
       "       [2.14000000e+02, 2.39000000e+02, 3.31662479e-01, 6.00000000e+00],\n",
       "       [1.11000000e+02, 2.05000000e+02, 3.46410162e-01, 3.00000000e+00],\n",
       "       [1.85000000e+02, 2.34000000e+02, 3.46410162e-01, 7.00000000e+00],\n",
       "       [2.36000000e+02, 2.49000000e+02, 3.46410162e-01, 4.20000000e+01],\n",
       "       [1.60000000e+01, 2.55000000e+02, 3.46410162e-01, 4.30000000e+01],\n",
       "       [2.47000000e+02, 2.51000000e+02, 3.46410162e-01, 3.60000000e+01],\n",
       "       [3.20000000e+01, 2.56000000e+02, 3.46410162e-01, 4.40000000e+01],\n",
       "       [3.30000000e+01, 2.58000000e+02, 3.46410162e-01, 4.50000000e+01],\n",
       "       [1.25000000e+02, 1.29000000e+02, 3.46410162e-01, 2.00000000e+00],\n",
       "       [7.90000000e+01, 2.57000000e+02, 3.46410162e-01, 3.70000000e+01],\n",
       "       [7.20000000e+01, 2.48000000e+02, 3.60555128e-01, 3.00000000e+00],\n",
       "       [4.40000000e+01, 2.59000000e+02, 3.60555128e-01, 4.60000000e+01],\n",
       "       [2.52000000e+02, 2.53000000e+02, 3.60555128e-01, 9.00000000e+00],\n",
       "       [6.00000000e+01, 1.61000000e+02, 3.60555128e-01, 3.00000000e+00],\n",
       "       [2.17000000e+02, 2.64000000e+02, 3.60555128e-01, 1.10000000e+01],\n",
       "       [2.50000000e+02, 2.62000000e+02, 3.60555128e-01, 1.40000000e+01],\n",
       "       [2.54000000e+02, 2.66000000e+02, 3.60555128e-01, 1.80000000e+01],\n",
       "       [1.50000000e+01, 2.63000000e+02, 3.60555128e-01, 4.70000000e+01],\n",
       "       [2.38000000e+02, 2.68000000e+02, 3.74165739e-01, 2.10000000e+01],\n",
       "       [8.50000000e+01, 2.61000000e+02, 3.74165739e-01, 3.80000000e+01],\n",
       "       [2.67000000e+02, 2.70000000e+02, 3.74165739e-01, 3.50000000e+01],\n",
       "       [9.80000000e+01, 2.65000000e+02, 3.87298335e-01, 4.00000000e+00],\n",
       "       [5.90000000e+01, 2.71000000e+02, 3.87298335e-01, 3.90000000e+01],\n",
       "       [1.02000000e+02, 2.60000000e+02, 3.87298335e-01, 3.00000000e+00],\n",
       "       [2.72000000e+02, 2.75000000e+02, 4.00000000e-01, 3.80000000e+01],\n",
       "       [1.18000000e+02, 2.29000000e+02, 4.12310563e-01, 3.00000000e+00],\n",
       "       [1.40000000e+01, 2.69000000e+02, 4.12310563e-01, 4.80000000e+01],\n",
       "       [1.17000000e+02, 1.31000000e+02, 4.12310563e-01, 2.00000000e+00],\n",
       "       [2.74000000e+02, 2.76000000e+02, 4.12310563e-01, 7.70000000e+01],\n",
       "       [6.40000000e+01, 2.80000000e+02, 4.24264069e-01, 7.80000000e+01],\n",
       "       [1.00000000e+02, 2.81000000e+02, 4.24264069e-01, 7.90000000e+01],\n",
       "       [1.19000000e+02, 2.82000000e+02, 4.35889894e-01, 8.00000000e+01],\n",
       "       [2.27000000e+02, 2.83000000e+02, 4.35889894e-01, 8.20000000e+01],\n",
       "       [2.20000000e+01, 2.78000000e+02, 4.58257569e-01, 4.90000000e+01],\n",
       "       [1.14000000e+02, 2.84000000e+02, 4.89897949e-01, 8.30000000e+01],\n",
       "       [6.20000000e+01, 2.86000000e+02, 4.89897949e-01, 8.40000000e+01],\n",
       "       [2.20000000e+02, 2.87000000e+02, 5.09901951e-01, 8.60000000e+01],\n",
       "       [2.77000000e+02, 2.88000000e+02, 5.29150262e-01, 8.90000000e+01],\n",
       "       [1.35000000e+02, 2.89000000e+02, 5.38516481e-01, 9.00000000e+01],\n",
       "       [1.34000000e+02, 2.90000000e+02, 5.38516481e-01, 9.10000000e+01],\n",
       "       [1.08000000e+02, 2.91000000e+02, 5.56776436e-01, 9.20000000e+01],\n",
       "       [4.10000000e+01, 2.85000000e+02, 6.24499800e-01, 5.00000000e+01],\n",
       "       [1.09000000e+02, 2.92000000e+02, 6.32455532e-01, 9.30000000e+01],\n",
       "       [2.73000000e+02, 2.94000000e+02, 6.48074070e-01, 9.70000000e+01],\n",
       "       [1.06000000e+02, 2.95000000e+02, 7.34846923e-01, 9.80000000e+01],\n",
       "       [2.79000000e+02, 2.96000000e+02, 8.18535277e-01, 1.00000000e+02],\n",
       "       [2.93000000e+02, 2.97000000e+02, 1.64012195e+00, 1.50000000e+02]])"
      ]
     },
     "execution_count": 130,
     "metadata": {},
     "output_type": "execute_result"
    }
   ],
   "source": [
    "from scipy.cluster.hierarchy import linkage\n",
    "clusters = linkage(y=X, method='single', metric='euclidean') # single\n",
    "clusters"
   ]
  },
  {
   "cell_type": "code",
   "execution_count": 135,
   "id": "36ef85c3",
   "metadata": {},
   "outputs": [
    {
     "data": {
      "image/png": "[encoded data removed]",
      "text/plain": [
       "<Figure size 1500x600 with 1 Axes>"
      ]
     },
     "metadata": {},
     "output_type": "display_data"
    }
   ],
   "source": [
    "from scipy.cluster.hierarchy import dendrogram\n",
    "import matplotlib.pyplot as plt\n",
    "plt.figure(figsize=(15, 6)) # 그림 크기 조절\n",
    "dendrogram(clusters, leaf_rotation=90, leaf_font_size=12)\n",
    "plt.tight_layout()\n",
    "plt.ylabel('Euclidean distance')\n",
    "plt.show()"
   ]
  },
  {
   "cell_type": "code",
   "execution_count": 136,
   "id": "303b96ce",
   "metadata": {},
   "outputs": [
    {
     "data": {
      "text/plain": [
       "array([1, 1, 1, 1, 1, 1, 1, 1, 1, 1, 1, 1, 1, 1, 1, 1, 1, 1, 1, 1, 1, 1,\n",
       "       1, 1, 1, 1, 1, 1, 1, 1, 1, 1, 1, 1, 1, 1, 1, 1, 1, 1, 1, 1, 1, 1,\n",
       "       1, 1, 1, 1, 1, 1, 2, 2, 2, 2, 2, 2, 2, 2, 2, 2, 2, 2, 2, 2, 2, 2,\n",
       "       2, 2, 2, 2, 2, 2, 2, 2, 2, 2, 2, 2, 2, 2, 2, 2, 2, 2, 2, 2, 2, 2,\n",
       "       2, 2, 2, 2, 2, 2, 2, 2, 2, 2, 2, 2, 2, 2, 2, 2, 2, 2, 2, 2, 2, 2,\n",
       "       2, 2, 2, 2, 2, 2, 2, 2, 2, 2, 2, 2, 2, 2, 2, 2, 2, 2, 2, 2, 2, 2,\n",
       "       2, 2, 2, 2, 2, 2, 2, 2, 2, 2, 2, 2, 2, 2, 2, 2, 2, 2], dtype=int32)"
      ]
     },
     "execution_count": 136,
     "metadata": {},
     "output_type": "execute_result"
    }
   ],
   "source": [
    "from scipy.cluster.hierarchy import fcluster\n",
    "cut_tree = fcluster(clusters, t=1, criterion='distance')\n",
    "cut_tree"
   ]
  },
  {
   "cell_type": "code",
   "execution_count": 137,
   "id": "0d46180d",
   "metadata": {},
   "outputs": [
    {
     "data": {
      "text/plain": [
       "array([[1.01000000e+02, 1.42000000e+02, 0.00000000e+00, 2.00000000e+00],\n",
       "       [7.00000000e+00, 3.90000000e+01, 1.00000000e-01, 2.00000000e+00],\n",
       "       [0.00000000e+00, 1.70000000e+01, 1.00000000e-01, 2.00000000e+00],\n",
       "       [9.00000000e+00, 3.40000000e+01, 1.00000000e-01, 2.00000000e+00],\n",
       "       [1.28000000e+02, 1.32000000e+02, 1.00000000e-01, 2.00000000e+00],\n",
       "       [1.00000000e+01, 4.80000000e+01, 1.00000000e-01, 2.00000000e+00],\n",
       "       [4.00000000e+00, 3.70000000e+01, 1.41421356e-01, 2.00000000e+00],\n",
       "       [1.90000000e+01, 2.10000000e+01, 1.41421356e-01, 2.00000000e+00],\n",
       "       [2.90000000e+01, 3.00000000e+01, 1.41421356e-01, 2.00000000e+00],\n",
       "       [5.70000000e+01, 9.30000000e+01, 1.41421356e-01, 2.00000000e+00],\n",
       "       [8.00000000e+01, 8.10000000e+01, 1.41421356e-01, 2.00000000e+00],\n",
       "       [1.16000000e+02, 1.37000000e+02, 1.41421356e-01, 2.00000000e+00],\n",
       "       [8.00000000e+00, 3.80000000e+01, 1.41421356e-01, 2.00000000e+00],\n",
       "       [3.00000000e+00, 4.70000000e+01, 1.41421356e-01, 2.00000000e+00],\n",
       "       [2.70000000e+01, 2.80000000e+01, 1.41421356e-01, 2.00000000e+00],\n",
       "       [8.20000000e+01, 9.20000000e+01, 1.41421356e-01, 2.00000000e+00],\n",
       "       [9.50000000e+01, 9.60000000e+01, 1.41421356e-01, 2.00000000e+00],\n",
       "       [1.27000000e+02, 1.38000000e+02, 1.41421356e-01, 2.00000000e+00],\n",
       "       [1.00000000e+00, 4.50000000e+01, 1.41421356e-01, 2.00000000e+00],\n",
       "       [6.30000000e+01, 9.10000000e+01, 1.41421356e-01, 2.00000000e+00],\n",
       "       [6.50000000e+01, 7.50000000e+01, 1.41421356e-01, 2.00000000e+00],\n",
       "       [4.00000000e+01, 1.52000000e+02, 1.73205081e-01, 3.00000000e+00],\n",
       "       [4.90000000e+01, 1.51000000e+02, 1.73205081e-01, 3.00000000e+00],\n",
       "       [1.23000000e+02, 1.26000000e+02, 1.73205081e-01, 2.00000000e+00],\n",
       "       [1.12000000e+02, 1.39000000e+02, 1.73205081e-01, 2.00000000e+00],\n",
       "       [9.40000000e+01, 9.90000000e+01, 1.73205081e-01, 2.00000000e+00],\n",
       "       [8.80000000e+01, 1.66000000e+02, 1.73205081e-01, 3.00000000e+00],\n",
       "       [6.60000000e+01, 8.40000000e+01, 2.00000000e-01, 2.00000000e+00],\n",
       "       [2.30000000e+01, 2.60000000e+01, 2.00000000e-01, 2.00000000e+00],\n",
       "       [2.50000000e+01, 1.53000000e+02, 2.00000000e-01, 3.00000000e+00],\n",
       "       [1.20000000e+01, 1.68000000e+02, 2.00000000e-01, 3.00000000e+00],\n",
       "       [5.30000000e+01, 8.90000000e+01, 2.00000000e-01, 2.00000000e+00],\n",
       "       [7.40000000e+01, 9.70000000e+01, 2.00000000e-01, 2.00000000e+00],\n",
       "       [1.10000000e+02, 1.47000000e+02, 2.23606798e-01, 2.00000000e+00],\n",
       "       [1.20000000e+02, 1.43000000e+02, 2.23606798e-01, 2.00000000e+00],\n",
       "       [1.36000000e+02, 1.48000000e+02, 2.44948974e-01, 2.00000000e+00],\n",
       "       [5.40000000e+01, 5.80000000e+01, 2.44948974e-01, 2.00000000e+00],\n",
       "       [4.60000000e+01, 1.57000000e+02, 2.44948974e-01, 3.00000000e+00],\n",
       "       [7.80000000e+01, 1.69000000e+02, 2.44948974e-01, 3.00000000e+00],\n",
       "       [1.40000000e+02, 1.44000000e+02, 2.44948974e-01, 2.00000000e+00],\n",
       "       [2.00000000e+00, 1.63000000e+02, 2.44948974e-01, 3.00000000e+00],\n",
       "       [1.03000000e+02, 1.61000000e+02, 2.44948974e-01, 3.00000000e+00],\n",
       "       [1.41000000e+02, 1.45000000e+02, 2.44948974e-01, 2.00000000e+00],\n",
       "       [6.80000000e+01, 8.70000000e+01, 2.64575131e-01, 2.00000000e+00],\n",
       "       [6.90000000e+01, 1.60000000e+02, 2.64575131e-01, 3.00000000e+00],\n",
       "       [1.71000000e+02, 1.72000000e+02, 2.64575131e-01, 6.00000000e+00],\n",
       "       [1.13000000e+02, 1.50000000e+02, 2.64575131e-01, 3.00000000e+00],\n",
       "       [4.30000000e+01, 1.78000000e+02, 2.64575131e-01, 3.00000000e+00],\n",
       "       [5.00000000e+01, 5.20000000e+01, 2.64575131e-01, 2.00000000e+00],\n",
       "       [5.10000000e+01, 5.60000000e+01, 2.64575131e-01, 2.00000000e+00],\n",
       "       [1.07000000e+02, 1.30000000e+02, 2.64575131e-01, 2.00000000e+00],\n",
       "       [1.05000000e+02, 1.22000000e+02, 2.64575131e-01, 2.00000000e+00],\n",
       "       [6.70000000e+01, 1.65000000e+02, 2.82842712e-01, 3.00000000e+00],\n",
       "       [2.00000000e+01, 3.10000000e+01, 2.82842712e-01, 2.00000000e+00],\n",
       "       [1.10000000e+01, 2.40000000e+01, 3.00000000e-01, 2.00000000e+00],\n",
       "       [4.20000000e+01, 1.90000000e+02, 3.00000000e-01, 4.00000000e+00],\n",
       "       [7.00000000e+01, 1.67000000e+02, 3.00000000e-01, 3.00000000e+00],\n",
       "       [1.79000000e+02, 1.80000000e+02, 3.00000000e-01, 6.00000000e+00],\n",
       "       [1.64000000e+02, 1.95000000e+02, 3.00000000e-01, 8.00000000e+00],\n",
       "       [1.24000000e+02, 1.84000000e+02, 3.16227766e-01, 3.00000000e+00],\n",
       "       [5.50000000e+01, 9.00000000e+01, 3.16227766e-01, 2.00000000e+00],\n",
       "       [1.04000000e+02, 1.54000000e+02, 3.16227766e-01, 3.00000000e+00],\n",
       "       [8.30000000e+01, 1.33000000e+02, 3.31662479e-01, 2.00000000e+00],\n",
       "       [5.00000000e+00, 1.80000000e+01, 3.31662479e-01, 2.00000000e+00],\n",
       "       [6.00000000e+00, 2.05000000e+02, 3.31662479e-01, 5.00000000e+00],\n",
       "       [1.21000000e+02, 1.96000000e+02, 3.31662479e-01, 4.00000000e+00],\n",
       "       [8.60000000e+01, 1.98000000e+02, 3.31662479e-01, 3.00000000e+00],\n",
       "       [1.75000000e+02, 1.76000000e+02, 3.31662479e-01, 5.00000000e+00],\n",
       "       [1.30000000e+01, 1.62000000e+02, 3.46410162e-01, 3.00000000e+00],\n",
       "       [3.20000000e+01, 3.30000000e+01, 3.46410162e-01, 2.00000000e+00],\n",
       "       [3.60000000e+01, 1.55000000e+02, 3.46410162e-01, 3.00000000e+00],\n",
       "       [1.25000000e+02, 1.29000000e+02, 3.46410162e-01, 2.00000000e+00],\n",
       "       [1.58000000e+02, 2.07000000e+02, 3.60555128e-01, 8.00000000e+00],\n",
       "       [1.49000000e+02, 2.06000000e+02, 3.60555128e-01, 4.00000000e+00],\n",
       "       [1.56000000e+02, 2.08000000e+02, 3.74165739e-01, 1.00000000e+01],\n",
       "       [7.60000000e+01, 1.86000000e+02, 3.74165739e-01, 3.00000000e+00],\n",
       "       [1.11000000e+02, 1.46000000e+02, 3.74165739e-01, 2.00000000e+00],\n",
       "       [1.15000000e+02, 1.83000000e+02, 3.87298335e-01, 3.00000000e+00],\n",
       "       [9.80000000e+01, 1.59000000e+02, 3.87298335e-01, 3.00000000e+00],\n",
       "       [7.30000000e+01, 1.88000000e+02, 3.87298335e-01, 4.00000000e+00],\n",
       "       [6.10000000e+01, 7.10000000e+01, 4.00000000e-01, 2.00000000e+00],\n",
       "       [1.89000000e+02, 2.09000000e+02, 4.00000000e-01, 5.00000000e+00],\n",
       "       [4.40000000e+01, 1.87000000e+02, 4.12310563e-01, 4.00000000e+00],\n",
       "       [1.17000000e+02, 1.31000000e+02, 4.12310563e-01, 2.00000000e+00],\n",
       "       [7.20000000e+01, 2.12000000e+02, 4.24264069e-01, 3.00000000e+00],\n",
       "       [2.03000000e+02, 2.20000000e+02, 4.24264069e-01, 5.00000000e+00],\n",
       "       [1.81000000e+02, 1.94000000e+02, 4.35889894e-01, 5.00000000e+00],\n",
       "       [1.73000000e+02, 2.34000000e+02, 4.47213595e-01, 5.00000000e+00],\n",
       "       [6.40000000e+01, 7.90000000e+01, 4.47213595e-01, 2.00000000e+00],\n",
       "       [1.60000000e+01, 2.19000000e+02, 4.58257569e-01, 3.00000000e+00],\n",
       "       [8.50000000e+01, 1.99000000e+02, 4.58257569e-01, 3.00000000e+00],\n",
       "       [3.50000000e+01, 2.24000000e+02, 4.69041576e-01, 1.10000000e+01],\n",
       "       [2.02000000e+02, 2.17000000e+02, 4.69041576e-01, 8.00000000e+00],\n",
       "       [1.74000000e+02, 1.92000000e+02, 4.69041576e-01, 4.00000000e+00],\n",
       "       [1.70000000e+02, 2.25000000e+02, 5.09901951e-01, 5.00000000e+00],\n",
       "       [1.14000000e+02, 2.15000000e+02, 5.19615242e-01, 5.00000000e+00],\n",
       "       [1.77000000e+02, 2.10000000e+02, 5.19615242e-01, 4.00000000e+00],\n",
       "       [1.91000000e+02, 2.11000000e+02, 5.19615242e-01, 6.00000000e+00],\n",
       "       [1.02000000e+02, 2.21000000e+02, 5.19615242e-01, 3.00000000e+00],\n",
       "       [1.82000000e+02, 2.29000000e+02, 5.19615242e-01, 6.00000000e+00],\n",
       "       [1.97000000e+02, 2.04000000e+02, 5.47722558e-01, 5.00000000e+00],\n",
       "       [1.40000000e+01, 1.50000000e+01, 5.47722558e-01, 2.00000000e+00],\n",
       "       [1.18000000e+02, 2.01000000e+02, 5.47722558e-01, 3.00000000e+00],\n",
       "       [7.70000000e+01, 2.16000000e+02, 5.56776436e-01, 4.00000000e+00],\n",
       "       [2.00000000e+02, 2.48000000e+02, 5.56776436e-01, 5.00000000e+00],\n",
       "       [2.27000000e+02, 2.43000000e+02, 5.56776436e-01, 7.00000000e+00],\n",
       "       [2.30000000e+02, 2.42000000e+02, 6.00000000e-01, 1.00000000e+01],\n",
       "       [2.26000000e+02, 2.37000000e+02, 6.08276253e-01, 7.00000000e+00],\n",
       "       [2.13000000e+02, 2.35000000e+02, 6.08276253e-01, 7.00000000e+00],\n",
       "       [2.14000000e+02, 2.18000000e+02, 6.16441400e-01, 8.00000000e+00],\n",
       "       [5.90000000e+01, 2.36000000e+02, 6.16441400e-01, 6.00000000e+00],\n",
       "       [1.00000000e+02, 1.85000000e+02, 6.48074070e-01, 3.00000000e+00],\n",
       "       [2.32000000e+02, 2.50000000e+02, 6.48074070e-01, 9.00000000e+00],\n",
       "       [2.22000000e+02, 2.41000000e+02, 6.55743852e-01, 1.90000000e+01],\n",
       "       [2.44000000e+02, 2.53000000e+02, 6.78232998e-01, 9.00000000e+00],\n",
       "       [2.39000000e+02, 2.51000000e+02, 6.85565460e-01, 5.00000000e+00],\n",
       "       [1.19000000e+02, 1.93000000e+02, 7.07106781e-01, 3.00000000e+00],\n",
       "       [6.00000000e+01, 2.28000000e+02, 7.21110255e-01, 4.00000000e+00],\n",
       "       [1.08000000e+02, 2.47000000e+02, 7.34846923e-01, 7.00000000e+00],\n",
       "       [2.40000000e+02, 2.49000000e+02, 7.54983444e-01, 9.00000000e+00],\n",
       "       [2.38000000e+02, 2.60000000e+02, 7.61577311e-01, 8.00000000e+00],\n",
       "       [2.23000000e+02, 2.45000000e+02, 7.87400787e-01, 9.00000000e+00],\n",
       "       [2.31000000e+02, 2.61000000e+02, 8.06225775e-01, 8.00000000e+00],\n",
       "       [1.09000000e+02, 1.35000000e+02, 8.06225775e-01, 2.00000000e+00],\n",
       "       [2.20000000e+01, 2.59000000e+02, 8.30662386e-01, 9.00000000e+00],\n",
       "       [2.46000000e+02, 2.56000000e+02, 9.05538514e-01, 1.40000000e+01],\n",
       "       [1.34000000e+02, 2.57000000e+02, 9.21954446e-01, 8.00000000e+00],\n",
       "       [2.33000000e+02, 2.73000000e+02, 1.00498756e+00, 4.00000000e+00],\n",
       "       [2.58000000e+02, 2.62000000e+02, 1.00995049e+00, 1.60000000e+01],\n",
       "       [6.20000000e+01, 2.70000000e+02, 1.02956301e+00, 9.00000000e+00],\n",
       "       [2.64000000e+02, 2.69000000e+02, 1.06770783e+00, 1.80000000e+01],\n",
       "       [2.55000000e+02, 2.68000000e+02, 1.06770783e+00, 1.40000000e+01],\n",
       "       [2.63000000e+02, 2.74000000e+02, 1.10905365e+00, 2.80000000e+01],\n",
       "       [2.71000000e+02, 2.76000000e+02, 1.17473401e+00, 1.70000000e+01],\n",
       "       [2.72000000e+02, 2.81000000e+02, 1.21243557e+00, 2.20000000e+01],\n",
       "       [2.75000000e+02, 2.79000000e+02, 1.22474487e+00, 2.30000000e+01],\n",
       "       [2.52000000e+02, 2.77000000e+02, 1.38924440e+00, 7.00000000e+00],\n",
       "       [4.10000000e+01, 2.82000000e+02, 1.40712473e+00, 2.90000000e+01],\n",
       "       [2.65000000e+02, 2.78000000e+02, 1.41774469e+00, 2.10000000e+01],\n",
       "       [2.66000000e+02, 2.80000000e+02, 1.44913767e+00, 2.10000000e+01],\n",
       "       [2.54000000e+02, 2.86000000e+02, 1.45258390e+00, 1.20000000e+01],\n",
       "       [1.06000000e+02, 2.85000000e+02, 1.46287388e+00, 2.40000000e+01],\n",
       "       [2.83000000e+02, 2.89000000e+02, 1.66132477e+00, 3.80000000e+01],\n",
       "       [2.67000000e+02, 2.91000000e+02, 1.70587221e+00, 2.80000000e+01],\n",
       "       [2.84000000e+02, 2.92000000e+02, 2.23606798e+00, 6.00000000e+01],\n",
       "       [2.87000000e+02, 2.88000000e+02, 2.42899156e+00, 5.00000000e+01],\n",
       "       [2.90000000e+02, 2.94000000e+02, 3.21091887e+00, 7.20000000e+01],\n",
       "       [2.93000000e+02, 2.95000000e+02, 4.02492236e+00, 7.80000000e+01],\n",
       "       [2.96000000e+02, 2.97000000e+02, 7.08519583e+00, 1.50000000e+02]])"
      ]
     },
     "execution_count": 137,
     "metadata": {},
     "output_type": "execute_result"
    }
   ],
   "source": [
    "from scipy.cluster.hierarchy import linkage\n",
    "clusters = linkage(y=X, method='complete', metric='euclidean') # complete\n",
    "clusters"
   ]
  },
  {
   "cell_type": "code",
   "execution_count": 138,
   "id": "edd83a61",
   "metadata": {},
   "outputs": [
    {
     "data": {
      "image/png": "[encoded data removed]",
      "text/plain": [
       "<Figure size 1500x600 with 1 Axes>"
      ]
     },
     "metadata": {},
     "output_type": "display_data"
    }
   ],
   "source": [
    "from scipy.cluster.hierarchy import dendrogram\n",
    "import matplotlib.pyplot as plt\n",
    "plt.figure(figsize=(15, 6)) # 그림 크기 조절\n",
    "dendrogram(clusters, leaf_rotation=90, leaf_font_size=12)\n",
    "plt.tight_layout()\n",
    "plt.ylabel('Euclidean distance')\n",
    "plt.show()"
   ]
  },
  {
   "cell_type": "code",
   "execution_count": 139,
   "id": "1459f51b",
   "metadata": {},
   "outputs": [
    {
     "data": {
      "text/plain": [
       "array([3, 3, 3, 3, 3, 3, 3, 3, 3, 3, 3, 3, 3, 3, 3, 3, 3, 3, 3, 3, 3, 3,\n",
       "       3, 3, 3, 3, 3, 3, 3, 3, 3, 3, 3, 3, 3, 3, 3, 3, 3, 3, 3, 3, 3, 3,\n",
       "       3, 3, 3, 3, 3, 3, 1, 1, 1, 2, 1, 2, 1, 2, 1, 2, 2, 2, 2, 1, 2, 1,\n",
       "       2, 2, 1, 2, 1, 2, 1, 1, 1, 1, 1, 1, 1, 2, 2, 2, 2, 1, 2, 1, 1, 1,\n",
       "       2, 2, 2, 1, 2, 2, 2, 2, 2, 1, 2, 2, 1, 1, 1, 1, 1, 1, 2, 1, 1, 1,\n",
       "       1, 1, 1, 1, 1, 1, 1, 1, 1, 1, 1, 1, 1, 1, 1, 1, 1, 1, 1, 1, 1, 1,\n",
       "       1, 1, 1, 1, 1, 1, 1, 1, 1, 1, 1, 1, 1, 1, 1, 1, 1, 1], dtype=int32)"
      ]
     },
     "execution_count": 139,
     "metadata": {},
     "output_type": "execute_result"
    }
   ],
   "source": [
    "from scipy.cluster.hierarchy import fcluster\n",
    "cut_tree = fcluster(clusters, t=4, criterion='distance')\n",
    "cut_tree"
   ]
  },
  {
   "cell_type": "code",
   "execution_count": 140,
   "id": "2ff4e397",
   "metadata": {},
   "outputs": [
    {
     "data": {
      "text/plain": [
       "array([[1.01000000e+02, 1.42000000e+02, 0.00000000e+00, 2.00000000e+00],\n",
       "       [7.00000000e+00, 3.90000000e+01, 1.00000000e-01, 2.00000000e+00],\n",
       "       [0.00000000e+00, 1.70000000e+01, 1.00000000e-01, 2.00000000e+00],\n",
       "       [9.00000000e+00, 3.40000000e+01, 1.00000000e-01, 2.00000000e+00],\n",
       "       [1.28000000e+02, 1.32000000e+02, 1.00000000e-01, 2.00000000e+00],\n",
       "       [1.00000000e+01, 4.80000000e+01, 1.00000000e-01, 2.00000000e+00],\n",
       "       [4.00000000e+00, 3.70000000e+01, 1.41421356e-01, 2.00000000e+00],\n",
       "       [1.90000000e+01, 2.10000000e+01, 1.41421356e-01, 2.00000000e+00],\n",
       "       [2.90000000e+01, 3.00000000e+01, 1.41421356e-01, 2.00000000e+00],\n",
       "       [5.70000000e+01, 9.30000000e+01, 1.41421356e-01, 2.00000000e+00],\n",
       "       [8.00000000e+01, 8.10000000e+01, 1.41421356e-01, 2.00000000e+00],\n",
       "       [1.16000000e+02, 1.37000000e+02, 1.41421356e-01, 2.00000000e+00],\n",
       "       [8.00000000e+00, 3.80000000e+01, 1.41421356e-01, 2.00000000e+00],\n",
       "       [3.00000000e+00, 4.70000000e+01, 1.41421356e-01, 2.00000000e+00],\n",
       "       [2.70000000e+01, 2.80000000e+01, 1.41421356e-01, 2.00000000e+00],\n",
       "       [8.20000000e+01, 9.20000000e+01, 1.41421356e-01, 2.00000000e+00],\n",
       "       [9.50000000e+01, 9.60000000e+01, 1.41421356e-01, 2.00000000e+00],\n",
       "       [1.27000000e+02, 1.38000000e+02, 1.41421356e-01, 2.00000000e+00],\n",
       "       [1.00000000e+00, 4.50000000e+01, 1.41421356e-01, 2.00000000e+00],\n",
       "       [6.30000000e+01, 9.10000000e+01, 1.41421356e-01, 2.00000000e+00],\n",
       "       [6.50000000e+01, 7.50000000e+01, 1.41421356e-01, 2.00000000e+00],\n",
       "       [4.00000000e+01, 1.52000000e+02, 1.57313218e-01, 3.00000000e+00],\n",
       "       [4.90000000e+01, 1.51000000e+02, 1.57313218e-01, 3.00000000e+00],\n",
       "       [1.20000000e+01, 1.68000000e+02, 1.70710678e-01, 3.00000000e+00],\n",
       "       [1.23000000e+02, 1.26000000e+02, 1.73205081e-01, 2.00000000e+00],\n",
       "       [1.12000000e+02, 1.39000000e+02, 1.73205081e-01, 2.00000000e+00],\n",
       "       [9.40000000e+01, 9.90000000e+01, 1.73205081e-01, 2.00000000e+00],\n",
       "       [8.80000000e+01, 1.66000000e+02, 1.73205081e-01, 3.00000000e+00],\n",
       "       [2.50000000e+01, 1.53000000e+02, 1.86602540e-01, 3.00000000e+00],\n",
       "       [4.60000000e+01, 1.57000000e+02, 1.93185165e-01, 3.00000000e+00],\n",
       "       [2.00000000e+00, 1.63000000e+02, 1.93185165e-01, 3.00000000e+00],\n",
       "       [1.64000000e+02, 1.71000000e+02, 1.98971334e-01, 5.00000000e+00],\n",
       "       [6.60000000e+01, 8.40000000e+01, 2.00000000e-01, 2.00000000e+00],\n",
       "       [2.30000000e+01, 2.60000000e+01, 2.00000000e-01, 2.00000000e+00],\n",
       "       [5.30000000e+01, 8.90000000e+01, 2.00000000e-01, 2.00000000e+00],\n",
       "       [7.40000000e+01, 9.70000000e+01, 2.00000000e-01, 2.00000000e+00],\n",
       "       [1.72000000e+02, 1.81000000e+02, 2.10968232e-01, 8.00000000e+00],\n",
       "       [6.90000000e+01, 1.60000000e+02, 2.18890106e-01, 3.00000000e+00],\n",
       "       [1.73000000e+02, 1.78000000e+02, 2.19557050e-01, 6.00000000e+00],\n",
       "       [7.80000000e+01, 1.69000000e+02, 2.22474487e-01, 3.00000000e+00],\n",
       "       [1.10000000e+02, 1.47000000e+02, 2.23606798e-01, 2.00000000e+00],\n",
       "       [1.20000000e+02, 1.43000000e+02, 2.23606798e-01, 2.00000000e+00],\n",
       "       [4.30000000e+01, 1.83000000e+02, 2.44090964e-01, 3.00000000e+00],\n",
       "       [1.36000000e+02, 1.48000000e+02, 2.44948974e-01, 2.00000000e+00],\n",
       "       [5.40000000e+01, 5.80000000e+01, 2.44948974e-01, 2.00000000e+00],\n",
       "       [1.40000000e+02, 1.44000000e+02, 2.44948974e-01, 2.00000000e+00],\n",
       "       [1.03000000e+02, 1.61000000e+02, 2.44948974e-01, 3.00000000e+00],\n",
       "       [1.41000000e+02, 1.45000000e+02, 2.44948974e-01, 2.00000000e+00],\n",
       "       [1.76000000e+02, 1.77000000e+02, 2.46912362e-01, 5.00000000e+00],\n",
       "       [4.20000000e+01, 1.62000000e+02, 2.58113883e-01, 3.00000000e+00],\n",
       "       [1.58000000e+02, 1.80000000e+02, 2.58680193e-01, 5.00000000e+00],\n",
       "       [7.00000000e+01, 1.67000000e+02, 2.61803399e-01, 3.00000000e+00],\n",
       "       [6.70000000e+01, 1.65000000e+02, 2.63895843e-01, 3.00000000e+00],\n",
       "       [1.56000000e+02, 1.86000000e+02, 2.64171522e-01, 1.00000000e+01],\n",
       "       [6.80000000e+01, 8.70000000e+01, 2.64575131e-01, 2.00000000e+00],\n",
       "       [1.13000000e+02, 1.50000000e+02, 2.64575131e-01, 3.00000000e+00],\n",
       "       [5.00000000e+01, 5.20000000e+01, 2.64575131e-01, 2.00000000e+00],\n",
       "       [5.10000000e+01, 5.60000000e+01, 2.64575131e-01, 2.00000000e+00],\n",
       "       [1.07000000e+02, 1.30000000e+02, 2.64575131e-01, 2.00000000e+00],\n",
       "       [1.05000000e+02, 1.22000000e+02, 2.64575131e-01, 2.00000000e+00],\n",
       "       [2.00000000e+01, 3.10000000e+01, 2.82842712e-01, 2.00000000e+00],\n",
       "       [1.55000000e+02, 1.79000000e+02, 2.99436791e-01, 5.00000000e+00],\n",
       "       [1.10000000e+01, 2.40000000e+01, 3.00000000e-01, 2.00000000e+00],\n",
       "       [1.88000000e+02, 2.00000000e+02, 3.02209166e-01, 1.10000000e+01],\n",
       "       [1.30000000e+01, 1.99000000e+02, 3.02528967e-01, 4.00000000e+00],\n",
       "       [7.30000000e+01, 1.89000000e+02, 3.03635044e-01, 4.00000000e+00],\n",
       "       [1.91000000e+02, 1.95000000e+02, 3.06803265e-01, 4.00000000e+00],\n",
       "       [8.60000000e+01, 2.06000000e+02, 3.07252596e-01, 3.00000000e+00],\n",
       "       [1.04000000e+02, 1.54000000e+02, 3.08113883e-01, 3.00000000e+00],\n",
       "       [1.46000000e+02, 1.74000000e+02, 3.16123654e-01, 3.00000000e+00],\n",
       "       [5.50000000e+01, 9.00000000e+01, 3.16227766e-01, 2.00000000e+00],\n",
       "       [1.49000000e+02, 2.01000000e+02, 3.19875202e-01, 4.00000000e+00],\n",
       "       [1.21000000e+02, 2.05000000e+02, 3.21372670e-01, 4.00000000e+00],\n",
       "       [1.70000000e+02, 1.94000000e+02, 3.25417144e-01, 4.00000000e+00],\n",
       "       [8.30000000e+01, 1.33000000e+02, 3.31662479e-01, 2.00000000e+00],\n",
       "       [5.00000000e+00, 1.80000000e+01, 3.31662479e-01, 2.00000000e+00],\n",
       "       [1.84000000e+02, 1.87000000e+02, 3.38826088e-01, 5.00000000e+00],\n",
       "       [1.15000000e+02, 1.93000000e+02, 3.43649167e-01, 3.00000000e+00],\n",
       "       [3.20000000e+01, 3.30000000e+01, 3.46410162e-01, 2.00000000e+00],\n",
       "       [1.25000000e+02, 1.29000000e+02, 3.46410162e-01, 2.00000000e+00],\n",
       "       [1.24000000e+02, 2.16000000e+02, 3.47598376e-01, 5.00000000e+00],\n",
       "       [3.60000000e+01, 2.10000000e+02, 3.70245917e-01, 3.00000000e+00],\n",
       "       [6.10000000e+01, 1.98000000e+02, 3.72863514e-01, 6.00000000e+00],\n",
       "       [3.50000000e+01, 2.03000000e+02, 3.78316113e-01, 1.10000000e+01],\n",
       "       [7.60000000e+01, 2.17000000e+02, 3.83692631e-01, 4.00000000e+00],\n",
       "       [7.10000000e+01, 1.85000000e+02, 3.83776187e-01, 3.00000000e+00],\n",
       "       [9.80000000e+01, 1.59000000e+02, 3.87298335e-01, 3.00000000e+00],\n",
       "       [1.75000000e+02, 1.97000000e+02, 3.91079392e-01, 4.00000000e+00],\n",
       "       [7.20000000e+01, 2.24000000e+02, 3.92409598e-01, 3.00000000e+00],\n",
       "       [1.60000000e+01, 2.11000000e+02, 3.97231468e-01, 6.00000000e+00],\n",
       "       [1.11000000e+02, 1.96000000e+02, 4.10951413e-01, 4.00000000e+00],\n",
       "       [2.02000000e+02, 2.32000000e+02, 4.11551824e-01, 9.00000000e+00],\n",
       "       [1.17000000e+02, 1.31000000e+02, 4.12310563e-01, 2.00000000e+00],\n",
       "       [6.00000000e+00, 2.13000000e+02, 4.12947522e-01, 1.20000000e+01],\n",
       "       [8.50000000e+01, 2.07000000e+02, 4.16211654e-01, 3.00000000e+00],\n",
       "       [7.70000000e+01, 2.34000000e+02, 4.17858502e-01, 5.00000000e+00],\n",
       "       [1.92000000e+02, 2.33000000e+02, 4.24859090e-01, 1.40000000e+01],\n",
       "       [2.19000000e+02, 2.38000000e+02, 4.28466073e-01, 6.00000000e+00],\n",
       "       [1.82000000e+02, 2.20000000e+02, 4.37885262e-01, 4.00000000e+00],\n",
       "       [6.40000000e+01, 7.90000000e+01, 4.47213595e-01, 2.00000000e+00],\n",
       "       [1.02000000e+02, 2.29000000e+02, 4.53456788e-01, 3.00000000e+00],\n",
       "       [2.12000000e+02, 2.43000000e+02, 4.59587533e-01, 1.40000000e+01],\n",
       "       [2.18000000e+02, 2.40000000e+02, 4.62587845e-01, 7.00000000e+00],\n",
       "       [2.25000000e+02, 2.39000000e+02, 4.63899890e-01, 8.00000000e+00],\n",
       "       [1.90000000e+02, 2.37000000e+02, 4.73325708e-01, 6.00000000e+00],\n",
       "       [2.31000000e+02, 2.46000000e+02, 4.79362323e-01, 1.70000000e+01],\n",
       "       [1.18000000e+02, 2.09000000e+02, 4.80016560e-01, 3.00000000e+00],\n",
       "       [4.40000000e+01, 2.53000000e+02, 4.90701246e-01, 9.00000000e+00],\n",
       "       [2.23000000e+02, 2.45000000e+02, 4.95121073e-01, 9.00000000e+00],\n",
       "       [2.08000000e+02, 2.50000000e+02, 4.96264997e-01, 5.00000000e+00],\n",
       "       [1.14000000e+02, 2.22000000e+02, 5.07329273e-01, 5.00000000e+00],\n",
       "       [1.50000000e+01, 2.28000000e+02, 5.08149490e-01, 3.00000000e+00],\n",
       "       [2.15000000e+02, 2.35000000e+02, 5.11495126e-01, 7.00000000e+00],\n",
       "       [6.00000000e+01, 2.36000000e+02, 5.13307651e-01, 4.00000000e+00],\n",
       "       [5.90000000e+01, 2.26000000e+02, 5.18204344e-01, 6.00000000e+00],\n",
       "       [2.41000000e+02, 2.48000000e+02, 5.25474630e-01, 1.30000000e+01],\n",
       "       [2.55000000e+02, 2.57000000e+02, 5.40203168e-01, 2.60000000e+01],\n",
       "       [2.14000000e+02, 2.51000000e+02, 5.43172921e-01, 1.80000000e+01],\n",
       "       [1.40000000e+01, 2.61000000e+02, 5.48532860e-01, 4.00000000e+00],\n",
       "       [2.21000000e+02, 2.47000000e+02, 5.49450670e-01, 1.00000000e+01],\n",
       "       [2.49000000e+02, 2.64000000e+02, 5.70834015e-01, 8.00000000e+00],\n",
       "       [2.44000000e+02, 2.62000000e+02, 5.94899385e-01, 1.00000000e+01],\n",
       "       [1.00000000e+02, 2.30000000e+02, 6.02494379e-01, 6.00000000e+00],\n",
       "       [2.52000000e+02, 2.54000000e+02, 6.03519420e-01, 1.30000000e+01],\n",
       "       [2.27000000e+02, 2.72000000e+02, 6.06291352e-01, 9.00000000e+00],\n",
       "       [1.19000000e+02, 2.04000000e+02, 6.22811631e-01, 3.00000000e+00],\n",
       "       [2.60000000e+02, 2.69000000e+02, 6.41198366e-01, 1.50000000e+01],\n",
       "       [2.73000000e+02, 2.74000000e+02, 6.74792578e-01, 2.20000000e+01],\n",
       "       [2.65000000e+02, 2.70000000e+02, 6.77553240e-01, 2.10000000e+01],\n",
       "       [1.35000000e+02, 2.59000000e+02, 7.06547529e-01, 6.00000000e+00],\n",
       "       [2.58000000e+02, 2.71000000e+02, 7.14843442e-01, 1.90000000e+01],\n",
       "       [2.20000000e+01, 2.67000000e+02, 7.17135674e-01, 1.90000000e+01],\n",
       "       [2.66000000e+02, 2.81000000e+02, 7.54099122e-01, 4.50000000e+01],\n",
       "       [1.08000000e+02, 1.34000000e+02, 7.54983444e-01, 2.00000000e+00],\n",
       "       [6.20000000e+01, 2.78000000e+02, 7.83078008e-01, 2.20000000e+01],\n",
       "       [2.75000000e+02, 2.76000000e+02, 8.93789321e-01, 1.80000000e+01],\n",
       "       [1.09000000e+02, 2.42000000e+02, 8.96485216e-01, 3.00000000e+00],\n",
       "       [2.56000000e+02, 2.79000000e+02, 9.03309021e-01, 9.00000000e+00],\n",
       "       [2.80000000e+02, 2.85000000e+02, 9.17272544e-01, 3.70000000e+01],\n",
       "       [2.77000000e+02, 2.83000000e+02, 9.68739482e-01, 2.40000000e+01],\n",
       "       [1.06000000e+02, 2.84000000e+02, 1.05978781e+00, 2.30000000e+01],\n",
       "       [2.68000000e+02, 2.82000000e+02, 1.06920844e+00, 4.90000000e+01],\n",
       "       [2.86000000e+02, 2.87000000e+02, 1.09005269e+00, 1.20000000e+01],\n",
       "       [2.88000000e+02, 2.90000000e+02, 1.18677850e+00, 6.00000000e+01],\n",
       "       [4.10000000e+01, 2.91000000e+02, 1.31418787e+00, 5.00000000e+01],\n",
       "       [2.89000000e+02, 2.92000000e+02, 1.38099374e+00, 3.60000000e+01],\n",
       "       [2.63000000e+02, 2.93000000e+02, 1.78556648e+00, 6.40000000e+01],\n",
       "       [2.95000000e+02, 2.96000000e+02, 1.96361409e+00, 1.00000000e+02],\n",
       "       [2.94000000e+02, 2.97000000e+02, 4.06268269e+00, 1.50000000e+02]])"
      ]
     },
     "execution_count": 140,
     "metadata": {},
     "output_type": "execute_result"
    }
   ],
   "source": [
    "from scipy.cluster.hierarchy import linkage\n",
    "clusters = linkage(y=X, method='average', metric='euclidean') # average\n",
    "clusters"
   ]
  },
  {
   "cell_type": "code",
   "execution_count": 141,
   "id": "1ef8d351",
   "metadata": {},
   "outputs": [
    {
     "data": {
      "image/png": "[encoded data removed]",
      "text/plain": [
       "<Figure size 1500x600 with 1 Axes>"
      ]
     },
     "metadata": {},
     "output_type": "display_data"
    }
   ],
   "source": [
    "from scipy.cluster.hierarchy import dendrogram\n",
    "import matplotlib.pyplot as plt\n",
    "plt.figure(figsize=(15, 6)) # 그림 크기 조절\n",
    "dendrogram(clusters, leaf_rotation=90, leaf_font_size=12)\n",
    "plt.tight_layout()\n",
    "plt.ylabel('Euclidean distance')\n",
    "plt.show()"
   ]
  },
  {
   "cell_type": "code",
   "execution_count": 142,
   "id": "ec37d5ff",
   "metadata": {},
   "outputs": [
    {
     "data": {
      "text/plain": [
       "array([1, 1, 1, 1, 1, 1, 1, 1, 1, 1, 1, 1, 1, 1, 1, 1, 1, 1, 1, 1, 1, 1,\n",
       "       1, 1, 1, 1, 1, 1, 1, 1, 1, 1, 1, 1, 1, 1, 1, 1, 1, 1, 1, 1, 1, 1,\n",
       "       1, 1, 1, 1, 1, 1, 2, 2, 2, 2, 2, 2, 2, 2, 2, 2, 2, 2, 2, 2, 2, 2,\n",
       "       2, 2, 2, 2, 2, 2, 2, 2, 2, 2, 2, 2, 2, 2, 2, 2, 2, 2, 2, 2, 2, 2,\n",
       "       2, 2, 2, 2, 2, 2, 2, 2, 2, 2, 2, 2, 2, 2, 2, 2, 2, 2, 2, 2, 2, 2,\n",
       "       2, 2, 2, 2, 2, 2, 2, 2, 2, 2, 2, 2, 2, 2, 2, 2, 2, 2, 2, 2, 2, 2,\n",
       "       2, 2, 2, 2, 2, 2, 2, 2, 2, 2, 2, 2, 2, 2, 2, 2, 2, 2], dtype=int32)"
      ]
     },
     "execution_count": 142,
     "metadata": {},
     "output_type": "execute_result"
    }
   ],
   "source": [
    "from scipy.cluster.hierarchy import fcluster\n",
    "cut_tree = fcluster(clusters, t=2, criterion='distance')\n",
    "cut_tree"
   ]
  },
  {
   "cell_type": "code",
   "execution_count": null,
   "id": "a42309f8",
   "metadata": {},
   "outputs": [],
   "source": [
    "# K-Means\n",
    "import seaborn as sns\n",
    "iris = sns.load_dataset('iris')\n",
    "\n",
    "y = iris['species']\n",
    "X = iris.drop('species',axis=1)\n",
    "\n",
    "from sklearn.preprocessing import LabelEncoder\n",
    "classle = LabelEncoder() \n",
    "y = classle.fit_transform(y) # 문자형 범주 변수를 수치화\n",
    "\n",
    "from sklearn.model_selection import train_test_split\n",
    "X_train, X_test, y_train, y_test = train_test_split(X, y, test_size=0.3, random_state=0, stratify=y)\n",
    "\n",
    "from sklearn.preprocessing import StandardScaler # 자료 표준화는 상황에 따라 취사 선택\n",
    "sc = StandardScaler() \n",
    "sc.fit(X_train) # 표준화 식 완성 => 평균, 표준편차 계산\n",
    "X_train_std = sc.transform(X_train) # 자료 표준화\n",
    "X_test_std = sc.transform(X_test)"
   ]
  },
  {
   "cell_type": "code",
   "execution_count": 143,
   "id": "d2981722",
   "metadata": {},
   "outputs": [
    {
     "name": "stderr",
     "output_type": "stream",
     "text": [
      "C:\\Users\\USER\\anaconda3\\lib\\site-packages\\sklearn\\cluster\\_kmeans.py:870: FutureWarning: The default value of `n_init` will change from 10 to 'auto' in 1.4. Set the value of `n_init` explicitly to suppress the warning\n",
      "  warnings.warn(\n",
      "C:\\Users\\USER\\anaconda3\\lib\\site-packages\\sklearn\\cluster\\_kmeans.py:1382: UserWarning: KMeans is known to have a memory leak on Windows with MKL, when there are less chunks than available threads. You can avoid it by setting the environment variable OMP_NUM_THREADS=1.\n",
      "  warnings.warn(\n"
     ]
    },
    {
     "data": {
      "text/html": [
       "<style>#sk-container-id-5 {color: black;background-color: white;}#sk-container-id-5 pre{padding: 0;}#sk-container-id-5 div.sk-toggleable {background-color: white;}#sk-container-id-5 label.sk-toggleable__label {cursor: pointer;display: block;width: 100%;margin-bottom: 0;padding: 0.3em;box-sizing: border-box;text-align: center;}#sk-container-id-5 label.sk-toggleable__label-arrow:before {content: \"▸\";float: left;margin-right: 0.25em;color: #696969;}#sk-container-id-5 label.sk-toggleable__label-arrow:hover:before {color: black;}#sk-container-id-5 div.sk-estimator:hover label.sk-toggleable__label-arrow:before {color: black;}#sk-container-id-5 div.sk-toggleable__content {max-height: 0;max-width: 0;overflow: hidden;text-align: left;background-color: #f0f8ff;}#sk-container-id-5 div.sk-toggleable__content pre {margin: 0.2em;color: black;border-radius: 0.25em;background-color: #f0f8ff;}#sk-container-id-5 input.sk-toggleable__control:checked~div.sk-toggleable__content {max-height: 200px;max-width: 100%;overflow: auto;}#sk-container-id-5 input.sk-toggleable__control:checked~label.sk-toggleable__label-arrow:before {content: \"▾\";}#sk-container-id-5 div.sk-estimator input.sk-toggleable__control:checked~label.sk-toggleable__label {background-color: #d4ebff;}#sk-container-id-5 div.sk-label input.sk-toggleable__control:checked~label.sk-toggleable__label {background-color: #d4ebff;}#sk-container-id-5 input.sk-hidden--visually {border: 0;clip: rect(1px 1px 1px 1px);clip: rect(1px, 1px, 1px, 1px);height: 1px;margin: -1px;overflow: hidden;padding: 0;position: absolute;width: 1px;}#sk-container-id-5 div.sk-estimator {font-family: monospace;background-color: #f0f8ff;border: 1px dotted black;border-radius: 0.25em;box-sizing: border-box;margin-bottom: 0.5em;}#sk-container-id-5 div.sk-estimator:hover {background-color: #d4ebff;}#sk-container-id-5 div.sk-parallel-item::after {content: \"\";width: 100%;border-bottom: 1px solid gray;flex-grow: 1;}#sk-container-id-5 div.sk-label:hover label.sk-toggleable__label {background-color: #d4ebff;}#sk-container-id-5 div.sk-serial::before {content: \"\";position: absolute;border-left: 1px solid gray;box-sizing: border-box;top: 0;bottom: 0;left: 50%;z-index: 0;}#sk-container-id-5 div.sk-serial {display: flex;flex-direction: column;align-items: center;background-color: white;padding-right: 0.2em;padding-left: 0.2em;position: relative;}#sk-container-id-5 div.sk-item {position: relative;z-index: 1;}#sk-container-id-5 div.sk-parallel {display: flex;align-items: stretch;justify-content: center;background-color: white;position: relative;}#sk-container-id-5 div.sk-item::before, #sk-container-id-5 div.sk-parallel-item::before {content: \"\";position: absolute;border-left: 1px solid gray;box-sizing: border-box;top: 0;bottom: 0;left: 50%;z-index: -1;}#sk-container-id-5 div.sk-parallel-item {display: flex;flex-direction: column;z-index: 1;position: relative;background-color: white;}#sk-container-id-5 div.sk-parallel-item:first-child::after {align-self: flex-end;width: 50%;}#sk-container-id-5 div.sk-parallel-item:last-child::after {align-self: flex-start;width: 50%;}#sk-container-id-5 div.sk-parallel-item:only-child::after {width: 0;}#sk-container-id-5 div.sk-dashed-wrapped {border: 1px dashed gray;margin: 0 0.4em 0.5em 0.4em;box-sizing: border-box;padding-bottom: 0.4em;background-color: white;}#sk-container-id-5 div.sk-label label {font-family: monospace;font-weight: bold;display: inline-block;line-height: 1.2em;}#sk-container-id-5 div.sk-label-container {text-align: center;}#sk-container-id-5 div.sk-container {/* jupyter's `normalize.less` sets `[hidden] { display: none; }` but bootstrap.min.css set `[hidden] { display: none !important; }` so we also need the `!important` here to be able to override the default hidden behavior on the sphinx rendered scikit-learn.org. See: https://github.com/scikit-learn/scikit-learn/issues/21755 */display: inline-block !important;position: relative;}#sk-container-id-5 div.sk-text-repr-fallback {display: none;}</style><div id=\"sk-container-id-5\" class=\"sk-top-container\"><div class=\"sk-text-repr-fallback\"><pre>KMeans(n_clusters=3, random_state=0)</pre><b>In a Jupyter environment, please rerun this cell to show the HTML representation or trust the notebook. <br />On GitHub, the HTML representation is unable to render, please try loading this page with nbviewer.org.</b></div><div class=\"sk-container\" hidden><div class=\"sk-item\"><div class=\"sk-estimator sk-toggleable\"><input class=\"sk-toggleable__control sk-hidden--visually\" id=\"sk-estimator-id-5\" type=\"checkbox\" checked><label for=\"sk-estimator-id-5\" class=\"sk-toggleable__label sk-toggleable__label-arrow\">KMeans</label><div class=\"sk-toggleable__content\"><pre>KMeans(n_clusters=3, random_state=0)</pre></div></div></div></div></div>"
      ],
      "text/plain": [
       "KMeans(n_clusters=3, random_state=0)"
      ]
     },
     "execution_count": 143,
     "metadata": {},
     "output_type": "execute_result"
    }
   ],
   "source": [
    "from sklearn.cluster import KMeans\n",
    "model = KMeans(n_clusters=3, random_state=0, init='k-means++')\n",
    "model.fit(X)"
   ]
  },
  {
   "cell_type": "code",
   "execution_count": 144,
   "id": "d7acf15e",
   "metadata": {},
   "outputs": [
    {
     "data": {
      "text/plain": [
       "array([[5.9016129 , 2.7483871 , 4.39354839, 1.43387097],\n",
       "       [5.006     , 3.428     , 1.462     , 0.246     ],\n",
       "       [6.85      , 3.07368421, 5.74210526, 2.07105263]])"
      ]
     },
     "execution_count": 144,
     "metadata": {},
     "output_type": "execute_result"
    }
   ],
   "source": [
    "centers = model.cluster_centers_\n",
    "centers"
   ]
  },
  {
   "cell_type": "code",
   "execution_count": 145,
   "id": "1d10b7cf",
   "metadata": {},
   "outputs": [
    {
     "data": {
      "text/plain": [
       "array([1, 1, 1, 1, 1, 1, 1, 1, 1, 1, 1, 1, 1, 1, 1, 1, 1, 1, 1, 1, 1, 1,\n",
       "       1, 1, 1, 1, 1, 1, 1, 1, 1, 1, 1, 1, 1, 1, 1, 1, 1, 1, 1, 1, 1, 1,\n",
       "       1, 1, 1, 1, 1, 1, 0, 0, 2, 0, 0, 0, 0, 0, 0, 0, 0, 0, 0, 0, 0, 0,\n",
       "       0, 0, 0, 0, 0, 0, 0, 0, 0, 0, 0, 2, 0, 0, 0, 0, 0, 0, 0, 0, 0, 0,\n",
       "       0, 0, 0, 0, 0, 0, 0, 0, 0, 0, 0, 0, 2, 0, 2, 2, 2, 2, 0, 2, 2, 2,\n",
       "       2, 2, 2, 0, 0, 2, 2, 2, 2, 0, 2, 0, 2, 0, 2, 2, 0, 0, 2, 2, 2, 2,\n",
       "       2, 0, 2, 2, 2, 2, 0, 2, 2, 2, 0, 2, 2, 2, 0, 2, 2, 0])"
      ]
     },
     "execution_count": 145,
     "metadata": {},
     "output_type": "execute_result"
    }
   ],
   "source": [
    "pred = model.predict(X)\n",
    "pred"
   ]
  },
  {
   "cell_type": "code",
   "execution_count": 169,
   "id": "f9804480",
   "metadata": {},
   "outputs": [
    {
     "data": {
      "text/html": [
       "<div>\n",
       "<style scoped>\n",
       "    .dataframe tbody tr th:only-of-type {\n",
       "        vertical-align: middle;\n",
       "    }\n",
       "\n",
       "    .dataframe tbody tr th {\n",
       "        vertical-align: top;\n",
       "    }\n",
       "\n",
       "    .dataframe thead th {\n",
       "        text-align: right;\n",
       "    }\n",
       "</style>\n",
       "<table border=\"1\" class=\"dataframe\">\n",
       "  <thead>\n",
       "    <tr style=\"text-align: right;\">\n",
       "      <th></th>\n",
       "      <th>사용월</th>\n",
       "      <th>호선명</th>\n",
       "      <th>지하철역</th>\n",
       "      <th>04시-05시 승차인원</th>\n",
       "      <th>04시-05시 하차인원</th>\n",
       "      <th>05시-06시 승차인원</th>\n",
       "      <th>05시-06시 하차인원</th>\n",
       "      <th>06시-07시 승차인원</th>\n",
       "      <th>06시-07시 하차인원</th>\n",
       "      <th>07시-08시 승차인원</th>\n",
       "      <th>...</th>\n",
       "      <th>23시-24시 하차인원</th>\n",
       "      <th>00시-01시 승차인원</th>\n",
       "      <th>00시-01시 하차인원</th>\n",
       "      <th>01시-02시 승차인원</th>\n",
       "      <th>01시-02시 하차인원</th>\n",
       "      <th>02시-03시 승차인원</th>\n",
       "      <th>02시-03시 하차인원</th>\n",
       "      <th>03시-04시 승차인원</th>\n",
       "      <th>03시-04시 하차인원</th>\n",
       "      <th>작업일자</th>\n",
       "    </tr>\n",
       "  </thead>\n",
       "  <tbody>\n",
       "    <tr>\n",
       "      <th>0</th>\n",
       "      <td>202209</td>\n",
       "      <td>1호선</td>\n",
       "      <td>동대문</td>\n",
       "      <td>692</td>\n",
       "      <td>10</td>\n",
       "      <td>10195</td>\n",
       "      <td>1888</td>\n",
       "      <td>8595</td>\n",
       "      <td>6719</td>\n",
       "      <td>14334</td>\n",
       "      <td>...</td>\n",
       "      <td>8085</td>\n",
       "      <td>418</td>\n",
       "      <td>1956</td>\n",
       "      <td>21</td>\n",
       "      <td>161</td>\n",
       "      <td>0</td>\n",
       "      <td>4</td>\n",
       "      <td>0</td>\n",
       "      <td>0</td>\n",
       "      <td>20221003</td>\n",
       "    </tr>\n",
       "    <tr>\n",
       "      <th>1</th>\n",
       "      <td>202209</td>\n",
       "      <td>1호선</td>\n",
       "      <td>동묘앞</td>\n",
       "      <td>163</td>\n",
       "      <td>2</td>\n",
       "      <td>2756</td>\n",
       "      <td>1026</td>\n",
       "      <td>3560</td>\n",
       "      <td>4309</td>\n",
       "      <td>5923</td>\n",
       "      <td>...</td>\n",
       "      <td>3494</td>\n",
       "      <td>122</td>\n",
       "      <td>1490</td>\n",
       "      <td>1</td>\n",
       "      <td>307</td>\n",
       "      <td>0</td>\n",
       "      <td>1</td>\n",
       "      <td>0</td>\n",
       "      <td>0</td>\n",
       "      <td>20221003</td>\n",
       "    </tr>\n",
       "    <tr>\n",
       "      <th>2</th>\n",
       "      <td>202209</td>\n",
       "      <td>1호선</td>\n",
       "      <td>서울역</td>\n",
       "      <td>588</td>\n",
       "      <td>19</td>\n",
       "      <td>8568</td>\n",
       "      <td>8043</td>\n",
       "      <td>12144</td>\n",
       "      <td>45586</td>\n",
       "      <td>40540</td>\n",
       "      <td>...</td>\n",
       "      <td>14330</td>\n",
       "      <td>2730</td>\n",
       "      <td>2584</td>\n",
       "      <td>32</td>\n",
       "      <td>267</td>\n",
       "      <td>0</td>\n",
       "      <td>5</td>\n",
       "      <td>0</td>\n",
       "      <td>0</td>\n",
       "      <td>20221003</td>\n",
       "    </tr>\n",
       "    <tr>\n",
       "      <th>3</th>\n",
       "      <td>202209</td>\n",
       "      <td>1호선</td>\n",
       "      <td>시청</td>\n",
       "      <td>50</td>\n",
       "      <td>0</td>\n",
       "      <td>2005</td>\n",
       "      <td>4701</td>\n",
       "      <td>3277</td>\n",
       "      <td>22957</td>\n",
       "      <td>6771</td>\n",
       "      <td>...</td>\n",
       "      <td>2937</td>\n",
       "      <td>359</td>\n",
       "      <td>775</td>\n",
       "      <td>1</td>\n",
       "      <td>14</td>\n",
       "      <td>0</td>\n",
       "      <td>0</td>\n",
       "      <td>0</td>\n",
       "      <td>0</td>\n",
       "      <td>20221003</td>\n",
       "    </tr>\n",
       "    <tr>\n",
       "      <th>4</th>\n",
       "      <td>202209</td>\n",
       "      <td>1호선</td>\n",
       "      <td>신설동</td>\n",
       "      <td>341</td>\n",
       "      <td>11</td>\n",
       "      <td>8420</td>\n",
       "      <td>2040</td>\n",
       "      <td>8739</td>\n",
       "      <td>8233</td>\n",
       "      <td>19746</td>\n",
       "      <td>...</td>\n",
       "      <td>8004</td>\n",
       "      <td>368</td>\n",
       "      <td>1909</td>\n",
       "      <td>5</td>\n",
       "      <td>21</td>\n",
       "      <td>0</td>\n",
       "      <td>0</td>\n",
       "      <td>0</td>\n",
       "      <td>0</td>\n",
       "      <td>20221003</td>\n",
       "    </tr>\n",
       "    <tr>\n",
       "      <th>...</th>\n",
       "      <td>...</td>\n",
       "      <td>...</td>\n",
       "      <td>...</td>\n",
       "      <td>...</td>\n",
       "      <td>...</td>\n",
       "      <td>...</td>\n",
       "      <td>...</td>\n",
       "      <td>...</td>\n",
       "      <td>...</td>\n",
       "      <td>...</td>\n",
       "      <td>...</td>\n",
       "      <td>...</td>\n",
       "      <td>...</td>\n",
       "      <td>...</td>\n",
       "      <td>...</td>\n",
       "      <td>...</td>\n",
       "      <td>...</td>\n",
       "      <td>...</td>\n",
       "      <td>...</td>\n",
       "      <td>...</td>\n",
       "      <td>...</td>\n",
       "    </tr>\n",
       "    <tr>\n",
       "      <th>610</th>\n",
       "      <td>202209</td>\n",
       "      <td>중앙선</td>\n",
       "      <td>원덕</td>\n",
       "      <td>111</td>\n",
       "      <td>15</td>\n",
       "      <td>426</td>\n",
       "      <td>4</td>\n",
       "      <td>690</td>\n",
       "      <td>238</td>\n",
       "      <td>744</td>\n",
       "      <td>...</td>\n",
       "      <td>286</td>\n",
       "      <td>1</td>\n",
       "      <td>76</td>\n",
       "      <td>0</td>\n",
       "      <td>0</td>\n",
       "      <td>0</td>\n",
       "      <td>0</td>\n",
       "      <td>0</td>\n",
       "      <td>0</td>\n",
       "      <td>20221003</td>\n",
       "    </tr>\n",
       "    <tr>\n",
       "      <th>611</th>\n",
       "      <td>202209</td>\n",
       "      <td>중앙선</td>\n",
       "      <td>중랑</td>\n",
       "      <td>185</td>\n",
       "      <td>7</td>\n",
       "      <td>6218</td>\n",
       "      <td>541</td>\n",
       "      <td>9442</td>\n",
       "      <td>2046</td>\n",
       "      <td>22556</td>\n",
       "      <td>...</td>\n",
       "      <td>4812</td>\n",
       "      <td>27</td>\n",
       "      <td>411</td>\n",
       "      <td>0</td>\n",
       "      <td>1</td>\n",
       "      <td>0</td>\n",
       "      <td>0</td>\n",
       "      <td>0</td>\n",
       "      <td>0</td>\n",
       "      <td>20221003</td>\n",
       "    </tr>\n",
       "    <tr>\n",
       "      <th>612</th>\n",
       "      <td>202209</td>\n",
       "      <td>중앙선</td>\n",
       "      <td>지평</td>\n",
       "      <td>0</td>\n",
       "      <td>0</td>\n",
       "      <td>0</td>\n",
       "      <td>0</td>\n",
       "      <td>4</td>\n",
       "      <td>0</td>\n",
       "      <td>394</td>\n",
       "      <td>...</td>\n",
       "      <td>0</td>\n",
       "      <td>0</td>\n",
       "      <td>0</td>\n",
       "      <td>0</td>\n",
       "      <td>0</td>\n",
       "      <td>0</td>\n",
       "      <td>0</td>\n",
       "      <td>0</td>\n",
       "      <td>0</td>\n",
       "      <td>20221003</td>\n",
       "    </tr>\n",
       "    <tr>\n",
       "      <th>613</th>\n",
       "      <td>202209</td>\n",
       "      <td>중앙선</td>\n",
       "      <td>팔당</td>\n",
       "      <td>0</td>\n",
       "      <td>0</td>\n",
       "      <td>278</td>\n",
       "      <td>157</td>\n",
       "      <td>802</td>\n",
       "      <td>924</td>\n",
       "      <td>1757</td>\n",
       "      <td>...</td>\n",
       "      <td>215</td>\n",
       "      <td>1</td>\n",
       "      <td>0</td>\n",
       "      <td>0</td>\n",
       "      <td>0</td>\n",
       "      <td>0</td>\n",
       "      <td>0</td>\n",
       "      <td>0</td>\n",
       "      <td>0</td>\n",
       "      <td>20221003</td>\n",
       "    </tr>\n",
       "    <tr>\n",
       "      <th>614</th>\n",
       "      <td>202209</td>\n",
       "      <td>중앙선</td>\n",
       "      <td>회기</td>\n",
       "      <td>995</td>\n",
       "      <td>4</td>\n",
       "      <td>12093</td>\n",
       "      <td>3715</td>\n",
       "      <td>20928</td>\n",
       "      <td>13575</td>\n",
       "      <td>55857</td>\n",
       "      <td>...</td>\n",
       "      <td>29556</td>\n",
       "      <td>608</td>\n",
       "      <td>5528</td>\n",
       "      <td>0</td>\n",
       "      <td>21</td>\n",
       "      <td>0</td>\n",
       "      <td>0</td>\n",
       "      <td>0</td>\n",
       "      <td>0</td>\n",
       "      <td>20221003</td>\n",
       "    </tr>\n",
       "  </tbody>\n",
       "</table>\n",
       "<p>615 rows × 52 columns</p>\n",
       "</div>"
      ],
      "text/plain": [
       "        사용월  호선명 지하철역  04시-05시 승차인원  04시-05시 하차인원  05시-06시 승차인원  05시-06시 하차인원  \\\n",
       "0    202209  1호선  동대문           692            10         10195          1888   \n",
       "1    202209  1호선  동묘앞           163             2          2756          1026   \n",
       "2    202209  1호선  서울역           588            19          8568          8043   \n",
       "3    202209  1호선   시청            50             0          2005          4701   \n",
       "4    202209  1호선  신설동           341            11          8420          2040   \n",
       "..      ...  ...  ...           ...           ...           ...           ...   \n",
       "610  202209  중앙선   원덕           111            15           426             4   \n",
       "611  202209  중앙선   중랑           185             7          6218           541   \n",
       "612  202209  중앙선   지평             0             0             0             0   \n",
       "613  202209  중앙선   팔당             0             0           278           157   \n",
       "614  202209  중앙선   회기           995             4         12093          3715   \n",
       "\n",
       "     06시-07시 승차인원  06시-07시 하차인원  07시-08시 승차인원  ...  23시-24시 하차인원  \\\n",
       "0            8595          6719         14334  ...          8085   \n",
       "1            3560          4309          5923  ...          3494   \n",
       "2           12144         45586         40540  ...         14330   \n",
       "3            3277         22957          6771  ...          2937   \n",
       "4            8739          8233         19746  ...          8004   \n",
       "..            ...           ...           ...  ...           ...   \n",
       "610           690           238           744  ...           286   \n",
       "611          9442          2046         22556  ...          4812   \n",
       "612             4             0           394  ...             0   \n",
       "613           802           924          1757  ...           215   \n",
       "614         20928         13575         55857  ...         29556   \n",
       "\n",
       "     00시-01시 승차인원  00시-01시 하차인원  01시-02시 승차인원  01시-02시 하차인원  02시-03시 승차인원  \\\n",
       "0             418          1956            21           161             0   \n",
       "1             122          1490             1           307             0   \n",
       "2            2730          2584            32           267             0   \n",
       "3             359           775             1            14             0   \n",
       "4             368          1909             5            21             0   \n",
       "..            ...           ...           ...           ...           ...   \n",
       "610             1            76             0             0             0   \n",
       "611            27           411             0             1             0   \n",
       "612             0             0             0             0             0   \n",
       "613             1             0             0             0             0   \n",
       "614           608          5528             0            21             0   \n",
       "\n",
       "     02시-03시 하차인원  03시-04시 승차인원  03시-04시 하차인원      작업일자  \n",
       "0               4             0             0  20221003  \n",
       "1               1             0             0  20221003  \n",
       "2               5             0             0  20221003  \n",
       "3               0             0             0  20221003  \n",
       "4               0             0             0  20221003  \n",
       "..            ...           ...           ...       ...  \n",
       "610             0             0             0  20221003  \n",
       "611             0             0             0  20221003  \n",
       "612             0             0             0  20221003  \n",
       "613             0             0             0  20221003  \n",
       "614             0             0             0  20221003  \n",
       "\n",
       "[615 rows x 52 columns]"
      ]
     },
     "execution_count": 169,
     "metadata": {},
     "output_type": "execute_result"
    }
   ],
   "source": [
    "# example\n",
    "import numpy as np\n",
    "subway = pd.read_csv('서울지하철.csv', encoding='cp949')\n",
    "subway"
   ]
  },
  {
   "cell_type": "code",
   "execution_count": 170,
   "id": "35a090b4",
   "metadata": {},
   "outputs": [
    {
     "name": "stdout",
     "output_type": "stream",
     "text": [
      "<class 'pandas.core.frame.DataFrame'>\n",
      "RangeIndex: 615 entries, 0 to 614\n",
      "Data columns (total 52 columns):\n",
      " #   Column        Non-Null Count  Dtype \n",
      "---  ------        --------------  ----- \n",
      " 0   사용월           615 non-null    int64 \n",
      " 1   호선명           615 non-null    object\n",
      " 2   지하철역          615 non-null    object\n",
      " 3   04시-05시 승차인원  615 non-null    int64 \n",
      " 4   04시-05시 하차인원  615 non-null    int64 \n",
      " 5   05시-06시 승차인원  615 non-null    int64 \n",
      " 6   05시-06시 하차인원  615 non-null    int64 \n",
      " 7   06시-07시 승차인원  615 non-null    int64 \n",
      " 8   06시-07시 하차인원  615 non-null    int64 \n",
      " 9   07시-08시 승차인원  615 non-null    int64 \n",
      " 10  07시-08시 하차인원  615 non-null    int64 \n",
      " 11  08시-09시 승차인원  615 non-null    int64 \n",
      " 12  08시-09시 하차인원  615 non-null    int64 \n",
      " 13  09시-10시 승차인원  615 non-null    int64 \n",
      " 14  09시-10시 하차인원  615 non-null    int64 \n",
      " 15  10시-11시 승차인원  615 non-null    int64 \n",
      " 16  10시-11시 하차인원  615 non-null    int64 \n",
      " 17  11시-12시 승차인원  615 non-null    int64 \n",
      " 18  11시-12시 하차인원  615 non-null    int64 \n",
      " 19  12시-13시 승차인원  615 non-null    int64 \n",
      " 20  12시-13시 하차인원  615 non-null    int64 \n",
      " 21  13시-14시 승차인원  615 non-null    int64 \n",
      " 22  13시-14시 하차인원  615 non-null    int64 \n",
      " 23  14시-15시 승차인원  615 non-null    int64 \n",
      " 24  14시-15시 하차인원  615 non-null    int64 \n",
      " 25  15시-16시 승차인원  615 non-null    int64 \n",
      " 26  15시-16시 하차인원  615 non-null    int64 \n",
      " 27  16시-17시 승차인원  615 non-null    int64 \n",
      " 28  16시-17시 하차인원  615 non-null    int64 \n",
      " 29  17시-18시 승차인원  615 non-null    int64 \n",
      " 30  17시-18시 하차인원  615 non-null    int64 \n",
      " 31  18시-19시 승차인원  615 non-null    int64 \n",
      " 32  18시-19시 하차인원  615 non-null    int64 \n",
      " 33  19시-20시 승차인원  615 non-null    int64 \n",
      " 34  19시-20시 하차인원  615 non-null    int64 \n",
      " 35  20시-21시 승차인원  615 non-null    int64 \n",
      " 36  20시-21시 하차인원  615 non-null    int64 \n",
      " 37  21시-22시 승차인원  615 non-null    int64 \n",
      " 38  21시-22시 하차인원  615 non-null    int64 \n",
      " 39  22시-23시 승차인원  615 non-null    int64 \n",
      " 40  22시-23시 하차인원  615 non-null    int64 \n",
      " 41  23시-24시 승차인원  615 non-null    int64 \n",
      " 42  23시-24시 하차인원  615 non-null    int64 \n",
      " 43  00시-01시 승차인원  615 non-null    int64 \n",
      " 44  00시-01시 하차인원  615 non-null    int64 \n",
      " 45  01시-02시 승차인원  615 non-null    int64 \n",
      " 46  01시-02시 하차인원  615 non-null    int64 \n",
      " 47  02시-03시 승차인원  615 non-null    int64 \n",
      " 48  02시-03시 하차인원  615 non-null    int64 \n",
      " 49  03시-04시 승차인원  615 non-null    int64 \n",
      " 50  03시-04시 하차인원  615 non-null    int64 \n",
      " 51  작업일자          615 non-null    int64 \n",
      "dtypes: int64(50), object(2)\n",
      "memory usage: 250.0+ KB\n"
     ]
    }
   ],
   "source": [
    "subway.info()"
   ]
  },
  {
   "cell_type": "code",
   "execution_count": 171,
   "id": "bd31cdbe",
   "metadata": {},
   "outputs": [
    {
     "data": {
      "text/plain": [
       "0      10887\n",
       "1       2919\n",
       "2       9156\n",
       "3       2055\n",
       "4       8761\n",
       "       ...  \n",
       "610      537\n",
       "611     6403\n",
       "612        0\n",
       "613      278\n",
       "614    13088\n",
       "Length: 615, dtype: int64"
      ]
     },
     "execution_count": 171,
     "metadata": {},
     "output_type": "execute_result"
    }
   ],
   "source": [
    "subway[['04시-05시 승차인원','05시-06시 승차인원']].sum(axis=1)"
   ]
  },
  {
   "cell_type": "code",
   "execution_count": 185,
   "id": "f1d41190",
   "metadata": {},
   "outputs": [
    {
     "data": {
      "text/plain": [
       "0      10887\n",
       "1       2919\n",
       "2       9156\n",
       "3       2055\n",
       "4       8761\n",
       "       ...  \n",
       "610      537\n",
       "611     6403\n",
       "612        0\n",
       "613      278\n",
       "614    13088\n",
       "Length: 615, dtype: int64"
      ]
     },
     "execution_count": 185,
     "metadata": {},
     "output_type": "execute_result"
    }
   ],
   "source": [
    "subway.iloc[:,[3,5]].sum(axis=1)"
   ]
  },
  {
   "cell_type": "code",
   "execution_count": 172,
   "id": "54db1f43",
   "metadata": {},
   "outputs": [],
   "source": [
    "subway['출근승차'] = subway['04시-05시 승차인원'] + subway['05시-06시 승차인원']\n",
    "subway['출근하차'] = subway['04시-05시 하차인원'] + subway['05시-06시 하차인원']\n",
    "subway['퇴근승차'] = subway['18시-19시 승차인원'] + subway['19시-20시 승차인원']\n",
    "subway['퇴근하차'] = subway['18시-19시 하차인원'] + subway['19시-20시 하차인원']"
   ]
  },
  {
   "cell_type": "code",
   "execution_count": 173,
   "id": "bdb0f74a",
   "metadata": {},
   "outputs": [
    {
     "data": {
      "text/html": [
       "<div>\n",
       "<style scoped>\n",
       "    .dataframe tbody tr th:only-of-type {\n",
       "        vertical-align: middle;\n",
       "    }\n",
       "\n",
       "    .dataframe tbody tr th {\n",
       "        vertical-align: top;\n",
       "    }\n",
       "\n",
       "    .dataframe thead th {\n",
       "        text-align: right;\n",
       "    }\n",
       "</style>\n",
       "<table border=\"1\" class=\"dataframe\">\n",
       "  <thead>\n",
       "    <tr style=\"text-align: right;\">\n",
       "      <th></th>\n",
       "      <th>사용월</th>\n",
       "      <th>호선명</th>\n",
       "      <th>지하철역</th>\n",
       "      <th>04시-05시 승차인원</th>\n",
       "      <th>04시-05시 하차인원</th>\n",
       "      <th>05시-06시 승차인원</th>\n",
       "      <th>05시-06시 하차인원</th>\n",
       "      <th>06시-07시 승차인원</th>\n",
       "      <th>06시-07시 하차인원</th>\n",
       "      <th>07시-08시 승차인원</th>\n",
       "      <th>...</th>\n",
       "      <th>01시-02시 하차인원</th>\n",
       "      <th>02시-03시 승차인원</th>\n",
       "      <th>02시-03시 하차인원</th>\n",
       "      <th>03시-04시 승차인원</th>\n",
       "      <th>03시-04시 하차인원</th>\n",
       "      <th>작업일자</th>\n",
       "      <th>출근승차</th>\n",
       "      <th>출근하차</th>\n",
       "      <th>퇴근승차</th>\n",
       "      <th>퇴근하차</th>\n",
       "    </tr>\n",
       "  </thead>\n",
       "  <tbody>\n",
       "    <tr>\n",
       "      <th>0</th>\n",
       "      <td>202209</td>\n",
       "      <td>1호선</td>\n",
       "      <td>동대문</td>\n",
       "      <td>692</td>\n",
       "      <td>10</td>\n",
       "      <td>10195</td>\n",
       "      <td>1888</td>\n",
       "      <td>8595</td>\n",
       "      <td>6719</td>\n",
       "      <td>14334</td>\n",
       "      <td>...</td>\n",
       "      <td>161</td>\n",
       "      <td>0</td>\n",
       "      <td>4</td>\n",
       "      <td>0</td>\n",
       "      <td>0</td>\n",
       "      <td>20221003</td>\n",
       "      <td>10887</td>\n",
       "      <td>1898</td>\n",
       "      <td>40425</td>\n",
       "      <td>38880</td>\n",
       "    </tr>\n",
       "    <tr>\n",
       "      <th>1</th>\n",
       "      <td>202209</td>\n",
       "      <td>1호선</td>\n",
       "      <td>동묘앞</td>\n",
       "      <td>163</td>\n",
       "      <td>2</td>\n",
       "      <td>2756</td>\n",
       "      <td>1026</td>\n",
       "      <td>3560</td>\n",
       "      <td>4309</td>\n",
       "      <td>5923</td>\n",
       "      <td>...</td>\n",
       "      <td>307</td>\n",
       "      <td>0</td>\n",
       "      <td>1</td>\n",
       "      <td>0</td>\n",
       "      <td>0</td>\n",
       "      <td>20221003</td>\n",
       "      <td>2919</td>\n",
       "      <td>1028</td>\n",
       "      <td>31096</td>\n",
       "      <td>17255</td>\n",
       "    </tr>\n",
       "    <tr>\n",
       "      <th>2</th>\n",
       "      <td>202209</td>\n",
       "      <td>1호선</td>\n",
       "      <td>서울역</td>\n",
       "      <td>588</td>\n",
       "      <td>19</td>\n",
       "      <td>8568</td>\n",
       "      <td>8043</td>\n",
       "      <td>12144</td>\n",
       "      <td>45586</td>\n",
       "      <td>40540</td>\n",
       "      <td>...</td>\n",
       "      <td>267</td>\n",
       "      <td>0</td>\n",
       "      <td>5</td>\n",
       "      <td>0</td>\n",
       "      <td>0</td>\n",
       "      <td>20221003</td>\n",
       "      <td>9156</td>\n",
       "      <td>8062</td>\n",
       "      <td>292299</td>\n",
       "      <td>148036</td>\n",
       "    </tr>\n",
       "    <tr>\n",
       "      <th>3</th>\n",
       "      <td>202209</td>\n",
       "      <td>1호선</td>\n",
       "      <td>시청</td>\n",
       "      <td>50</td>\n",
       "      <td>0</td>\n",
       "      <td>2005</td>\n",
       "      <td>4701</td>\n",
       "      <td>3277</td>\n",
       "      <td>22957</td>\n",
       "      <td>6771</td>\n",
       "      <td>...</td>\n",
       "      <td>14</td>\n",
       "      <td>0</td>\n",
       "      <td>0</td>\n",
       "      <td>0</td>\n",
       "      <td>0</td>\n",
       "      <td>20221003</td>\n",
       "      <td>2055</td>\n",
       "      <td>4701</td>\n",
       "      <td>200819</td>\n",
       "      <td>33841</td>\n",
       "    </tr>\n",
       "    <tr>\n",
       "      <th>4</th>\n",
       "      <td>202209</td>\n",
       "      <td>1호선</td>\n",
       "      <td>신설동</td>\n",
       "      <td>341</td>\n",
       "      <td>11</td>\n",
       "      <td>8420</td>\n",
       "      <td>2040</td>\n",
       "      <td>8739</td>\n",
       "      <td>8233</td>\n",
       "      <td>19746</td>\n",
       "      <td>...</td>\n",
       "      <td>21</td>\n",
       "      <td>0</td>\n",
       "      <td>0</td>\n",
       "      <td>0</td>\n",
       "      <td>0</td>\n",
       "      <td>20221003</td>\n",
       "      <td>8761</td>\n",
       "      <td>2051</td>\n",
       "      <td>68657</td>\n",
       "      <td>46376</td>\n",
       "    </tr>\n",
       "    <tr>\n",
       "      <th>...</th>\n",
       "      <td>...</td>\n",
       "      <td>...</td>\n",
       "      <td>...</td>\n",
       "      <td>...</td>\n",
       "      <td>...</td>\n",
       "      <td>...</td>\n",
       "      <td>...</td>\n",
       "      <td>...</td>\n",
       "      <td>...</td>\n",
       "      <td>...</td>\n",
       "      <td>...</td>\n",
       "      <td>...</td>\n",
       "      <td>...</td>\n",
       "      <td>...</td>\n",
       "      <td>...</td>\n",
       "      <td>...</td>\n",
       "      <td>...</td>\n",
       "      <td>...</td>\n",
       "      <td>...</td>\n",
       "      <td>...</td>\n",
       "      <td>...</td>\n",
       "    </tr>\n",
       "    <tr>\n",
       "      <th>610</th>\n",
       "      <td>202209</td>\n",
       "      <td>중앙선</td>\n",
       "      <td>원덕</td>\n",
       "      <td>111</td>\n",
       "      <td>15</td>\n",
       "      <td>426</td>\n",
       "      <td>4</td>\n",
       "      <td>690</td>\n",
       "      <td>238</td>\n",
       "      <td>744</td>\n",
       "      <td>...</td>\n",
       "      <td>0</td>\n",
       "      <td>0</td>\n",
       "      <td>0</td>\n",
       "      <td>0</td>\n",
       "      <td>0</td>\n",
       "      <td>20221003</td>\n",
       "      <td>537</td>\n",
       "      <td>19</td>\n",
       "      <td>1102</td>\n",
       "      <td>1535</td>\n",
       "    </tr>\n",
       "    <tr>\n",
       "      <th>611</th>\n",
       "      <td>202209</td>\n",
       "      <td>중앙선</td>\n",
       "      <td>중랑</td>\n",
       "      <td>185</td>\n",
       "      <td>7</td>\n",
       "      <td>6218</td>\n",
       "      <td>541</td>\n",
       "      <td>9442</td>\n",
       "      <td>2046</td>\n",
       "      <td>22556</td>\n",
       "      <td>...</td>\n",
       "      <td>1</td>\n",
       "      <td>0</td>\n",
       "      <td>0</td>\n",
       "      <td>0</td>\n",
       "      <td>0</td>\n",
       "      <td>20221003</td>\n",
       "      <td>6403</td>\n",
       "      <td>548</td>\n",
       "      <td>12731</td>\n",
       "      <td>37486</td>\n",
       "    </tr>\n",
       "    <tr>\n",
       "      <th>612</th>\n",
       "      <td>202209</td>\n",
       "      <td>중앙선</td>\n",
       "      <td>지평</td>\n",
       "      <td>0</td>\n",
       "      <td>0</td>\n",
       "      <td>0</td>\n",
       "      <td>0</td>\n",
       "      <td>4</td>\n",
       "      <td>0</td>\n",
       "      <td>394</td>\n",
       "      <td>...</td>\n",
       "      <td>0</td>\n",
       "      <td>0</td>\n",
       "      <td>0</td>\n",
       "      <td>0</td>\n",
       "      <td>0</td>\n",
       "      <td>20221003</td>\n",
       "      <td>0</td>\n",
       "      <td>0</td>\n",
       "      <td>244</td>\n",
       "      <td>387</td>\n",
       "    </tr>\n",
       "    <tr>\n",
       "      <th>613</th>\n",
       "      <td>202209</td>\n",
       "      <td>중앙선</td>\n",
       "      <td>팔당</td>\n",
       "      <td>0</td>\n",
       "      <td>0</td>\n",
       "      <td>278</td>\n",
       "      <td>157</td>\n",
       "      <td>802</td>\n",
       "      <td>924</td>\n",
       "      <td>1757</td>\n",
       "      <td>...</td>\n",
       "      <td>0</td>\n",
       "      <td>0</td>\n",
       "      <td>0</td>\n",
       "      <td>0</td>\n",
       "      <td>0</td>\n",
       "      <td>20221003</td>\n",
       "      <td>278</td>\n",
       "      <td>157</td>\n",
       "      <td>5302</td>\n",
       "      <td>3214</td>\n",
       "    </tr>\n",
       "    <tr>\n",
       "      <th>614</th>\n",
       "      <td>202209</td>\n",
       "      <td>중앙선</td>\n",
       "      <td>회기</td>\n",
       "      <td>995</td>\n",
       "      <td>4</td>\n",
       "      <td>12093</td>\n",
       "      <td>3715</td>\n",
       "      <td>20928</td>\n",
       "      <td>13575</td>\n",
       "      <td>55857</td>\n",
       "      <td>...</td>\n",
       "      <td>21</td>\n",
       "      <td>0</td>\n",
       "      <td>0</td>\n",
       "      <td>0</td>\n",
       "      <td>0</td>\n",
       "      <td>20221003</td>\n",
       "      <td>13088</td>\n",
       "      <td>3719</td>\n",
       "      <td>92683</td>\n",
       "      <td>142102</td>\n",
       "    </tr>\n",
       "  </tbody>\n",
       "</table>\n",
       "<p>615 rows × 56 columns</p>\n",
       "</div>"
      ],
      "text/plain": [
       "        사용월  호선명 지하철역  04시-05시 승차인원  04시-05시 하차인원  05시-06시 승차인원  05시-06시 하차인원  \\\n",
       "0    202209  1호선  동대문           692            10         10195          1888   \n",
       "1    202209  1호선  동묘앞           163             2          2756          1026   \n",
       "2    202209  1호선  서울역           588            19          8568          8043   \n",
       "3    202209  1호선   시청            50             0          2005          4701   \n",
       "4    202209  1호선  신설동           341            11          8420          2040   \n",
       "..      ...  ...  ...           ...           ...           ...           ...   \n",
       "610  202209  중앙선   원덕           111            15           426             4   \n",
       "611  202209  중앙선   중랑           185             7          6218           541   \n",
       "612  202209  중앙선   지평             0             0             0             0   \n",
       "613  202209  중앙선   팔당             0             0           278           157   \n",
       "614  202209  중앙선   회기           995             4         12093          3715   \n",
       "\n",
       "     06시-07시 승차인원  06시-07시 하차인원  07시-08시 승차인원  ...  01시-02시 하차인원  \\\n",
       "0            8595          6719         14334  ...           161   \n",
       "1            3560          4309          5923  ...           307   \n",
       "2           12144         45586         40540  ...           267   \n",
       "3            3277         22957          6771  ...            14   \n",
       "4            8739          8233         19746  ...            21   \n",
       "..            ...           ...           ...  ...           ...   \n",
       "610           690           238           744  ...             0   \n",
       "611          9442          2046         22556  ...             1   \n",
       "612             4             0           394  ...             0   \n",
       "613           802           924          1757  ...             0   \n",
       "614         20928         13575         55857  ...            21   \n",
       "\n",
       "     02시-03시 승차인원  02시-03시 하차인원  03시-04시 승차인원  03시-04시 하차인원      작업일자   출근승차  \\\n",
       "0               0             4             0             0  20221003  10887   \n",
       "1               0             1             0             0  20221003   2919   \n",
       "2               0             5             0             0  20221003   9156   \n",
       "3               0             0             0             0  20221003   2055   \n",
       "4               0             0             0             0  20221003   8761   \n",
       "..            ...           ...           ...           ...       ...    ...   \n",
       "610             0             0             0             0  20221003    537   \n",
       "611             0             0             0             0  20221003   6403   \n",
       "612             0             0             0             0  20221003      0   \n",
       "613             0             0             0             0  20221003    278   \n",
       "614             0             0             0             0  20221003  13088   \n",
       "\n",
       "     출근하차    퇴근승차    퇴근하차  \n",
       "0    1898   40425   38880  \n",
       "1    1028   31096   17255  \n",
       "2    8062  292299  148036  \n",
       "3    4701  200819   33841  \n",
       "4    2051   68657   46376  \n",
       "..    ...     ...     ...  \n",
       "610    19    1102    1535  \n",
       "611   548   12731   37486  \n",
       "612     0     244     387  \n",
       "613   157    5302    3214  \n",
       "614  3719   92683  142102  \n",
       "\n",
       "[615 rows x 56 columns]"
      ]
     },
     "execution_count": 173,
     "metadata": {},
     "output_type": "execute_result"
    }
   ],
   "source": [
    "subway"
   ]
  },
  {
   "cell_type": "code",
   "execution_count": 174,
   "id": "21f5c928",
   "metadata": {},
   "outputs": [],
   "source": [
    "data = subway[['출근승차','출근하차','퇴근승차','퇴근하차']]"
   ]
  },
  {
   "cell_type": "code",
   "execution_count": 175,
   "id": "f500bd7e",
   "metadata": {},
   "outputs": [
    {
     "data": {
      "text/html": [
       "<div>\n",
       "<style scoped>\n",
       "    .dataframe tbody tr th:only-of-type {\n",
       "        vertical-align: middle;\n",
       "    }\n",
       "\n",
       "    .dataframe tbody tr th {\n",
       "        vertical-align: top;\n",
       "    }\n",
       "\n",
       "    .dataframe thead th {\n",
       "        text-align: right;\n",
       "    }\n",
       "</style>\n",
       "<table border=\"1\" class=\"dataframe\">\n",
       "  <thead>\n",
       "    <tr style=\"text-align: right;\">\n",
       "      <th></th>\n",
       "      <th>출근승차</th>\n",
       "      <th>출근하차</th>\n",
       "      <th>퇴근승차</th>\n",
       "      <th>퇴근하차</th>\n",
       "    </tr>\n",
       "  </thead>\n",
       "  <tbody>\n",
       "    <tr>\n",
       "      <th>0</th>\n",
       "      <td>10887</td>\n",
       "      <td>1898</td>\n",
       "      <td>40425</td>\n",
       "      <td>38880</td>\n",
       "    </tr>\n",
       "    <tr>\n",
       "      <th>1</th>\n",
       "      <td>2919</td>\n",
       "      <td>1028</td>\n",
       "      <td>31096</td>\n",
       "      <td>17255</td>\n",
       "    </tr>\n",
       "    <tr>\n",
       "      <th>2</th>\n",
       "      <td>9156</td>\n",
       "      <td>8062</td>\n",
       "      <td>292299</td>\n",
       "      <td>148036</td>\n",
       "    </tr>\n",
       "    <tr>\n",
       "      <th>3</th>\n",
       "      <td>2055</td>\n",
       "      <td>4701</td>\n",
       "      <td>200819</td>\n",
       "      <td>33841</td>\n",
       "    </tr>\n",
       "    <tr>\n",
       "      <th>4</th>\n",
       "      <td>8761</td>\n",
       "      <td>2051</td>\n",
       "      <td>68657</td>\n",
       "      <td>46376</td>\n",
       "    </tr>\n",
       "    <tr>\n",
       "      <th>...</th>\n",
       "      <td>...</td>\n",
       "      <td>...</td>\n",
       "      <td>...</td>\n",
       "      <td>...</td>\n",
       "    </tr>\n",
       "    <tr>\n",
       "      <th>610</th>\n",
       "      <td>537</td>\n",
       "      <td>19</td>\n",
       "      <td>1102</td>\n",
       "      <td>1535</td>\n",
       "    </tr>\n",
       "    <tr>\n",
       "      <th>611</th>\n",
       "      <td>6403</td>\n",
       "      <td>548</td>\n",
       "      <td>12731</td>\n",
       "      <td>37486</td>\n",
       "    </tr>\n",
       "    <tr>\n",
       "      <th>612</th>\n",
       "      <td>0</td>\n",
       "      <td>0</td>\n",
       "      <td>244</td>\n",
       "      <td>387</td>\n",
       "    </tr>\n",
       "    <tr>\n",
       "      <th>613</th>\n",
       "      <td>278</td>\n",
       "      <td>157</td>\n",
       "      <td>5302</td>\n",
       "      <td>3214</td>\n",
       "    </tr>\n",
       "    <tr>\n",
       "      <th>614</th>\n",
       "      <td>13088</td>\n",
       "      <td>3719</td>\n",
       "      <td>92683</td>\n",
       "      <td>142102</td>\n",
       "    </tr>\n",
       "  </tbody>\n",
       "</table>\n",
       "<p>615 rows × 4 columns</p>\n",
       "</div>"
      ],
      "text/plain": [
       "      출근승차  출근하차    퇴근승차    퇴근하차\n",
       "0    10887  1898   40425   38880\n",
       "1     2919  1028   31096   17255\n",
       "2     9156  8062  292299  148036\n",
       "3     2055  4701  200819   33841\n",
       "4     8761  2051   68657   46376\n",
       "..     ...   ...     ...     ...\n",
       "610    537    19    1102    1535\n",
       "611   6403   548   12731   37486\n",
       "612      0     0     244     387\n",
       "613    278   157    5302    3214\n",
       "614  13088  3719   92683  142102\n",
       "\n",
       "[615 rows x 4 columns]"
      ]
     },
     "execution_count": 175,
     "metadata": {},
     "output_type": "execute_result"
    }
   ],
   "source": [
    "data"
   ]
  },
  {
   "cell_type": "code",
   "execution_count": 176,
   "id": "7dbb496a",
   "metadata": {},
   "outputs": [
    {
     "data": {
      "text/plain": [
       "array([[2.02000000e+02, 2.37000000e+02, 0.00000000e+00, 2.00000000e+00],\n",
       "       [4.00000000e+02, 6.15000000e+02, 0.00000000e+00, 3.00000000e+00],\n",
       "       [5.00000000e+02, 6.16000000e+02, 0.00000000e+00, 4.00000000e+00],\n",
       "       ...,\n",
       "       [1.22200000e+03, 1.22400000e+03, 3.74134734e+05, 2.90000000e+01],\n",
       "       [1.22100000e+03, 1.22500000e+03, 4.28864129e+05, 5.86000000e+02],\n",
       "       [1.22600000e+03, 1.22700000e+03, 5.59162818e+05, 6.15000000e+02]])"
      ]
     },
     "execution_count": 176,
     "metadata": {},
     "output_type": "execute_result"
    }
   ],
   "source": [
    "from scipy.cluster.hierarchy import linkage\n",
    "clusters = linkage(y=data, method='complete', metric='euclidean') # complete\n",
    "clusters"
   ]
  },
  {
   "cell_type": "code",
   "execution_count": 177,
   "id": "b115a238",
   "metadata": {},
   "outputs": [
    {
     "data": {
      "image/png": "[encoded data removed]",
      "text/plain": [
       "<Figure size 1000x600 with 1 Axes>"
      ]
     },
     "metadata": {},
     "output_type": "display_data"
    }
   ],
   "source": [
    "from scipy.cluster.hierarchy import dendrogram\n",
    "import matplotlib.pyplot as plt\n",
    "plt.figure(figsize=(10, 6)) # 그림 크기 조절\n",
    "dendrogram(clusters, leaf_rotation=90, leaf_font_size=10)\n",
    "plt.tight_layout()\n",
    "plt.ylabel('Euclidean distance')\n",
    "plt.show()"
   ]
  },
  {
   "cell_type": "code",
   "execution_count": 178,
   "id": "bfa45e5d",
   "metadata": {},
   "outputs": [
    {
     "data": {
      "text/plain": [
       "array([2, 2, 1, 1, 2, 2, 1, 2, 2, 2, 1, 3, 3, 1, 1, 3, 3, 3, 3, 2, 2, 2,\n",
       "       2, 2, 3, 3, 1, 2, 3, 2, 1, 1, 1, 2, 2, 3, 3, 3, 2, 2, 3, 2, 2, 1,\n",
       "       2, 2, 2, 2, 2, 2, 1, 2, 1, 2, 3, 2, 2, 2, 3, 1, 2, 2, 2, 1, 2, 2,\n",
       "       2, 1, 2, 2, 2, 2, 2, 2, 2, 2, 2, 2, 1, 2, 1, 2, 1, 3, 2, 2, 2, 2,\n",
       "       2, 2, 2, 2, 2, 2, 3, 2, 3, 2, 2, 2, 2, 2, 2, 3, 3, 2, 2, 2, 3, 3,\n",
       "       2, 2, 3, 2, 3, 3, 1, 2, 1, 2, 2, 2, 2, 2, 2, 2, 2, 2, 1, 2, 2, 2,\n",
       "       2, 3, 2, 2, 2, 2, 2, 2, 2, 2, 2, 2, 2, 2, 2, 2, 2, 2, 2, 2, 2, 2,\n",
       "       2, 2, 2, 1, 2, 2, 2, 3, 2, 2, 2, 2, 3, 2, 2, 2, 2, 2, 2, 2, 2, 3,\n",
       "       2, 2, 2, 2, 2, 2, 2, 2, 2, 2, 2, 2, 2, 2, 2, 2, 2, 2, 2, 2, 2, 2,\n",
       "       2, 2, 2, 2, 2, 2, 2, 2, 2, 2, 2, 2, 2, 2, 2, 2, 2, 1, 2, 2, 2, 2,\n",
       "       3, 2, 2, 2, 2, 2, 2, 3, 2, 2, 2, 2, 2, 2, 2, 2, 2, 2, 2, 2, 2, 2,\n",
       "       2, 2, 2, 2, 2, 2, 2, 2, 2, 2, 2, 2, 2, 2, 3, 2, 2, 2, 1, 2, 2, 2,\n",
       "       2, 2, 2, 2, 2, 2, 2, 2, 2, 2, 2, 2, 2, 2, 2, 3, 2, 2, 2, 2, 2, 2,\n",
       "       2, 3, 3, 2, 2, 2, 2, 2, 2, 1, 2, 2, 2, 2, 1, 2, 2, 2, 2, 2, 2, 2,\n",
       "       2, 2, 2, 2, 2, 2, 2, 2, 2, 2, 2, 2, 2, 2, 2, 2, 2, 2, 2, 2, 2, 2,\n",
       "       2, 2, 2, 3, 2, 2, 2, 2, 2, 2, 2, 2, 2, 2, 2, 2, 2, 2, 2, 2, 2, 2,\n",
       "       3, 2, 2, 3, 1, 2, 2, 1, 2, 2, 2, 2, 2, 2, 2, 2, 2, 2, 2, 2, 2, 2,\n",
       "       2, 2, 2, 2, 2, 2, 2, 2, 2, 2, 2, 2, 2, 2, 2, 2, 3, 2, 2, 2, 2, 2,\n",
       "       2, 2, 2, 2, 2, 2, 2, 2, 2, 2, 2, 2, 2, 2, 2, 2, 2, 2, 2, 2, 2, 2,\n",
       "       2, 2, 2, 2, 2, 2, 2, 2, 3, 2, 2, 2, 2, 2, 2, 2, 3, 3, 2, 3, 3, 2,\n",
       "       2, 2, 2, 2, 2, 2, 2, 2, 2, 2, 2, 2, 2, 2, 2, 2, 2, 2, 2, 2, 2, 2,\n",
       "       2, 2, 2, 2, 2, 2, 2, 2, 2, 2, 2, 2, 2, 2, 2, 2, 2, 2, 2, 3, 2, 3,\n",
       "       2, 2, 2, 2, 2, 2, 2, 2, 2, 2, 2, 2, 2, 2, 2, 2, 2, 2, 2, 3, 2, 2,\n",
       "       2, 2, 2, 2, 2, 2, 3, 2, 2, 2, 2, 2, 2, 2, 2, 2, 2, 2, 2, 2, 2, 2,\n",
       "       2, 2, 2, 2, 2, 2, 2, 2, 2, 2, 2, 2, 2, 2, 2, 2, 2, 2, 2, 2, 2, 2,\n",
       "       2, 2, 2, 2, 2, 2, 2, 2, 2, 2, 3, 2, 2, 2, 2, 2, 2, 2, 2, 2, 2, 2,\n",
       "       2, 2, 2, 2, 2, 2, 2, 2, 2, 2, 2, 2, 2, 2, 2, 2, 2, 2, 2, 2, 2, 2,\n",
       "       2, 2, 2, 2, 2, 2, 2, 2, 2, 2, 2, 2, 2, 2, 2, 2, 2, 2, 2, 2, 3],\n",
       "      dtype=int32)"
      ]
     },
     "execution_count": 178,
     "metadata": {},
     "output_type": "execute_result"
    }
   ],
   "source": [
    "from scipy.cluster.hierarchy import fcluster\n",
    "cut_tree = fcluster(clusters, t=400000, criterion='distance')\n",
    "cut_tree"
   ]
  },
  {
   "cell_type": "code",
   "execution_count": 182,
   "id": "58f31732",
   "metadata": {},
   "outputs": [
    {
     "name": "stderr",
     "output_type": "stream",
     "text": [
      "C:\\Users\\USER\\anaconda3\\lib\\site-packages\\sklearn\\cluster\\_kmeans.py:870: FutureWarning: The default value of `n_init` will change from 10 to 'auto' in 1.4. Set the value of `n_init` explicitly to suppress the warning\n",
      "  warnings.warn(\n",
      "C:\\Users\\USER\\anaconda3\\lib\\site-packages\\sklearn\\cluster\\_kmeans.py:1382: UserWarning: KMeans is known to have a memory leak on Windows with MKL, when there are less chunks than available threads. You can avoid it by setting the environment variable OMP_NUM_THREADS=3.\n",
      "  warnings.warn(\n"
     ]
    },
    {
     "data": {
      "text/html": [
       "<style>#sk-container-id-7 {color: black;background-color: white;}#sk-container-id-7 pre{padding: 0;}#sk-container-id-7 div.sk-toggleable {background-color: white;}#sk-container-id-7 label.sk-toggleable__label {cursor: pointer;display: block;width: 100%;margin-bottom: 0;padding: 0.3em;box-sizing: border-box;text-align: center;}#sk-container-id-7 label.sk-toggleable__label-arrow:before {content: \"▸\";float: left;margin-right: 0.25em;color: #696969;}#sk-container-id-7 label.sk-toggleable__label-arrow:hover:before {color: black;}#sk-container-id-7 div.sk-estimator:hover label.sk-toggleable__label-arrow:before {color: black;}#sk-container-id-7 div.sk-toggleable__content {max-height: 0;max-width: 0;overflow: hidden;text-align: left;background-color: #f0f8ff;}#sk-container-id-7 div.sk-toggleable__content pre {margin: 0.2em;color: black;border-radius: 0.25em;background-color: #f0f8ff;}#sk-container-id-7 input.sk-toggleable__control:checked~div.sk-toggleable__content {max-height: 200px;max-width: 100%;overflow: auto;}#sk-container-id-7 input.sk-toggleable__control:checked~label.sk-toggleable__label-arrow:before {content: \"▾\";}#sk-container-id-7 div.sk-estimator input.sk-toggleable__control:checked~label.sk-toggleable__label {background-color: #d4ebff;}#sk-container-id-7 div.sk-label input.sk-toggleable__control:checked~label.sk-toggleable__label {background-color: #d4ebff;}#sk-container-id-7 input.sk-hidden--visually {border: 0;clip: rect(1px 1px 1px 1px);clip: rect(1px, 1px, 1px, 1px);height: 1px;margin: -1px;overflow: hidden;padding: 0;position: absolute;width: 1px;}#sk-container-id-7 div.sk-estimator {font-family: monospace;background-color: #f0f8ff;border: 1px dotted black;border-radius: 0.25em;box-sizing: border-box;margin-bottom: 0.5em;}#sk-container-id-7 div.sk-estimator:hover {background-color: #d4ebff;}#sk-container-id-7 div.sk-parallel-item::after {content: \"\";width: 100%;border-bottom: 1px solid gray;flex-grow: 1;}#sk-container-id-7 div.sk-label:hover label.sk-toggleable__label {background-color: #d4ebff;}#sk-container-id-7 div.sk-serial::before {content: \"\";position: absolute;border-left: 1px solid gray;box-sizing: border-box;top: 0;bottom: 0;left: 50%;z-index: 0;}#sk-container-id-7 div.sk-serial {display: flex;flex-direction: column;align-items: center;background-color: white;padding-right: 0.2em;padding-left: 0.2em;position: relative;}#sk-container-id-7 div.sk-item {position: relative;z-index: 1;}#sk-container-id-7 div.sk-parallel {display: flex;align-items: stretch;justify-content: center;background-color: white;position: relative;}#sk-container-id-7 div.sk-item::before, #sk-container-id-7 div.sk-parallel-item::before {content: \"\";position: absolute;border-left: 1px solid gray;box-sizing: border-box;top: 0;bottom: 0;left: 50%;z-index: -1;}#sk-container-id-7 div.sk-parallel-item {display: flex;flex-direction: column;z-index: 1;position: relative;background-color: white;}#sk-container-id-7 div.sk-parallel-item:first-child::after {align-self: flex-end;width: 50%;}#sk-container-id-7 div.sk-parallel-item:last-child::after {align-self: flex-start;width: 50%;}#sk-container-id-7 div.sk-parallel-item:only-child::after {width: 0;}#sk-container-id-7 div.sk-dashed-wrapped {border: 1px dashed gray;margin: 0 0.4em 0.5em 0.4em;box-sizing: border-box;padding-bottom: 0.4em;background-color: white;}#sk-container-id-7 div.sk-label label {font-family: monospace;font-weight: bold;display: inline-block;line-height: 1.2em;}#sk-container-id-7 div.sk-label-container {text-align: center;}#sk-container-id-7 div.sk-container {/* jupyter's `normalize.less` sets `[hidden] { display: none; }` but bootstrap.min.css set `[hidden] { display: none !important; }` so we also need the `!important` here to be able to override the default hidden behavior on the sphinx rendered scikit-learn.org. See: https://github.com/scikit-learn/scikit-learn/issues/21755 */display: inline-block !important;position: relative;}#sk-container-id-7 div.sk-text-repr-fallback {display: none;}</style><div id=\"sk-container-id-7\" class=\"sk-top-container\"><div class=\"sk-text-repr-fallback\"><pre>KMeans(n_clusters=3, random_state=0)</pre><b>In a Jupyter environment, please rerun this cell to show the HTML representation or trust the notebook. <br />On GitHub, the HTML representation is unable to render, please try loading this page with nbviewer.org.</b></div><div class=\"sk-container\" hidden><div class=\"sk-item\"><div class=\"sk-estimator sk-toggleable\"><input class=\"sk-toggleable__control sk-hidden--visually\" id=\"sk-estimator-id-7\" type=\"checkbox\" checked><label for=\"sk-estimator-id-7\" class=\"sk-toggleable__label sk-toggleable__label-arrow\">KMeans</label><div class=\"sk-toggleable__content\"><pre>KMeans(n_clusters=3, random_state=0)</pre></div></div></div></div></div>"
      ],
      "text/plain": [
       "KMeans(n_clusters=3, random_state=0)"
      ]
     },
     "execution_count": 182,
     "metadata": {},
     "output_type": "execute_result"
    }
   ],
   "source": [
    "from sklearn.cluster import KMeans\n",
    "model = KMeans(n_clusters=3, random_state=0, init='k-means++')\n",
    "model.fit(data)"
   ]
  },
  {
   "cell_type": "code",
   "execution_count": 183,
   "id": "3aec55d6",
   "metadata": {},
   "outputs": [
    {
     "data": {
      "text/plain": [
       "array([[  8775.83529412,   1893.82941176,  74498.27058824,\n",
       "         96850.38823529],\n",
       "       [  9681.81081081,   3968.35135135, 251283.75675676,\n",
       "        156436.72972973],\n",
       "       [  3015.90686275,    728.87745098,  20759.77205882,\n",
       "         28737.44852941]])"
      ]
     },
     "execution_count": 183,
     "metadata": {},
     "output_type": "execute_result"
    }
   ],
   "source": [
    "centers = model.cluster_centers_\n",
    "centers"
   ]
  },
  {
   "cell_type": "code",
   "execution_count": 184,
   "id": "9f8ffdbd",
   "metadata": {},
   "outputs": [
    {
     "data": {
      "text/plain": [
       "array([2, 2, 1, 1, 0, 2, 1, 0, 0, 0, 1, 0, 1, 1, 1, 0, 0, 0, 0, 2, 0, 0,\n",
       "       0, 0, 0, 1, 1, 0, 1, 0, 1, 1, 1, 2, 0, 0, 1, 1, 2, 2, 1, 2, 2, 1,\n",
       "       0, 0, 2, 2, 0, 2, 1, 0, 1, 2, 0, 0, 2, 2, 1, 1, 2, 0, 2, 1, 2, 0,\n",
       "       2, 1, 0, 2, 2, 2, 2, 2, 0, 2, 0, 0, 1, 0, 1, 0, 1, 0, 2, 2, 2, 2,\n",
       "       2, 2, 2, 2, 2, 0, 0, 2, 0, 2, 2, 0, 2, 0, 0, 0, 0, 2, 0, 0, 0, 0,\n",
       "       0, 0, 0, 2, 0, 0, 1, 0, 1, 0, 0, 2, 2, 2, 2, 2, 0, 0, 1, 0, 2, 2,\n",
       "       2, 0, 0, 2, 2, 2, 2, 2, 0, 2, 0, 0, 0, 2, 2, 0, 0, 2, 2, 2, 2, 0,\n",
       "       2, 2, 0, 1, 2, 2, 2, 0, 2, 2, 0, 2, 0, 0, 0, 2, 2, 2, 2, 2, 2, 0,\n",
       "       2, 0, 2, 2, 2, 2, 2, 2, 2, 0, 0, 0, 2, 2, 2, 2, 2, 2, 2, 0, 0, 2,\n",
       "       2, 2, 2, 2, 2, 0, 2, 0, 0, 2, 2, 2, 2, 2, 0, 2, 2, 1, 0, 0, 0, 0,\n",
       "       0, 0, 2, 2, 0, 2, 0, 0, 0, 2, 2, 0, 0, 2, 0, 2, 2, 2, 0, 2, 0, 0,\n",
       "       0, 0, 2, 2, 0, 2, 2, 0, 2, 2, 0, 2, 2, 2, 0, 0, 2, 0, 1, 2, 2, 2,\n",
       "       0, 2, 2, 2, 0, 2, 2, 2, 2, 2, 2, 0, 0, 0, 0, 0, 2, 0, 2, 2, 0, 2,\n",
       "       2, 0, 0, 2, 2, 0, 2, 2, 2, 1, 2, 2, 2, 2, 1, 0, 2, 2, 2, 0, 2, 2,\n",
       "       2, 2, 2, 2, 2, 2, 2, 2, 2, 2, 2, 2, 2, 2, 2, 2, 2, 2, 2, 2, 0, 2,\n",
       "       2, 0, 2, 0, 0, 2, 2, 2, 2, 0, 2, 2, 0, 2, 2, 2, 2, 0, 2, 2, 2, 2,\n",
       "       1, 2, 2, 0, 1, 2, 2, 1, 2, 2, 2, 2, 0, 2, 2, 2, 2, 2, 2, 2, 2, 2,\n",
       "       2, 2, 2, 2, 2, 2, 2, 2, 2, 2, 2, 2, 0, 2, 2, 2, 0, 2, 2, 2, 0, 2,\n",
       "       0, 2, 2, 2, 2, 2, 2, 2, 2, 2, 2, 2, 2, 2, 2, 2, 2, 2, 2, 2, 2, 2,\n",
       "       2, 2, 2, 2, 2, 2, 2, 2, 0, 2, 2, 2, 0, 0, 2, 2, 0, 0, 2, 0, 0, 2,\n",
       "       2, 2, 2, 0, 2, 2, 2, 2, 2, 2, 2, 2, 2, 2, 2, 2, 2, 2, 2, 2, 2, 2,\n",
       "       2, 2, 2, 0, 2, 2, 2, 0, 2, 2, 2, 2, 2, 2, 2, 0, 2, 2, 2, 0, 2, 0,\n",
       "       2, 0, 2, 2, 2, 2, 2, 2, 2, 2, 0, 2, 2, 0, 0, 2, 2, 2, 0, 0, 0, 2,\n",
       "       0, 0, 2, 0, 2, 0, 0, 2, 2, 2, 0, 0, 2, 0, 0, 2, 2, 2, 2, 2, 2, 2,\n",
       "       2, 2, 2, 2, 2, 2, 2, 2, 2, 2, 2, 2, 2, 2, 2, 2, 2, 2, 2, 2, 2, 2,\n",
       "       2, 2, 2, 0, 0, 2, 2, 0, 2, 2, 0, 2, 2, 2, 2, 2, 2, 2, 2, 2, 2, 2,\n",
       "       2, 2, 2, 2, 2, 2, 2, 2, 0, 2, 2, 2, 2, 2, 0, 2, 2, 2, 2, 2, 2, 2,\n",
       "       0, 2, 2, 2, 2, 2, 2, 2, 2, 2, 2, 2, 2, 2, 2, 2, 2, 2, 2, 2, 0])"
      ]
     },
     "execution_count": 184,
     "metadata": {},
     "output_type": "execute_result"
    }
   ],
   "source": [
    "pred = model.predict(data)\n",
    "pred"
   ]
  },
  {
   "cell_type": "code",
   "execution_count": null,
   "id": "5e4dff0d",
   "metadata": {},
   "outputs": [],
   "source": []
  },
  {
   "cell_type": "code",
   "execution_count": null,
   "id": "9f73d1bd",
   "metadata": {},
   "outputs": [],
   "source": []
  },
  {
   "cell_type": "code",
   "execution_count": null,
   "id": "6db3e9fc",
   "metadata": {},
   "outputs": [],
   "source": []
  },
  {
   "cell_type": "code",
   "execution_count": null,
   "id": "ee362e9d",
   "metadata": {},
   "outputs": [],
   "source": []
  },
  {
   "cell_type": "code",
   "execution_count": null,
   "id": "8a9bccbe",
   "metadata": {},
   "outputs": [],
   "source": []
  },
  {
   "cell_type": "code",
   "execution_count": null,
   "id": "0f876d3e",
   "metadata": {},
   "outputs": [],
   "source": []
  },
  {
   "cell_type": "code",
   "execution_count": null,
   "id": "fa4f1fd4",
   "metadata": {},
   "outputs": [],
   "source": []
  },
  {
   "cell_type": "code",
   "execution_count": null,
   "id": "143a6fc9",
   "metadata": {},
   "outputs": [],
   "source": []
  },
  {
   "cell_type": "code",
   "execution_count": null,
   "id": "b755d94b",
   "metadata": {},
   "outputs": [],
   "source": []
  },
  {
   "cell_type": "code",
   "execution_count": null,
   "id": "e1a8d1d0",
   "metadata": {},
   "outputs": [],
   "source": []
  },
  {
   "cell_type": "code",
   "execution_count": null,
   "id": "918ea94d",
   "metadata": {},
   "outputs": [],
   "source": []
  },
  {
   "cell_type": "code",
   "execution_count": null,
   "id": "da70ff4f",
   "metadata": {},
   "outputs": [],
   "source": []
  },
  {
   "cell_type": "code",
   "execution_count": null,
   "id": "6be5d9ac",
   "metadata": {},
   "outputs": [],
   "source": []
  },
  {
   "cell_type": "code",
   "execution_count": null,
   "id": "1a2733a7",
   "metadata": {},
   "outputs": [],
   "source": []
  },
  {
   "cell_type": "code",
   "execution_count": null,
   "id": "819461b3",
   "metadata": {},
   "outputs": [],
   "source": []
  },
  {
   "cell_type": "code",
   "execution_count": null,
   "id": "822c7abd",
   "metadata": {},
   "outputs": [],
   "source": []
  },
  {
   "cell_type": "code",
   "execution_count": null,
   "id": "00b3d6e5",
   "metadata": {},
   "outputs": [],
   "source": []
  },
  {
   "cell_type": "code",
   "execution_count": null,
   "id": "dd727fd5",
   "metadata": {},
   "outputs": [],
   "source": []
  },
  {
   "cell_type": "code",
   "execution_count": null,
   "id": "615d21d1",
   "metadata": {},
   "outputs": [],
   "source": []
  },
  {
   "cell_type": "code",
   "execution_count": null,
   "id": "ecf46d37",
   "metadata": {},
   "outputs": [],
   "source": []
  },
  {
   "cell_type": "code",
   "execution_count": null,
   "id": "5eb465a7",
   "metadata": {},
   "outputs": [],
   "source": []
  },
  {
   "cell_type": "code",
   "execution_count": null,
   "id": "e842e11f",
   "metadata": {},
   "outputs": [],
   "source": []
  },
  {
   "cell_type": "code",
   "execution_count": null,
   "id": "b884b6b2",
   "metadata": {},
   "outputs": [],
   "source": []
  },
  {
   "cell_type": "code",
   "execution_count": null,
   "id": "c6a97df5",
   "metadata": {},
   "outputs": [],
   "source": []
  },
  {
   "cell_type": "code",
   "execution_count": null,
   "id": "e0a552f4",
   "metadata": {},
   "outputs": [],
   "source": []
  },
  {
   "cell_type": "code",
   "execution_count": null,
   "id": "6dd57dbb",
   "metadata": {},
   "outputs": [],
   "source": []
  },
  {
   "cell_type": "code",
   "execution_count": null,
   "id": "c9a1e188",
   "metadata": {},
   "outputs": [],
   "source": []
  },
  {
   "cell_type": "code",
   "execution_count": null,
   "id": "dacba1ec",
   "metadata": {},
   "outputs": [],
   "source": []
  },
  {
   "cell_type": "code",
   "execution_count": null,
   "id": "b7487bfd",
   "metadata": {},
   "outputs": [],
   "source": []
  },
  {
   "cell_type": "code",
   "execution_count": null,
   "id": "f07f20d5",
   "metadata": {},
   "outputs": [],
   "source": []
  },
  {
   "cell_type": "code",
   "execution_count": null,
   "id": "46980533",
   "metadata": {},
   "outputs": [],
   "source": []
  },
  {
   "cell_type": "code",
   "execution_count": null,
   "id": "4a587403",
   "metadata": {},
   "outputs": [],
   "source": []
  },
  {
   "cell_type": "code",
   "execution_count": null,
   "id": "1e55cfdf",
   "metadata": {},
   "outputs": [],
   "source": []
  },
  {
   "cell_type": "code",
   "execution_count": null,
   "id": "38cda79a",
   "metadata": {},
   "outputs": [],
   "source": []
  }
 ],
 "metadata": {
  "kernelspec": {
   "display_name": "Python 3 (ipykernel)",
   "language": "python",
   "name": "python3"
  },
  "language_info": {
   "codemirror_mode": {
    "name": "ipython",
    "version": 3
   },
   "file_extension": ".py",
   "mimetype": "text/x-python",
   "name": "python",
   "nbconvert_exporter": "python",
   "pygments_lexer": "ipython3",
   "version": "3.10.9"
  }
 },
 "nbformat": 4,
 "nbformat_minor": 5
}
