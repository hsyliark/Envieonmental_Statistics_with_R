{
 "cells": [
  {
   "cell_type": "code",
   "execution_count": 8,
   "id": "17eb24fe",
   "metadata": {},
   "outputs": [],
   "source": [
    "import pandas as pd\n",
    "import numpy as np\n",
    "import matplotlib.pyplot as plt"
   ]
  },
  {
   "cell_type": "code",
   "execution_count": 2,
   "id": "aac0b2e5",
   "metadata": {},
   "outputs": [],
   "source": [
    "## Deep Neural Network"
   ]
  },
  {
   "cell_type": "code",
   "execution_count": 5,
   "id": "0d839059",
   "metadata": {},
   "outputs": [],
   "source": [
    "# Loading data\n",
    "SC = pd.read_csv('C:/Users/User/Desktop/seungchon.csv', encoding='cp949')\n",
    "JS = pd.read_csv('C:/Users/User/Desktop/juksan.csv', encoding='cp949')"
   ]
  },
  {
   "cell_type": "code",
   "execution_count": 23,
   "id": "37a7fee7",
   "metadata": {},
   "outputs": [],
   "source": [
    "SC_train = SC.loc[SC['Year']!=2022]\n",
    "SC_test = SC.loc[SC['Year']==2022]\n",
    "SC_train_x = SC_train.iloc[:,5:24].drop(labels=\"Chla\", axis=1)\n",
    "SC_train_y = SC_train.iloc[:,5:24].iloc[:,-7]\n",
    "SC_test_x = SC_test.iloc[:,5:24].drop(labels=\"Chla\", axis=1)\n",
    "SC_test_y = SC_test.iloc[:,5:24].iloc[:,-7]"
   ]
  },
  {
   "cell_type": "code",
   "execution_count": 24,
   "id": "e4f784fa",
   "metadata": {},
   "outputs": [],
   "source": [
    "JS_train = JS.loc[JS['Year']!=2022]\n",
    "JS_test = JS.loc[JS['Year']==2022]\n",
    "JS_train_x = JS_train.iloc[:,5:24].drop(labels=\"Chla\", axis=1)\n",
    "JS_train_y = JS_train.iloc[:,5:24].iloc[:,-7]\n",
    "JS_test_x = JS_test.iloc[:,5:24].drop(labels=\"Chla\", axis=1)\n",
    "JS_test_y = JS_test.iloc[:,5:24].iloc[:,-7]"
   ]
  },
  {
   "cell_type": "code",
   "execution_count": 1,
   "id": "e13b3dbd",
   "metadata": {},
   "outputs": [
    {
     "name": "stdout",
     "output_type": "stream",
     "text": [
      "Requirement already satisfied: tensorflow in c:\\users\\user\\anaconda3\\lib\\site-packages (2.13.0)\n",
      "Requirement already satisfied: tensorflow-intel==2.13.0 in c:\\users\\user\\anaconda3\\lib\\site-packages (from tensorflow) (2.13.0)\n",
      "Requirement already satisfied: gast<=0.4.0,>=0.2.1 in c:\\users\\user\\anaconda3\\lib\\site-packages (from tensorflow-intel==2.13.0->tensorflow) (0.4.0)\n",
      "Requirement already satisfied: google-pasta>=0.1.1 in c:\\users\\user\\anaconda3\\lib\\site-packages (from tensorflow-intel==2.13.0->tensorflow) (0.2.0)\n",
      "Requirement already satisfied: protobuf!=4.21.0,!=4.21.1,!=4.21.2,!=4.21.3,!=4.21.4,!=4.21.5,<5.0.0dev,>=3.20.3 in c:\\users\\user\\anaconda3\\lib\\site-packages (from tensorflow-intel==2.13.0->tensorflow) (4.24.3)\n",
      "Requirement already satisfied: packaging in c:\\users\\user\\anaconda3\\lib\\site-packages (from tensorflow-intel==2.13.0->tensorflow) (21.3)\n",
      "Requirement already satisfied: termcolor>=1.1.0 in c:\\users\\user\\anaconda3\\lib\\site-packages (from tensorflow-intel==2.13.0->tensorflow) (2.3.0)\n",
      "Requirement already satisfied: keras<2.14,>=2.13.1 in c:\\users\\user\\anaconda3\\lib\\site-packages (from tensorflow-intel==2.13.0->tensorflow) (2.13.1)\n",
      "Requirement already satisfied: numpy<=1.24.3,>=1.22 in c:\\users\\user\\anaconda3\\lib\\site-packages (from tensorflow-intel==2.13.0->tensorflow) (1.24.3)\n",
      "Requirement already satisfied: opt-einsum>=2.3.2 in c:\\users\\user\\anaconda3\\lib\\site-packages (from tensorflow-intel==2.13.0->tensorflow) (3.3.0)\n",
      "Requirement already satisfied: libclang>=13.0.0 in c:\\users\\user\\anaconda3\\lib\\site-packages (from tensorflow-intel==2.13.0->tensorflow) (16.0.6)\n",
      "Requirement already satisfied: grpcio<2.0,>=1.24.3 in c:\\users\\user\\anaconda3\\lib\\site-packages (from tensorflow-intel==2.13.0->tensorflow) (1.58.0)\n",
      "Requirement already satisfied: h5py>=2.9.0 in c:\\users\\user\\anaconda3\\lib\\site-packages (from tensorflow-intel==2.13.0->tensorflow) (3.6.0)\n",
      "Requirement already satisfied: typing-extensions<4.6.0,>=3.6.6 in c:\\users\\user\\anaconda3\\lib\\site-packages (from tensorflow-intel==2.13.0->tensorflow) (4.1.1)\n",
      "Requirement already satisfied: tensorflow-estimator<2.14,>=2.13.0 in c:\\users\\user\\anaconda3\\lib\\site-packages (from tensorflow-intel==2.13.0->tensorflow) (2.13.0)\n",
      "Requirement already satisfied: tensorboard<2.14,>=2.13 in c:\\users\\user\\anaconda3\\lib\\site-packages (from tensorflow-intel==2.13.0->tensorflow) (2.13.0)\n",
      "Requirement already satisfied: wrapt>=1.11.0 in c:\\users\\user\\anaconda3\\lib\\site-packages (from tensorflow-intel==2.13.0->tensorflow) (1.12.1)\n",
      "Requirement already satisfied: six>=1.12.0 in c:\\users\\user\\anaconda3\\lib\\site-packages (from tensorflow-intel==2.13.0->tensorflow) (1.16.0)\n",
      "Requirement already satisfied: absl-py>=1.0.0 in c:\\users\\user\\anaconda3\\lib\\site-packages (from tensorflow-intel==2.13.0->tensorflow) (1.4.0)\n",
      "Requirement already satisfied: astunparse>=1.6.0 in c:\\users\\user\\anaconda3\\lib\\site-packages (from tensorflow-intel==2.13.0->tensorflow) (1.6.3)\n",
      "Requirement already satisfied: flatbuffers>=23.1.21 in c:\\users\\user\\anaconda3\\lib\\site-packages (from tensorflow-intel==2.13.0->tensorflow) (23.5.26)\n",
      "Requirement already satisfied: tensorflow-io-gcs-filesystem>=0.23.1 in c:\\users\\user\\anaconda3\\lib\\site-packages (from tensorflow-intel==2.13.0->tensorflow) (0.31.0)\n",
      "Requirement already satisfied: setuptools in c:\\users\\user\\anaconda3\\lib\\site-packages (from tensorflow-intel==2.13.0->tensorflow) (61.2.0)\n",
      "Requirement already satisfied: wheel<1.0,>=0.23.0 in c:\\users\\user\\anaconda3\\lib\\site-packages (from astunparse>=1.6.0->tensorflow-intel==2.13.0->tensorflow) (0.37.1)\n",
      "Requirement already satisfied: werkzeug>=1.0.1 in c:\\users\\user\\anaconda3\\lib\\site-packages (from tensorboard<2.14,>=2.13->tensorflow-intel==2.13.0->tensorflow) (2.0.3)\n",
      "Requirement already satisfied: tensorboard-data-server<0.8.0,>=0.7.0 in c:\\users\\user\\anaconda3\\lib\\site-packages (from tensorboard<2.14,>=2.13->tensorflow-intel==2.13.0->tensorflow) (0.7.1)\n",
      "Requirement already satisfied: google-auth<3,>=1.6.3 in c:\\users\\user\\anaconda3\\lib\\site-packages (from tensorboard<2.14,>=2.13->tensorflow-intel==2.13.0->tensorflow) (2.23.0)\n",
      "Requirement already satisfied: markdown>=2.6.8 in c:\\users\\user\\anaconda3\\lib\\site-packages (from tensorboard<2.14,>=2.13->tensorflow-intel==2.13.0->tensorflow) (3.3.4)\n",
      "Requirement already satisfied: google-auth-oauthlib<1.1,>=0.5 in c:\\users\\user\\anaconda3\\lib\\site-packages (from tensorboard<2.14,>=2.13->tensorflow-intel==2.13.0->tensorflow) (1.0.0)\n",
      "Requirement already satisfied: requests<3,>=2.21.0 in c:\\users\\user\\anaconda3\\lib\\site-packages (from tensorboard<2.14,>=2.13->tensorflow-intel==2.13.0->tensorflow) (2.27.1)\n",
      "Requirement already satisfied: urllib3<2.0 in c:\\users\\user\\anaconda3\\lib\\site-packages (from google-auth<3,>=1.6.3->tensorboard<2.14,>=2.13->tensorflow-intel==2.13.0->tensorflow) (1.26.9)\n",
      "Requirement already satisfied: rsa<5,>=3.1.4 in c:\\users\\user\\anaconda3\\lib\\site-packages (from google-auth<3,>=1.6.3->tensorboard<2.14,>=2.13->tensorflow-intel==2.13.0->tensorflow) (4.7.2)\n",
      "Requirement already satisfied: cachetools<6.0,>=2.0.0 in c:\\users\\user\\anaconda3\\lib\\site-packages (from google-auth<3,>=1.6.3->tensorboard<2.14,>=2.13->tensorflow-intel==2.13.0->tensorflow) (4.2.2)\n",
      "Requirement already satisfied: pyasn1-modules>=0.2.1 in c:\\users\\user\\anaconda3\\lib\\site-packages (from google-auth<3,>=1.6.3->tensorboard<2.14,>=2.13->tensorflow-intel==2.13.0->tensorflow) (0.2.8)\n",
      "Requirement already satisfied: requests-oauthlib>=0.7.0 in c:\\users\\user\\anaconda3\\lib\\site-packages (from google-auth-oauthlib<1.1,>=0.5->tensorboard<2.14,>=2.13->tensorflow-intel==2.13.0->tensorflow) (1.3.1)\n",
      "Requirement already satisfied: pyasn1<0.5.0,>=0.4.6 in c:\\users\\user\\anaconda3\\lib\\site-packages (from pyasn1-modules>=0.2.1->google-auth<3,>=1.6.3->tensorboard<2.14,>=2.13->tensorflow-intel==2.13.0->tensorflow) (0.4.8)\n",
      "Requirement already satisfied: certifi>=2017.4.17 in c:\\users\\user\\anaconda3\\lib\\site-packages (from requests<3,>=2.21.0->tensorboard<2.14,>=2.13->tensorflow-intel==2.13.0->tensorflow) (2021.10.8)\n",
      "Requirement already satisfied: charset-normalizer~=2.0.0 in c:\\users\\user\\anaconda3\\lib\\site-packages (from requests<3,>=2.21.0->tensorboard<2.14,>=2.13->tensorflow-intel==2.13.0->tensorflow) (2.0.4)\n",
      "Requirement already satisfied: idna<4,>=2.5 in c:\\users\\user\\anaconda3\\lib\\site-packages (from requests<3,>=2.21.0->tensorboard<2.14,>=2.13->tensorflow-intel==2.13.0->tensorflow) (3.3)\n",
      "Requirement already satisfied: oauthlib>=3.0.0 in c:\\users\\user\\anaconda3\\lib\\site-packages (from requests-oauthlib>=0.7.0->google-auth-oauthlib<1.1,>=0.5->tensorboard<2.14,>=2.13->tensorflow-intel==2.13.0->tensorflow) (3.2.2)\n",
      "Requirement already satisfied: pyparsing!=3.0.5,>=2.0.2 in c:\\users\\user\\anaconda3\\lib\\site-packages (from packaging->tensorflow-intel==2.13.0->tensorflow) (3.0.4)\n"
     ]
    }
   ],
   "source": [
    "!pip install tensorflow # 반드시 tensorflow 먼저 설치"
   ]
  },
  {
   "cell_type": "code",
   "execution_count": 2,
   "id": "e4e23066",
   "metadata": {},
   "outputs": [
    {
     "name": "stdout",
     "output_type": "stream",
     "text": [
      "Requirement already satisfied: Keras in c:\\users\\user\\anaconda3\\lib\\site-packages (2.13.1)\n"
     ]
    }
   ],
   "source": [
    "!pip install Keras"
   ]
  },
  {
   "cell_type": "code",
   "execution_count": 3,
   "id": "290a23fa",
   "metadata": {},
   "outputs": [
    {
     "name": "stderr",
     "output_type": "stream",
     "text": [
      "C:\\Users\\User\\anaconda3\\lib\\site-packages\\scipy\\__init__.py:146: UserWarning: A NumPy version >=1.16.5 and <1.23.0 is required for this version of SciPy (detected version 1.24.3\n",
      "  warnings.warn(f\"A NumPy version >={np_minversion} and <{np_maxversion}\"\n"
     ]
    }
   ],
   "source": [
    "import tensorflow as tf"
   ]
  },
  {
   "cell_type": "code",
   "execution_count": 13,
   "id": "fb581a20",
   "metadata": {},
   "outputs": [],
   "source": [
    "from tensorflow.keras import layers  #모듈(변수나 함수를 포함)만 불러오기\n",
    "from sklearn.preprocessing import StandardScaler, MinMaxScaler  #표준 정규화, 최대-최소 정규화\n",
    "from keras.layers import Dropout"
   ]
  },
  {
   "cell_type": "code",
   "execution_count": 25,
   "id": "bf8b261e",
   "metadata": {},
   "outputs": [],
   "source": [
    "model = tf.keras.Sequential()  \n",
    "model.add(layers.Dense(64, input_shape=(18,)))  \n",
    "model.add(layers.Activation('relu'))  \n",
    "model.add(layers.Dense(32))         \n",
    "model.add(layers.Activation('relu'))\n",
    "model.add(layers.Dense(16))         \n",
    "model.add(layers.Activation('relu'))\n",
    "model.add(Dropout(0.2))\n",
    "model.add(layers.Dense(1))\n",
    "model.add(layers.Activation('linear')) \n",
    "\n",
    "# 모델 구축하기\n",
    "model.compile(\n",
    "        loss='mse',         # mean_squared_error(평균제곱오차)의 alias\n",
    "        optimizer='adam',   # 최적화 기법 중 하나\n",
    "        metrics=[\"mean_squared_error\",\"mean_absolute_error\"])    # 실험 후 관찰하고 싶은 metric 들을 나열함. "
   ]
  },
  {
   "cell_type": "code",
   "execution_count": 28,
   "id": "173f5d09",
   "metadata": {},
   "outputs": [
    {
     "name": "stdout",
     "output_type": "stream",
     "text": [
      "Epoch 1/100\n",
      "8/8 - 0s - loss: 705.5892 - mean_squared_error: 705.5892 - mean_absolute_error: 18.9271 - val_loss: 2073.1604 - val_mean_squared_error: 2073.1604 - val_mean_absolute_error: 32.3374 - 41ms/epoch - 5ms/step\n",
      "Epoch 2/100\n",
      "8/8 - 0s - loss: 672.1315 - mean_squared_error: 672.1315 - mean_absolute_error: 18.4031 - val_loss: 1687.6172 - val_mean_squared_error: 1687.6172 - val_mean_absolute_error: 27.3976 - 20ms/epoch - 2ms/step\n",
      "Epoch 3/100\n",
      "8/8 - 0s - loss: 776.3656 - mean_squared_error: 776.3656 - mean_absolute_error: 19.3172 - val_loss: 1869.5712 - val_mean_squared_error: 1869.5712 - val_mean_absolute_error: 29.9684 - 20ms/epoch - 2ms/step\n",
      "Epoch 4/100\n",
      "8/8 - 0s - loss: 797.8618 - mean_squared_error: 797.8618 - mean_absolute_error: 21.0612 - val_loss: 1945.1929 - val_mean_squared_error: 1945.1929 - val_mean_absolute_error: 31.1379 - 20ms/epoch - 2ms/step\n",
      "Epoch 5/100\n",
      "8/8 - 0s - loss: 743.0183 - mean_squared_error: 743.0183 - mean_absolute_error: 18.7390 - val_loss: 1772.1647 - val_mean_squared_error: 1772.1647 - val_mean_absolute_error: 28.8611 - 20ms/epoch - 2ms/step\n",
      "Epoch 6/100\n",
      "8/8 - 0s - loss: 640.2676 - mean_squared_error: 640.2676 - mean_absolute_error: 18.3111 - val_loss: 2118.9944 - val_mean_squared_error: 2118.9944 - val_mean_absolute_error: 33.5809 - 20ms/epoch - 2ms/step\n",
      "Epoch 7/100\n",
      "8/8 - 0s - loss: 748.0854 - mean_squared_error: 748.0854 - mean_absolute_error: 19.9815 - val_loss: 1663.3412 - val_mean_squared_error: 1663.3412 - val_mean_absolute_error: 27.5926 - 20ms/epoch - 3ms/step\n",
      "Epoch 8/100\n",
      "8/8 - 0s - loss: 732.4371 - mean_squared_error: 732.4371 - mean_absolute_error: 19.2815 - val_loss: 1842.9874 - val_mean_squared_error: 1842.9874 - val_mean_absolute_error: 30.0541 - 20ms/epoch - 3ms/step\n",
      "Epoch 9/100\n",
      "8/8 - 0s - loss: 873.0220 - mean_squared_error: 873.0220 - mean_absolute_error: 21.1230 - val_loss: 1960.0033 - val_mean_squared_error: 1960.0033 - val_mean_absolute_error: 31.4804 - 19ms/epoch - 2ms/step\n",
      "Epoch 10/100\n",
      "8/8 - 0s - loss: 749.0057 - mean_squared_error: 749.0057 - mean_absolute_error: 19.1119 - val_loss: 1650.1112 - val_mean_squared_error: 1650.1112 - val_mean_absolute_error: 27.5843 - 20ms/epoch - 2ms/step\n",
      "Epoch 11/100\n",
      "8/8 - 0s - loss: 722.9133 - mean_squared_error: 722.9133 - mean_absolute_error: 19.4654 - val_loss: 1807.5757 - val_mean_squared_error: 1807.5757 - val_mean_absolute_error: 29.6812 - 20ms/epoch - 2ms/step\n",
      "Epoch 12/100\n",
      "8/8 - 0s - loss: 725.3559 - mean_squared_error: 725.3559 - mean_absolute_error: 19.6202 - val_loss: 1681.0720 - val_mean_squared_error: 1681.0720 - val_mean_absolute_error: 28.0992 - 21ms/epoch - 3ms/step\n",
      "Epoch 13/100\n",
      "8/8 - 0s - loss: 706.0636 - mean_squared_error: 706.0636 - mean_absolute_error: 19.1975 - val_loss: 1674.4958 - val_mean_squared_error: 1674.4958 - val_mean_absolute_error: 28.0335 - 20ms/epoch - 2ms/step\n",
      "Epoch 14/100\n",
      "8/8 - 0s - loss: 665.6261 - mean_squared_error: 665.6261 - mean_absolute_error: 18.5137 - val_loss: 1929.4041 - val_mean_squared_error: 1929.4041 - val_mean_absolute_error: 31.4757 - 19ms/epoch - 2ms/step\n",
      "Epoch 15/100\n",
      "8/8 - 0s - loss: 667.7354 - mean_squared_error: 667.7354 - mean_absolute_error: 18.8842 - val_loss: 1536.1399 - val_mean_squared_error: 1536.1399 - val_mean_absolute_error: 26.3158 - 21ms/epoch - 3ms/step\n",
      "Epoch 16/100\n",
      "8/8 - 0s - loss: 778.5399 - mean_squared_error: 778.5399 - mean_absolute_error: 20.8698 - val_loss: 1790.7639 - val_mean_squared_error: 1790.7639 - val_mean_absolute_error: 29.8185 - 19ms/epoch - 2ms/step\n",
      "Epoch 17/100\n",
      "8/8 - 0s - loss: 826.3484 - mean_squared_error: 826.3484 - mean_absolute_error: 19.8853 - val_loss: 1823.4008 - val_mean_squared_error: 1823.4008 - val_mean_absolute_error: 30.2093 - 20ms/epoch - 2ms/step\n",
      "Epoch 18/100\n",
      "8/8 - 0s - loss: 642.7069 - mean_squared_error: 642.7069 - mean_absolute_error: 18.4245 - val_loss: 1563.1692 - val_mean_squared_error: 1563.1692 - val_mean_absolute_error: 26.7282 - 20ms/epoch - 3ms/step\n",
      "Epoch 19/100\n",
      "8/8 - 0s - loss: 850.0822 - mean_squared_error: 850.0822 - mean_absolute_error: 21.4653 - val_loss: 2178.3772 - val_mean_squared_error: 2178.3772 - val_mean_absolute_error: 34.5492 - 20ms/epoch - 3ms/step\n",
      "Epoch 20/100\n",
      "8/8 - 0s - loss: 860.5195 - mean_squared_error: 860.5195 - mean_absolute_error: 20.2234 - val_loss: 1443.8430 - val_mean_squared_error: 1443.8430 - val_mean_absolute_error: 25.0274 - 20ms/epoch - 2ms/step\n",
      "Epoch 21/100\n",
      "8/8 - 0s - loss: 583.3498 - mean_squared_error: 583.3498 - mean_absolute_error: 18.2176 - val_loss: 1902.1652 - val_mean_squared_error: 1902.1652 - val_mean_absolute_error: 30.8942 - 20ms/epoch - 3ms/step\n",
      "Epoch 22/100\n",
      "8/8 - 0s - loss: 905.1423 - mean_squared_error: 905.1423 - mean_absolute_error: 20.8197 - val_loss: 1548.6605 - val_mean_squared_error: 1548.6605 - val_mean_absolute_error: 26.2435 - 21ms/epoch - 3ms/step\n",
      "Epoch 23/100\n",
      "8/8 - 0s - loss: 623.9811 - mean_squared_error: 623.9811 - mean_absolute_error: 19.5794 - val_loss: 1592.6394 - val_mean_squared_error: 1592.6394 - val_mean_absolute_error: 26.8256 - 24ms/epoch - 3ms/step\n",
      "Epoch 24/100\n",
      "8/8 - 0s - loss: 816.3497 - mean_squared_error: 816.3497 - mean_absolute_error: 20.4227 - val_loss: 1680.5048 - val_mean_squared_error: 1680.5048 - val_mean_absolute_error: 28.3957 - 19ms/epoch - 2ms/step\n",
      "Epoch 25/100\n",
      "8/8 - 0s - loss: 762.8232 - mean_squared_error: 762.8232 - mean_absolute_error: 19.6239 - val_loss: 1644.1544 - val_mean_squared_error: 1644.1544 - val_mean_absolute_error: 28.0041 - 20ms/epoch - 2ms/step\n",
      "Epoch 26/100\n",
      "8/8 - 0s - loss: 755.9810 - mean_squared_error: 755.9810 - mean_absolute_error: 19.5954 - val_loss: 1837.0765 - val_mean_squared_error: 1837.0765 - val_mean_absolute_error: 30.5564 - 20ms/epoch - 2ms/step\n",
      "Epoch 27/100\n",
      "8/8 - 0s - loss: 687.8493 - mean_squared_error: 687.8493 - mean_absolute_error: 19.3247 - val_loss: 1708.1432 - val_mean_squared_error: 1708.1432 - val_mean_absolute_error: 29.3330 - 19ms/epoch - 2ms/step\n",
      "Epoch 28/100\n",
      "8/8 - 0s - loss: 705.8683 - mean_squared_error: 705.8683 - mean_absolute_error: 19.1305 - val_loss: 1612.5417 - val_mean_squared_error: 1612.5417 - val_mean_absolute_error: 28.0817 - 20ms/epoch - 3ms/step\n",
      "Epoch 29/100\n",
      "8/8 - 0s - loss: 806.1683 - mean_squared_error: 806.1683 - mean_absolute_error: 20.3446 - val_loss: 1710.9832 - val_mean_squared_error: 1710.9832 - val_mean_absolute_error: 29.4408 - 20ms/epoch - 2ms/step\n",
      "Epoch 30/100\n",
      "8/8 - 0s - loss: 618.8038 - mean_squared_error: 618.8038 - mean_absolute_error: 18.0937 - val_loss: 1372.4047 - val_mean_squared_error: 1372.4047 - val_mean_absolute_error: 24.9921 - 21ms/epoch - 3ms/step\n",
      "Epoch 31/100\n",
      "8/8 - 0s - loss: 762.9957 - mean_squared_error: 762.9957 - mean_absolute_error: 20.5687 - val_loss: 1780.4407 - val_mean_squared_error: 1780.4407 - val_mean_absolute_error: 30.2246 - 19ms/epoch - 2ms/step\n",
      "Epoch 32/100\n",
      "8/8 - 0s - loss: 698.3196 - mean_squared_error: 698.3196 - mean_absolute_error: 18.4074 - val_loss: 1405.8203 - val_mean_squared_error: 1405.8203 - val_mean_absolute_error: 25.4998 - 19ms/epoch - 2ms/step\n",
      "Epoch 33/100\n",
      "8/8 - 0s - loss: 656.4786 - mean_squared_error: 656.4786 - mean_absolute_error: 18.8549 - val_loss: 1745.1479 - val_mean_squared_error: 1745.1479 - val_mean_absolute_error: 30.0146 - 19ms/epoch - 2ms/step\n",
      "Epoch 34/100\n",
      "8/8 - 0s - loss: 643.8805 - mean_squared_error: 643.8805 - mean_absolute_error: 18.7374 - val_loss: 1360.5000 - val_mean_squared_error: 1360.5000 - val_mean_absolute_error: 24.9453 - 21ms/epoch - 3ms/step\n",
      "Epoch 35/100\n",
      "8/8 - 0s - loss: 649.9442 - mean_squared_error: 649.9442 - mean_absolute_error: 19.6277 - val_loss: 1887.7217 - val_mean_squared_error: 1887.7217 - val_mean_absolute_error: 31.9417 - 20ms/epoch - 2ms/step\n",
      "Epoch 36/100\n",
      "8/8 - 0s - loss: 708.3943 - mean_squared_error: 708.3943 - mean_absolute_error: 19.7627 - val_loss: 1343.3123 - val_mean_squared_error: 1343.3123 - val_mean_absolute_error: 24.6840 - 20ms/epoch - 3ms/step\n",
      "Epoch 37/100\n",
      "8/8 - 0s - loss: 716.7343 - mean_squared_error: 716.7343 - mean_absolute_error: 19.0520 - val_loss: 1764.0587 - val_mean_squared_error: 1764.0587 - val_mean_absolute_error: 29.8332 - 20ms/epoch - 2ms/step\n",
      "Epoch 38/100\n",
      "8/8 - 0s - loss: 617.0165 - mean_squared_error: 617.0165 - mean_absolute_error: 17.4695 - val_loss: 1400.2430 - val_mean_squared_error: 1400.2430 - val_mean_absolute_error: 25.3589 - 20ms/epoch - 3ms/step\n"
     ]
    },
    {
     "name": "stdout",
     "output_type": "stream",
     "text": [
      "Epoch 39/100\n",
      "8/8 - 0s - loss: 691.3537 - mean_squared_error: 691.3537 - mean_absolute_error: 19.6143 - val_loss: 1633.2285 - val_mean_squared_error: 1633.2285 - val_mean_absolute_error: 28.6348 - 20ms/epoch - 3ms/step\n",
      "Epoch 40/100\n",
      "8/8 - 0s - loss: 808.9601 - mean_squared_error: 808.9601 - mean_absolute_error: 19.3987 - val_loss: 1584.4219 - val_mean_squared_error: 1584.4219 - val_mean_absolute_error: 28.1098 - 20ms/epoch - 2ms/step\n",
      "Epoch 41/100\n",
      "8/8 - 0s - loss: 768.4789 - mean_squared_error: 768.4789 - mean_absolute_error: 19.5568 - val_loss: 1673.1893 - val_mean_squared_error: 1673.1893 - val_mean_absolute_error: 29.4109 - 21ms/epoch - 3ms/step\n",
      "Epoch 42/100\n",
      "8/8 - 0s - loss: 725.5082 - mean_squared_error: 725.5082 - mean_absolute_error: 19.6643 - val_loss: 1346.5906 - val_mean_squared_error: 1346.5906 - val_mean_absolute_error: 25.1924 - 20ms/epoch - 2ms/step\n",
      "Epoch 43/100\n",
      "8/8 - 0s - loss: 730.9243 - mean_squared_error: 730.9243 - mean_absolute_error: 19.9189 - val_loss: 1778.5061 - val_mean_squared_error: 1778.5061 - val_mean_absolute_error: 30.8217 - 21ms/epoch - 3ms/step\n",
      "Epoch 44/100\n",
      "8/8 - 0s - loss: 729.1414 - mean_squared_error: 729.1414 - mean_absolute_error: 19.4988 - val_loss: 1515.3275 - val_mean_squared_error: 1515.3275 - val_mean_absolute_error: 27.5006 - 20ms/epoch - 2ms/step\n",
      "Epoch 45/100\n",
      "8/8 - 0s - loss: 699.6003 - mean_squared_error: 699.6003 - mean_absolute_error: 19.2776 - val_loss: 1590.2292 - val_mean_squared_error: 1590.2292 - val_mean_absolute_error: 28.5999 - 20ms/epoch - 3ms/step\n",
      "Epoch 46/100\n",
      "8/8 - 0s - loss: 715.4453 - mean_squared_error: 715.4453 - mean_absolute_error: 19.1963 - val_loss: 1411.1765 - val_mean_squared_error: 1411.1765 - val_mean_absolute_error: 26.2015 - 19ms/epoch - 2ms/step\n",
      "Epoch 47/100\n",
      "8/8 - 0s - loss: 639.0513 - mean_squared_error: 639.0513 - mean_absolute_error: 17.8765 - val_loss: 1643.7618 - val_mean_squared_error: 1643.7618 - val_mean_absolute_error: 29.0979 - 20ms/epoch - 3ms/step\n",
      "Epoch 48/100\n",
      "8/8 - 0s - loss: 776.3191 - mean_squared_error: 776.3191 - mean_absolute_error: 20.2760 - val_loss: 1572.3298 - val_mean_squared_error: 1572.3298 - val_mean_absolute_error: 28.2688 - 19ms/epoch - 2ms/step\n",
      "Epoch 49/100\n",
      "8/8 - 0s - loss: 730.1968 - mean_squared_error: 730.1968 - mean_absolute_error: 19.0003 - val_loss: 1300.5957 - val_mean_squared_error: 1300.5957 - val_mean_absolute_error: 24.7879 - 20ms/epoch - 2ms/step\n",
      "Epoch 50/100\n",
      "8/8 - 0s - loss: 765.9118 - mean_squared_error: 765.9118 - mean_absolute_error: 20.6142 - val_loss: 1615.8312 - val_mean_squared_error: 1615.8312 - val_mean_absolute_error: 28.7253 - 20ms/epoch - 2ms/step\n",
      "Epoch 51/100\n",
      "8/8 - 0s - loss: 620.4333 - mean_squared_error: 620.4333 - mean_absolute_error: 18.2458 - val_loss: 1390.4265 - val_mean_squared_error: 1390.4265 - val_mean_absolute_error: 25.9592 - 19ms/epoch - 2ms/step\n",
      "Epoch 52/100\n",
      "8/8 - 0s - loss: 722.8054 - mean_squared_error: 722.8054 - mean_absolute_error: 19.3805 - val_loss: 1763.8312 - val_mean_squared_error: 1763.8312 - val_mean_absolute_error: 30.5410 - 21ms/epoch - 3ms/step\n",
      "Epoch 53/100\n",
      "8/8 - 0s - loss: 841.2770 - mean_squared_error: 841.2770 - mean_absolute_error: 20.3007 - val_loss: 1455.4318 - val_mean_squared_error: 1455.4318 - val_mean_absolute_error: 26.7511 - 20ms/epoch - 2ms/step\n",
      "Epoch 54/100\n",
      "8/8 - 0s - loss: 725.6514 - mean_squared_error: 725.6514 - mean_absolute_error: 19.3915 - val_loss: 1547.7133 - val_mean_squared_error: 1547.7133 - val_mean_absolute_error: 28.0061 - 20ms/epoch - 3ms/step\n",
      "Epoch 55/100\n",
      "8/8 - 0s - loss: 624.5526 - mean_squared_error: 624.5526 - mean_absolute_error: 17.7165 - val_loss: 1279.9839 - val_mean_squared_error: 1279.9839 - val_mean_absolute_error: 24.5585 - 19ms/epoch - 2ms/step\n",
      "Epoch 56/100\n",
      "8/8 - 0s - loss: 720.4653 - mean_squared_error: 720.4653 - mean_absolute_error: 19.2728 - val_loss: 1554.5427 - val_mean_squared_error: 1554.5427 - val_mean_absolute_error: 28.2505 - 20ms/epoch - 2ms/step\n",
      "Epoch 57/100\n",
      "8/8 - 0s - loss: 603.6156 - mean_squared_error: 603.6156 - mean_absolute_error: 18.0203 - val_loss: 1345.3768 - val_mean_squared_error: 1345.3768 - val_mean_absolute_error: 25.6849 - 20ms/epoch - 3ms/step\n",
      "Epoch 58/100\n",
      "8/8 - 0s - loss: 734.6161 - mean_squared_error: 734.6161 - mean_absolute_error: 18.5544 - val_loss: 1584.1040 - val_mean_squared_error: 1584.1040 - val_mean_absolute_error: 29.0099 - 21ms/epoch - 3ms/step\n",
      "Epoch 59/100\n",
      "8/8 - 0s - loss: 751.4893 - mean_squared_error: 751.4893 - mean_absolute_error: 19.3935 - val_loss: 1369.3219 - val_mean_squared_error: 1369.3219 - val_mean_absolute_error: 25.8688 - 20ms/epoch - 3ms/step\n",
      "Epoch 60/100\n",
      "8/8 - 0s - loss: 737.5377 - mean_squared_error: 737.5377 - mean_absolute_error: 20.0606 - val_loss: 1574.4882 - val_mean_squared_error: 1574.4882 - val_mean_absolute_error: 28.5464 - 20ms/epoch - 3ms/step\n",
      "Epoch 61/100\n",
      "8/8 - 0s - loss: 743.1779 - mean_squared_error: 743.1779 - mean_absolute_error: 20.1231 - val_loss: 1573.9618 - val_mean_squared_error: 1573.9618 - val_mean_absolute_error: 28.8496 - 20ms/epoch - 2ms/step\n",
      "Epoch 62/100\n",
      "8/8 - 0s - loss: 652.4229 - mean_squared_error: 652.4229 - mean_absolute_error: 17.8208 - val_loss: 1140.2728 - val_mean_squared_error: 1140.2728 - val_mean_absolute_error: 23.0591 - 21ms/epoch - 3ms/step\n",
      "Epoch 63/100\n",
      "8/8 - 0s - loss: 706.4587 - mean_squared_error: 706.4587 - mean_absolute_error: 20.0623 - val_loss: 1848.9893 - val_mean_squared_error: 1848.9893 - val_mean_absolute_error: 31.9798 - 19ms/epoch - 2ms/step\n",
      "Epoch 64/100\n",
      "8/8 - 0s - loss: 647.7430 - mean_squared_error: 647.7430 - mean_absolute_error: 18.9616 - val_loss: 1188.6017 - val_mean_squared_error: 1188.6017 - val_mean_absolute_error: 23.6403 - 21ms/epoch - 3ms/step\n",
      "Epoch 65/100\n",
      "8/8 - 0s - loss: 629.6319 - mean_squared_error: 629.6319 - mean_absolute_error: 19.0237 - val_loss: 1643.3721 - val_mean_squared_error: 1643.3721 - val_mean_absolute_error: 29.7175 - 20ms/epoch - 2ms/step\n",
      "Epoch 66/100\n",
      "8/8 - 0s - loss: 652.6136 - mean_squared_error: 652.6136 - mean_absolute_error: 18.5592 - val_loss: 1574.7686 - val_mean_squared_error: 1574.7686 - val_mean_absolute_error: 28.6122 - 21ms/epoch - 3ms/step\n",
      "Epoch 67/100\n",
      "8/8 - 0s - loss: 704.7715 - mean_squared_error: 704.7715 - mean_absolute_error: 18.6383 - val_loss: 1354.7516 - val_mean_squared_error: 1354.7516 - val_mean_absolute_error: 25.6911 - 20ms/epoch - 2ms/step\n",
      "Epoch 68/100\n",
      "8/8 - 0s - loss: 713.6699 - mean_squared_error: 713.6699 - mean_absolute_error: 19.1673 - val_loss: 1525.5062 - val_mean_squared_error: 1525.5062 - val_mean_absolute_error: 27.8842 - 19ms/epoch - 2ms/step\n",
      "Epoch 69/100\n",
      "8/8 - 0s - loss: 714.0812 - mean_squared_error: 714.0812 - mean_absolute_error: 18.7307 - val_loss: 1455.4221 - val_mean_squared_error: 1455.4221 - val_mean_absolute_error: 26.9163 - 20ms/epoch - 3ms/step\n",
      "Epoch 70/100\n",
      "8/8 - 0s - loss: 630.4627 - mean_squared_error: 630.4627 - mean_absolute_error: 18.3725 - val_loss: 1548.7595 - val_mean_squared_error: 1548.7595 - val_mean_absolute_error: 27.9306 - 20ms/epoch - 3ms/step\n",
      "Epoch 71/100\n",
      "8/8 - 0s - loss: 616.0412 - mean_squared_error: 616.0412 - mean_absolute_error: 18.2888 - val_loss: 1418.9214 - val_mean_squared_error: 1418.9214 - val_mean_absolute_error: 26.3025 - 20ms/epoch - 3ms/step\n",
      "Epoch 72/100\n",
      "8/8 - 0s - loss: 521.5098 - mean_squared_error: 521.5098 - mean_absolute_error: 17.3986 - val_loss: 1671.6887 - val_mean_squared_error: 1671.6887 - val_mean_absolute_error: 29.8012 - 20ms/epoch - 2ms/step\n",
      "Epoch 73/100\n",
      "8/8 - 0s - loss: 637.8004 - mean_squared_error: 637.8004 - mean_absolute_error: 18.2565 - val_loss: 1273.0280 - val_mean_squared_error: 1273.0280 - val_mean_absolute_error: 24.4906 - 21ms/epoch - 3ms/step\n",
      "Epoch 74/100\n",
      "8/8 - 0s - loss: 775.1464 - mean_squared_error: 775.1464 - mean_absolute_error: 19.4242 - val_loss: 1410.7208 - val_mean_squared_error: 1410.7208 - val_mean_absolute_error: 26.3855 - 19ms/epoch - 2ms/step\n",
      "Epoch 75/100\n",
      "8/8 - 0s - loss: 736.1282 - mean_squared_error: 736.1282 - mean_absolute_error: 20.0986 - val_loss: 1614.5438 - val_mean_squared_error: 1614.5438 - val_mean_absolute_error: 28.9167 - 20ms/epoch - 3ms/step\n",
      "Epoch 76/100\n",
      "8/8 - 0s - loss: 617.9265 - mean_squared_error: 617.9265 - mean_absolute_error: 17.8228 - val_loss: 1406.4795 - val_mean_squared_error: 1406.4795 - val_mean_absolute_error: 26.2284 - 21ms/epoch - 3ms/step\n"
     ]
    },
    {
     "name": "stdout",
     "output_type": "stream",
     "text": [
      "Epoch 77/100\n",
      "8/8 - 0s - loss: 690.4227 - mean_squared_error: 690.4227 - mean_absolute_error: 18.0350 - val_loss: 1421.1964 - val_mean_squared_error: 1421.1964 - val_mean_absolute_error: 26.3068 - 20ms/epoch - 2ms/step\n",
      "Epoch 78/100\n",
      "8/8 - 0s - loss: 731.3848 - mean_squared_error: 731.3848 - mean_absolute_error: 19.9278 - val_loss: 1609.0778 - val_mean_squared_error: 1609.0778 - val_mean_absolute_error: 28.9719 - 19ms/epoch - 2ms/step\n",
      "Epoch 79/100\n",
      "8/8 - 0s - loss: 693.0886 - mean_squared_error: 693.0886 - mean_absolute_error: 19.0857 - val_loss: 1203.2948 - val_mean_squared_error: 1203.2948 - val_mean_absolute_error: 23.6051 - 19ms/epoch - 2ms/step\n",
      "Epoch 80/100\n",
      "8/8 - 0s - loss: 739.4136 - mean_squared_error: 739.4136 - mean_absolute_error: 20.1577 - val_loss: 1760.3114 - val_mean_squared_error: 1760.3114 - val_mean_absolute_error: 30.9488 - 21ms/epoch - 3ms/step\n",
      "Epoch 81/100\n",
      "8/8 - 0s - loss: 730.9603 - mean_squared_error: 730.9603 - mean_absolute_error: 17.8410 - val_loss: 1240.6309 - val_mean_squared_error: 1240.6309 - val_mean_absolute_error: 24.0265 - 20ms/epoch - 2ms/step\n",
      "Epoch 82/100\n",
      "8/8 - 0s - loss: 794.3936 - mean_squared_error: 794.3936 - mean_absolute_error: 20.2231 - val_loss: 1570.4507 - val_mean_squared_error: 1570.4507 - val_mean_absolute_error: 28.6255 - 19ms/epoch - 2ms/step\n",
      "Epoch 83/100\n",
      "8/8 - 0s - loss: 741.8846 - mean_squared_error: 741.8846 - mean_absolute_error: 19.5630 - val_loss: 1398.3619 - val_mean_squared_error: 1398.3619 - val_mean_absolute_error: 26.3107 - 20ms/epoch - 3ms/step\n",
      "Epoch 84/100\n",
      "8/8 - 0s - loss: 614.3988 - mean_squared_error: 614.3988 - mean_absolute_error: 17.6421 - val_loss: 1375.3461 - val_mean_squared_error: 1375.3461 - val_mean_absolute_error: 26.1898 - 20ms/epoch - 2ms/step\n",
      "Epoch 85/100\n",
      "8/8 - 0s - loss: 819.9311 - mean_squared_error: 819.9311 - mean_absolute_error: 20.7764 - val_loss: 1446.3419 - val_mean_squared_error: 1446.3419 - val_mean_absolute_error: 27.0748 - 20ms/epoch - 3ms/step\n",
      "Epoch 86/100\n",
      "8/8 - 0s - loss: 816.8955 - mean_squared_error: 816.8955 - mean_absolute_error: 19.9139 - val_loss: 1445.8135 - val_mean_squared_error: 1445.8135 - val_mean_absolute_error: 26.8934 - 20ms/epoch - 2ms/step\n",
      "Epoch 87/100\n",
      "8/8 - 0s - loss: 610.2432 - mean_squared_error: 610.2432 - mean_absolute_error: 17.5506 - val_loss: 1415.1082 - val_mean_squared_error: 1415.1082 - val_mean_absolute_error: 26.4586 - 20ms/epoch - 2ms/step\n",
      "Epoch 88/100\n",
      "8/8 - 0s - loss: 644.5436 - mean_squared_error: 644.5436 - mean_absolute_error: 18.1427 - val_loss: 1329.0110 - val_mean_squared_error: 1329.0110 - val_mean_absolute_error: 25.4518 - 20ms/epoch - 2ms/step\n",
      "Epoch 89/100\n",
      "8/8 - 0s - loss: 631.0324 - mean_squared_error: 631.0324 - mean_absolute_error: 18.7596 - val_loss: 1780.0660 - val_mean_squared_error: 1780.0660 - val_mean_absolute_error: 31.4582 - 20ms/epoch - 3ms/step\n",
      "Epoch 90/100\n",
      "8/8 - 0s - loss: 627.0234 - mean_squared_error: 627.0234 - mean_absolute_error: 18.1604 - val_loss: 1169.6295 - val_mean_squared_error: 1169.6295 - val_mean_absolute_error: 23.1932 - 19ms/epoch - 2ms/step\n",
      "Epoch 91/100\n",
      "8/8 - 0s - loss: 621.7412 - mean_squared_error: 621.7412 - mean_absolute_error: 18.3664 - val_loss: 1579.7723 - val_mean_squared_error: 1579.7723 - val_mean_absolute_error: 28.7131 - 22ms/epoch - 3ms/step\n",
      "Epoch 92/100\n",
      "8/8 - 0s - loss: 642.5386 - mean_squared_error: 642.5386 - mean_absolute_error: 17.4952 - val_loss: 1249.8369 - val_mean_squared_error: 1249.8369 - val_mean_absolute_error: 24.3371 - 21ms/epoch - 3ms/step\n",
      "Epoch 93/100\n",
      "8/8 - 0s - loss: 648.0654 - mean_squared_error: 648.0654 - mean_absolute_error: 19.1818 - val_loss: 1391.9178 - val_mean_squared_error: 1391.9178 - val_mean_absolute_error: 26.4980 - 20ms/epoch - 2ms/step\n",
      "Epoch 94/100\n",
      "8/8 - 0s - loss: 711.2444 - mean_squared_error: 711.2444 - mean_absolute_error: 18.9052 - val_loss: 1420.1392 - val_mean_squared_error: 1420.1392 - val_mean_absolute_error: 26.9504 - 20ms/epoch - 2ms/step\n",
      "Epoch 95/100\n",
      "8/8 - 0s - loss: 613.2622 - mean_squared_error: 613.2622 - mean_absolute_error: 17.0687 - val_loss: 1304.9379 - val_mean_squared_error: 1304.9379 - val_mean_absolute_error: 25.2871 - 20ms/epoch - 3ms/step\n",
      "Epoch 96/100\n",
      "8/8 - 0s - loss: 617.9633 - mean_squared_error: 617.9633 - mean_absolute_error: 17.7681 - val_loss: 1291.9055 - val_mean_squared_error: 1291.9055 - val_mean_absolute_error: 25.0577 - 19ms/epoch - 2ms/step\n",
      "Epoch 97/100\n",
      "8/8 - 0s - loss: 642.0120 - mean_squared_error: 642.0120 - mean_absolute_error: 18.2211 - val_loss: 1421.8965 - val_mean_squared_error: 1421.8965 - val_mean_absolute_error: 26.7437 - 19ms/epoch - 2ms/step\n",
      "Epoch 98/100\n",
      "8/8 - 0s - loss: 612.6270 - mean_squared_error: 612.6270 - mean_absolute_error: 17.4828 - val_loss: 1153.1030 - val_mean_squared_error: 1153.1030 - val_mean_absolute_error: 22.9915 - 20ms/epoch - 3ms/step\n",
      "Epoch 99/100\n",
      "8/8 - 0s - loss: 693.0264 - mean_squared_error: 693.0264 - mean_absolute_error: 18.4932 - val_loss: 1692.3650 - val_mean_squared_error: 1692.3650 - val_mean_absolute_error: 30.3791 - 20ms/epoch - 2ms/step\n",
      "Epoch 100/100\n",
      "8/8 - 0s - loss: 579.1456 - mean_squared_error: 579.1456 - mean_absolute_error: 17.2702 - val_loss: 1105.7770 - val_mean_squared_error: 1105.7770 - val_mean_absolute_error: 22.5801 - 19ms/epoch - 2ms/step\n",
      "2/2 [==============================] - 0s 2ms/step - loss: 673.7594 - mean_squared_error: 673.7594 - mean_absolute_error: 21.9275\n",
      "test_loss:  673.7593994140625\n",
      "test_mae:  673.7593994140625\n"
     ]
    }
   ],
   "source": [
    "hist = model.fit(\n",
    "    SC_train_x, SC_train_y,   \n",
    "    epochs=100,       \n",
    "    validation_split=0.2,   \n",
    "    verbose=2) \n",
    "\n",
    "# 테스트 데이터 입력\n",
    "scores = model.evaluate(SC_test_x, SC_test_y)\n",
    "print('test_loss: ', scores[0])\n",
    "print('test_mae: ', scores[1])"
   ]
  },
  {
   "cell_type": "code",
   "execution_count": 27,
   "id": "3dfb8d57",
   "metadata": {},
   "outputs": [
    {
     "name": "stdout",
     "output_type": "stream",
     "text": [
      "Model: \"sequential_3\"\n",
      "_________________________________________________________________\n",
      " Layer (type)                Output Shape              Param #   \n",
      "=================================================================\n",
      " dense_11 (Dense)            (None, 64)                1216      \n",
      "                                                                 \n",
      " activation_11 (Activation)  (None, 64)                0         \n",
      "                                                                 \n",
      " dense_12 (Dense)            (None, 32)                2080      \n",
      "                                                                 \n",
      " activation_12 (Activation)  (None, 32)                0         \n",
      "                                                                 \n",
      " dense_13 (Dense)            (None, 16)                528       \n",
      "                                                                 \n",
      " activation_13 (Activation)  (None, 16)                0         \n",
      "                                                                 \n",
      " dropout_2 (Dropout)         (None, 16)                0         \n",
      "                                                                 \n",
      " dense_14 (Dense)            (None, 1)                 17        \n",
      "                                                                 \n",
      " activation_14 (Activation)  (None, 1)                 0         \n",
      "                                                                 \n",
      "=================================================================\n",
      "Total params: 3841 (15.00 KB)\n",
      "Trainable params: 3841 (15.00 KB)\n",
      "Non-trainable params: 0 (0.00 Byte)\n",
      "_________________________________________________________________\n"
     ]
    }
   ],
   "source": [
    "model.summary()"
   ]
  },
  {
   "cell_type": "code",
   "execution_count": 30,
   "id": "81f37a80",
   "metadata": {},
   "outputs": [],
   "source": [
    "## Convolutional Neural Network"
   ]
  },
  {
   "cell_type": "code",
   "execution_count": null,
   "id": "2c88a175",
   "metadata": {},
   "outputs": [],
   "source": []
  },
  {
   "cell_type": "code",
   "execution_count": null,
   "id": "0a2c61b2",
   "metadata": {},
   "outputs": [],
   "source": []
  },
  {
   "cell_type": "code",
   "execution_count": null,
   "id": "cb28b21c",
   "metadata": {},
   "outputs": [],
   "source": []
  },
  {
   "cell_type": "code",
   "execution_count": null,
   "id": "41a0bdb0",
   "metadata": {},
   "outputs": [],
   "source": []
  },
  {
   "cell_type": "code",
   "execution_count": null,
   "id": "b60469b1",
   "metadata": {},
   "outputs": [],
   "source": []
  },
  {
   "cell_type": "code",
   "execution_count": null,
   "id": "22e20f98",
   "metadata": {},
   "outputs": [],
   "source": []
  },
  {
   "cell_type": "code",
   "execution_count": null,
   "id": "635dc6b5",
   "metadata": {},
   "outputs": [],
   "source": []
  },
  {
   "cell_type": "code",
   "execution_count": null,
   "id": "a9c54fae",
   "metadata": {},
   "outputs": [],
   "source": []
  },
  {
   "cell_type": "code",
   "execution_count": null,
   "id": "e869f180",
   "metadata": {},
   "outputs": [],
   "source": []
  },
  {
   "cell_type": "code",
   "execution_count": null,
   "id": "bededef0",
   "metadata": {},
   "outputs": [],
   "source": []
  },
  {
   "cell_type": "code",
   "execution_count": null,
   "id": "e1480489",
   "metadata": {},
   "outputs": [],
   "source": []
  }
 ],
 "metadata": {
  "kernelspec": {
   "display_name": "Python 3 (ipykernel)",
   "language": "python",
   "name": "python3"
  },
  "language_info": {
   "codemirror_mode": {
    "name": "ipython",
    "version": 3
   },
   "file_extension": ".py",
   "mimetype": "text/x-python",
   "name": "python",
   "nbconvert_exporter": "python",
   "pygments_lexer": "ipython3",
   "version": "3.9.12"
  }
 },
 "nbformat": 4,
 "nbformat_minor": 5
}
